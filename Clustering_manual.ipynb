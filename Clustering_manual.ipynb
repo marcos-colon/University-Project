{
 "cells": [
  {
   "cell_type": "markdown",
   "metadata": {
    "id": "DjAmyJ23xb8L"
   },
   "source": [
    "# Clustering"
   ]
  },
  {
   "cell_type": "markdown",
   "metadata": {},
   "source": [
    "## Problem Statement"
   ]
  },
  {
   "cell_type": "markdown",
   "metadata": {},
   "source": [
    "Students have to evaluate a lot of factors before taking a decision to join a university for their higher education requirements.\n",
    "The objective of this project is to simplify the process of applying for appropriate universities which are of similar nature. "
   ]
  },
  {
   "cell_type": "markdown",
   "metadata": {},
   "source": [
    "`CRISP-ML(Q)` process model describes six phases:\n",
    "\n",
    "1. Business and Data Understanding\n",
    "2. Data Preparation\n",
    "3. Model Building\n",
    "4. Model Evaluation\n",
    "5. Deployment\n",
    "6. Monitoring and Maintenance"
   ]
  },
  {
   "cell_type": "markdown",
   "metadata": {},
   "source": [
    "**Objective(s):** Maximize the convenience of admission process\n",
    "\n",
    "**Constraints:** Minimize the brain drain\n"
   ]
  },
  {
   "cell_type": "markdown",
   "metadata": {},
   "source": [
    "**Success Criteria**\n",
    "\n",
    "- **Business Success Criteria**: Reduce the application process time from anywhere between 20% to 40%\n",
    "\n",
    "- **ML Success Criteria**: Achieve Silhoutte coefficient of atleast 0.6\n",
    "\n",
    "- **Economic Success Criteria**: US Higher education department will see an increase in revenues by atleast 30%\n",
    "\n",
    "**Proposed Plan:**\n",
    "Grouping the available universities will allow to understand the characteristics of each group."
   ]
  },
  {
   "cell_type": "code",
   "execution_count": null,
   "metadata": {},
   "outputs": [],
   "source": []
  },
  {
   "cell_type": "markdown",
   "metadata": {},
   "source": [
    "## Data Collection"
   ]
  },
  {
   "cell_type": "markdown",
   "metadata": {},
   "source": [
    "Data: \n",
    "   The university details are obtained from the US Higher Education Body and is publicly available for students to access.\n",
    "\n",
    "Data Dictionary:\n",
    "- Dataset contains 25 university details\n",
    "- 7 features are recorded for each university\n",
    "\n",
    "Description:\n",
    "- Univ - University Name\n",
    "- State - Location (state) of the university\n",
    "- SAT - Average SAT score for eligibility\n",
    "- Top10 - % of students who ranked in top 10 in their previous academics\n",
    "- Accept - % of students admitted to the universities\n",
    "- SFRatio - Student to Faculty ratio\n",
    "- Expenses - Overall cost in USD\n",
    "- GradRate - % of students who graduate"
   ]
  },
  {
   "cell_type": "code",
   "execution_count": 1,
   "metadata": {},
   "outputs": [
    {
     "name": "stdout",
     "output_type": "stream",
     "text": [
      "Collecting feature_engine\n",
      "  Downloading feature_engine-1.6.2-py2.py3-none-any.whl (328 kB)\n",
      "     -------------------------------------- 328.9/328.9 kB 3.4 MB/s eta 0:00:00\n",
      "Requirement already satisfied: pandas>=1.0.3 in c:\\users\\marco\\anaconda3\\lib\\site-packages (from feature_engine) (1.5.3)\n",
      "Requirement already satisfied: scikit-learn>=1.0.0 in c:\\users\\marco\\anaconda3\\lib\\site-packages (from feature_engine) (1.2.1)\n",
      "Requirement already satisfied: statsmodels>=0.11.1 in c:\\users\\marco\\anaconda3\\lib\\site-packages (from feature_engine) (0.13.5)\n",
      "Requirement already satisfied: scipy>=1.4.1 in c:\\users\\marco\\anaconda3\\lib\\site-packages (from feature_engine) (1.10.0)\n",
      "Requirement already satisfied: numpy>=1.18.2 in c:\\users\\marco\\anaconda3\\lib\\site-packages (from feature_engine) (1.23.5)\n",
      "Requirement already satisfied: python-dateutil>=2.8.1 in c:\\users\\marco\\anaconda3\\lib\\site-packages (from pandas>=1.0.3->feature_engine) (2.8.2)\n",
      "Requirement already satisfied: pytz>=2020.1 in c:\\users\\marco\\anaconda3\\lib\\site-packages (from pandas>=1.0.3->feature_engine) (2022.7)\n",
      "Requirement already satisfied: threadpoolctl>=2.0.0 in c:\\users\\marco\\anaconda3\\lib\\site-packages (from scikit-learn>=1.0.0->feature_engine) (2.2.0)\n",
      "Requirement already satisfied: joblib>=1.1.1 in c:\\users\\marco\\anaconda3\\lib\\site-packages (from scikit-learn>=1.0.0->feature_engine) (1.1.1)\n",
      "Requirement already satisfied: packaging>=21.3 in c:\\users\\marco\\anaconda3\\lib\\site-packages (from statsmodels>=0.11.1->feature_engine) (22.0)\n",
      "Requirement already satisfied: patsy>=0.5.2 in c:\\users\\marco\\anaconda3\\lib\\site-packages (from statsmodels>=0.11.1->feature_engine) (0.5.3)\n",
      "Requirement already satisfied: six in c:\\users\\marco\\anaconda3\\lib\\site-packages (from patsy>=0.5.2->statsmodels>=0.11.1->feature_engine) (1.16.0)\n",
      "Installing collected packages: feature_engine\n",
      "Successfully installed feature_engine-1.6.2\n"
     ]
    }
   ],
   "source": [
    "!pip install feature_engine"
   ]
  },
  {
   "cell_type": "markdown",
   "metadata": {},
   "source": [
    "**Importing required packages**"
   ]
  },
  {
   "cell_type": "code",
   "execution_count": 2,
   "metadata": {
    "id": "6ivXuubnSrTt"
   },
   "outputs": [],
   "source": [
    "import pandas as pd\n",
    "import matplotlib.pyplot as plt \n",
    "import seaborn as sns\n",
    "import numpy as np\n",
    "from sklearn import preprocessing\n",
    "from feature_engine.outliers import Winsorizer"
   ]
  },
  {
   "cell_type": "markdown",
   "metadata": {
    "id": "43iL7Iorx4rQ"
   },
   "source": [
    "**Import the data**"
   ]
  },
  {
   "cell_type": "code",
   "execution_count": 4,
   "metadata": {
    "colab": {
     "base_uri": "https://localhost:8080/",
     "height": 833
    },
    "id": "6FoodefqTtF_",
    "outputId": "26cf0d79-6dba-4ff5-b17e-66db109496b6"
   },
   "outputs": [
    {
     "data": {
      "text/html": [
       "<div>\n",
       "<style scoped>\n",
       "    .dataframe tbody tr th:only-of-type {\n",
       "        vertical-align: middle;\n",
       "    }\n",
       "\n",
       "    .dataframe tbody tr th {\n",
       "        vertical-align: top;\n",
       "    }\n",
       "\n",
       "    .dataframe thead th {\n",
       "        text-align: right;\n",
       "    }\n",
       "</style>\n",
       "<table border=\"1\" class=\"dataframe\">\n",
       "  <thead>\n",
       "    <tr style=\"text-align: right;\">\n",
       "      <th></th>\n",
       "      <th>Univ</th>\n",
       "      <th>State</th>\n",
       "      <th>SAT</th>\n",
       "      <th>Top10</th>\n",
       "      <th>Accept</th>\n",
       "      <th>SFRatio</th>\n",
       "      <th>Expenses</th>\n",
       "      <th>GradRate</th>\n",
       "    </tr>\n",
       "  </thead>\n",
       "  <tbody>\n",
       "    <tr>\n",
       "      <th>0</th>\n",
       "      <td>Brown</td>\n",
       "      <td>RI</td>\n",
       "      <td>1310</td>\n",
       "      <td>89</td>\n",
       "      <td>22</td>\n",
       "      <td>13</td>\n",
       "      <td>22704</td>\n",
       "      <td>94</td>\n",
       "    </tr>\n",
       "    <tr>\n",
       "      <th>1</th>\n",
       "      <td>CalTech</td>\n",
       "      <td>CA</td>\n",
       "      <td>1415</td>\n",
       "      <td>100</td>\n",
       "      <td>25</td>\n",
       "      <td>6</td>\n",
       "      <td>63575</td>\n",
       "      <td>81</td>\n",
       "    </tr>\n",
       "    <tr>\n",
       "      <th>2</th>\n",
       "      <td>CMU</td>\n",
       "      <td>PA</td>\n",
       "      <td>1260</td>\n",
       "      <td>62</td>\n",
       "      <td>59</td>\n",
       "      <td>9</td>\n",
       "      <td>25026</td>\n",
       "      <td>72</td>\n",
       "    </tr>\n",
       "    <tr>\n",
       "      <th>3</th>\n",
       "      <td>Columbia</td>\n",
       "      <td>NY</td>\n",
       "      <td>1310</td>\n",
       "      <td>76</td>\n",
       "      <td>24</td>\n",
       "      <td>12</td>\n",
       "      <td>31510</td>\n",
       "      <td>88</td>\n",
       "    </tr>\n",
       "    <tr>\n",
       "      <th>4</th>\n",
       "      <td>Cornell</td>\n",
       "      <td>NY</td>\n",
       "      <td>1280</td>\n",
       "      <td>83</td>\n",
       "      <td>33</td>\n",
       "      <td>13</td>\n",
       "      <td>21864</td>\n",
       "      <td>90</td>\n",
       "    </tr>\n",
       "    <tr>\n",
       "      <th>5</th>\n",
       "      <td>Dartmouth</td>\n",
       "      <td>NH</td>\n",
       "      <td>1340</td>\n",
       "      <td>89</td>\n",
       "      <td>23</td>\n",
       "      <td>10</td>\n",
       "      <td>32162</td>\n",
       "      <td>95</td>\n",
       "    </tr>\n",
       "    <tr>\n",
       "      <th>6</th>\n",
       "      <td>Duke</td>\n",
       "      <td>NC</td>\n",
       "      <td>1315</td>\n",
       "      <td>90</td>\n",
       "      <td>30</td>\n",
       "      <td>12</td>\n",
       "      <td>31585</td>\n",
       "      <td>95</td>\n",
       "    </tr>\n",
       "    <tr>\n",
       "      <th>7</th>\n",
       "      <td>Georgetown</td>\n",
       "      <td>DC</td>\n",
       "      <td>1255</td>\n",
       "      <td>74</td>\n",
       "      <td>24</td>\n",
       "      <td>12</td>\n",
       "      <td>20126</td>\n",
       "      <td>92</td>\n",
       "    </tr>\n",
       "    <tr>\n",
       "      <th>8</th>\n",
       "      <td>Harvard</td>\n",
       "      <td>MA</td>\n",
       "      <td>1400</td>\n",
       "      <td>91</td>\n",
       "      <td>14</td>\n",
       "      <td>11</td>\n",
       "      <td>39525</td>\n",
       "      <td>97</td>\n",
       "    </tr>\n",
       "    <tr>\n",
       "      <th>9</th>\n",
       "      <td>JohnsHopkins</td>\n",
       "      <td>MD</td>\n",
       "      <td>1305</td>\n",
       "      <td>75</td>\n",
       "      <td>44</td>\n",
       "      <td>7</td>\n",
       "      <td>58691</td>\n",
       "      <td>87</td>\n",
       "    </tr>\n",
       "    <tr>\n",
       "      <th>10</th>\n",
       "      <td>MIT</td>\n",
       "      <td>MA</td>\n",
       "      <td>1380</td>\n",
       "      <td>94</td>\n",
       "      <td>30</td>\n",
       "      <td>10</td>\n",
       "      <td>34870</td>\n",
       "      <td>91</td>\n",
       "    </tr>\n",
       "    <tr>\n",
       "      <th>11</th>\n",
       "      <td>Northwestern</td>\n",
       "      <td>IL</td>\n",
       "      <td>1260</td>\n",
       "      <td>85</td>\n",
       "      <td>39</td>\n",
       "      <td>11</td>\n",
       "      <td>28052</td>\n",
       "      <td>89</td>\n",
       "    </tr>\n",
       "    <tr>\n",
       "      <th>12</th>\n",
       "      <td>NotreDame</td>\n",
       "      <td>IN</td>\n",
       "      <td>1255</td>\n",
       "      <td>81</td>\n",
       "      <td>42</td>\n",
       "      <td>13</td>\n",
       "      <td>15122</td>\n",
       "      <td>94</td>\n",
       "    </tr>\n",
       "    <tr>\n",
       "      <th>13</th>\n",
       "      <td>PennState</td>\n",
       "      <td>PA</td>\n",
       "      <td>1081</td>\n",
       "      <td>38</td>\n",
       "      <td>54</td>\n",
       "      <td>18</td>\n",
       "      <td>10185</td>\n",
       "      <td>80</td>\n",
       "    </tr>\n",
       "    <tr>\n",
       "      <th>14</th>\n",
       "      <td>Princeton</td>\n",
       "      <td>NJ</td>\n",
       "      <td>1375</td>\n",
       "      <td>91</td>\n",
       "      <td>14</td>\n",
       "      <td>8</td>\n",
       "      <td>30220</td>\n",
       "      <td>95</td>\n",
       "    </tr>\n",
       "    <tr>\n",
       "      <th>15</th>\n",
       "      <td>Purdue</td>\n",
       "      <td>IN</td>\n",
       "      <td>1005</td>\n",
       "      <td>28</td>\n",
       "      <td>90</td>\n",
       "      <td>19</td>\n",
       "      <td>9066</td>\n",
       "      <td>69</td>\n",
       "    </tr>\n",
       "    <tr>\n",
       "      <th>16</th>\n",
       "      <td>Stanford</td>\n",
       "      <td>CA</td>\n",
       "      <td>1360</td>\n",
       "      <td>90</td>\n",
       "      <td>20</td>\n",
       "      <td>12</td>\n",
       "      <td>36450</td>\n",
       "      <td>93</td>\n",
       "    </tr>\n",
       "    <tr>\n",
       "      <th>17</th>\n",
       "      <td>TexasA&amp;M</td>\n",
       "      <td>TX</td>\n",
       "      <td>1075</td>\n",
       "      <td>49</td>\n",
       "      <td>67</td>\n",
       "      <td>25</td>\n",
       "      <td>8704</td>\n",
       "      <td>67</td>\n",
       "    </tr>\n",
       "    <tr>\n",
       "      <th>18</th>\n",
       "      <td>UCBerkeley</td>\n",
       "      <td>CA</td>\n",
       "      <td>1240</td>\n",
       "      <td>95</td>\n",
       "      <td>40</td>\n",
       "      <td>17</td>\n",
       "      <td>15140</td>\n",
       "      <td>78</td>\n",
       "    </tr>\n",
       "    <tr>\n",
       "      <th>19</th>\n",
       "      <td>UChicago</td>\n",
       "      <td>IL</td>\n",
       "      <td>1290</td>\n",
       "      <td>75</td>\n",
       "      <td>50</td>\n",
       "      <td>13</td>\n",
       "      <td>38380</td>\n",
       "      <td>87</td>\n",
       "    </tr>\n",
       "    <tr>\n",
       "      <th>20</th>\n",
       "      <td>UMichigan</td>\n",
       "      <td>MI</td>\n",
       "      <td>1180</td>\n",
       "      <td>65</td>\n",
       "      <td>68</td>\n",
       "      <td>16</td>\n",
       "      <td>15470</td>\n",
       "      <td>85</td>\n",
       "    </tr>\n",
       "    <tr>\n",
       "      <th>21</th>\n",
       "      <td>UPenn</td>\n",
       "      <td>PA</td>\n",
       "      <td>1285</td>\n",
       "      <td>80</td>\n",
       "      <td>36</td>\n",
       "      <td>11</td>\n",
       "      <td>27553</td>\n",
       "      <td>90</td>\n",
       "    </tr>\n",
       "    <tr>\n",
       "      <th>22</th>\n",
       "      <td>UVA</td>\n",
       "      <td>VA</td>\n",
       "      <td>1225</td>\n",
       "      <td>77</td>\n",
       "      <td>44</td>\n",
       "      <td>14</td>\n",
       "      <td>13349</td>\n",
       "      <td>92</td>\n",
       "    </tr>\n",
       "    <tr>\n",
       "      <th>23</th>\n",
       "      <td>UWisconsin</td>\n",
       "      <td>WI</td>\n",
       "      <td>1085</td>\n",
       "      <td>40</td>\n",
       "      <td>69</td>\n",
       "      <td>15</td>\n",
       "      <td>11857</td>\n",
       "      <td>71</td>\n",
       "    </tr>\n",
       "    <tr>\n",
       "      <th>24</th>\n",
       "      <td>Yale</td>\n",
       "      <td>CT</td>\n",
       "      <td>1375</td>\n",
       "      <td>95</td>\n",
       "      <td>19</td>\n",
       "      <td>11</td>\n",
       "      <td>43514</td>\n",
       "      <td>96</td>\n",
       "    </tr>\n",
       "  </tbody>\n",
       "</table>\n",
       "</div>"
      ],
      "text/plain": [
       "            Univ State   SAT  Top10  Accept  SFRatio  Expenses  GradRate\n",
       "0          Brown    RI  1310     89      22       13     22704        94\n",
       "1        CalTech    CA  1415    100      25        6     63575        81\n",
       "2            CMU    PA  1260     62      59        9     25026        72\n",
       "3       Columbia    NY  1310     76      24       12     31510        88\n",
       "4        Cornell    NY  1280     83      33       13     21864        90\n",
       "5      Dartmouth    NH  1340     89      23       10     32162        95\n",
       "6           Duke    NC  1315     90      30       12     31585        95\n",
       "7     Georgetown    DC  1255     74      24       12     20126        92\n",
       "8        Harvard    MA  1400     91      14       11     39525        97\n",
       "9   JohnsHopkins    MD  1305     75      44        7     58691        87\n",
       "10           MIT    MA  1380     94      30       10     34870        91\n",
       "11  Northwestern    IL  1260     85      39       11     28052        89\n",
       "12     NotreDame    IN  1255     81      42       13     15122        94\n",
       "13     PennState    PA  1081     38      54       18     10185        80\n",
       "14     Princeton    NJ  1375     91      14        8     30220        95\n",
       "15        Purdue    IN  1005     28      90       19      9066        69\n",
       "16      Stanford    CA  1360     90      20       12     36450        93\n",
       "17      TexasA&M    TX  1075     49      67       25      8704        67\n",
       "18    UCBerkeley    CA  1240     95      40       17     15140        78\n",
       "19      UChicago    IL  1290     75      50       13     38380        87\n",
       "20     UMichigan    MI  1180     65      68       16     15470        85\n",
       "21         UPenn    PA  1285     80      36       11     27553        90\n",
       "22           UVA    VA  1225     77      44       14     13349        92\n",
       "23    UWisconsin    WI  1085     40      69       15     11857        71\n",
       "24          Yale    CT  1375     95      19       11     43514        96"
      ]
     },
     "execution_count": 4,
     "metadata": {},
     "output_type": "execute_result"
    }
   ],
   "source": [
    "df = pd.read_excel(r'C:\\Users\\marco\\OneDrive\\Documents\\Python Scripts\\Freelance\\University.xlsx')\n",
    "df"
   ]
  },
  {
   "cell_type": "code",
   "execution_count": 5,
   "metadata": {},
   "outputs": [
    {
     "name": "stdout",
     "output_type": "stream",
     "text": [
      "<class 'pandas.core.frame.DataFrame'>\n",
      "RangeIndex: 25 entries, 0 to 24\n",
      "Data columns (total 8 columns):\n",
      " #   Column    Non-Null Count  Dtype \n",
      "---  ------    --------------  ----- \n",
      " 0   Univ      25 non-null     object\n",
      " 1   State     25 non-null     object\n",
      " 2   SAT       25 non-null     int64 \n",
      " 3   Top10     25 non-null     int64 \n",
      " 4   Accept    25 non-null     int64 \n",
      " 5   SFRatio   25 non-null     int64 \n",
      " 6   Expenses  25 non-null     int64 \n",
      " 7   GradRate  25 non-null     int64 \n",
      "dtypes: int64(6), object(2)\n",
      "memory usage: 1.7+ KB\n"
     ]
    }
   ],
   "source": [
    "df.info()"
   ]
  },
  {
   "cell_type": "markdown",
   "metadata": {},
   "source": [
    "## EXPLORATORY DATA ANALYSIS (EDA) / DESCRIPTIVE STATISTICS"
   ]
  },
  {
   "cell_type": "markdown",
   "metadata": {},
   "source": [
    "***1st Moment Business Decision (Measures of Central Tendency)***\n",
    "\n",
    "1) Mean\n",
    "\n",
    "2) Median\n",
    "\n",
    "3) Mode"
   ]
  },
  {
   "cell_type": "code",
   "execution_count": 6,
   "metadata": {},
   "outputs": [
    {
     "name": "stdout",
     "output_type": "stream",
     "text": [
      "SAT          1266.44\n",
      "Top10          76.48\n",
      "Accept         39.20\n",
      "SFRatio        12.72\n",
      "Expenses    27388.00\n",
      "GradRate       86.72\n",
      "dtype: float64\n",
      "\n",
      "\n",
      "SAT          1285.0\n",
      "Top10          81.0\n",
      "Accept         36.0\n",
      "SFRatio        12.0\n",
      "Expenses    27553.0\n",
      "GradRate       90.0\n",
      "dtype: float64\n",
      "\n",
      "\n",
      "            Univ State     SAT  Top10  Accept  SFRatio  Expenses  GradRate\n",
      "0          Brown    CA  1255.0   75.0    14.0     11.0      8704      95.0\n",
      "1            CMU    PA  1260.0   89.0    24.0     12.0      9066       NaN\n",
      "2        CalTech   NaN  1310.0   90.0    30.0     13.0     10185       NaN\n",
      "3       Columbia   NaN  1375.0   91.0    44.0      NaN     11857       NaN\n",
      "4        Cornell   NaN     NaN   95.0     NaN      NaN     13349       NaN\n",
      "5      Dartmouth   NaN     NaN    NaN     NaN      NaN     15122       NaN\n",
      "6           Duke   NaN     NaN    NaN     NaN      NaN     15140       NaN\n",
      "7     Georgetown   NaN     NaN    NaN     NaN      NaN     15470       NaN\n",
      "8        Harvard   NaN     NaN    NaN     NaN      NaN     20126       NaN\n",
      "9   JohnsHopkins   NaN     NaN    NaN     NaN      NaN     21864       NaN\n",
      "10           MIT   NaN     NaN    NaN     NaN      NaN     22704       NaN\n",
      "11  Northwestern   NaN     NaN    NaN     NaN      NaN     25026       NaN\n",
      "12     NotreDame   NaN     NaN    NaN     NaN      NaN     27553       NaN\n",
      "13     PennState   NaN     NaN    NaN     NaN      NaN     28052       NaN\n",
      "14     Princeton   NaN     NaN    NaN     NaN      NaN     30220       NaN\n",
      "15        Purdue   NaN     NaN    NaN     NaN      NaN     31510       NaN\n",
      "16      Stanford   NaN     NaN    NaN     NaN      NaN     31585       NaN\n",
      "17      TexasA&M   NaN     NaN    NaN     NaN      NaN     32162       NaN\n",
      "18    UCBerkeley   NaN     NaN    NaN     NaN      NaN     34870       NaN\n",
      "19      UChicago   NaN     NaN    NaN     NaN      NaN     36450       NaN\n",
      "20     UMichigan   NaN     NaN    NaN     NaN      NaN     38380       NaN\n",
      "21         UPenn   NaN     NaN    NaN     NaN      NaN     39525       NaN\n",
      "22           UVA   NaN     NaN    NaN     NaN      NaN     43514       NaN\n",
      "23    UWisconsin   NaN     NaN    NaN     NaN      NaN     58691       NaN\n",
      "24          Yale   NaN     NaN    NaN     NaN      NaN     63575       NaN\n"
     ]
    },
    {
     "name": "stderr",
     "output_type": "stream",
     "text": [
      "C:\\Users\\marco\\AppData\\Local\\Temp\\ipykernel_15052\\648249112.py:1: FutureWarning: The default value of numeric_only in DataFrame.mean is deprecated. In a future version, it will default to False. In addition, specifying 'numeric_only=None' is deprecated. Select only valid columns or specify the value of numeric_only to silence this warning.\n",
      "  print(df.mean())\n",
      "C:\\Users\\marco\\AppData\\Local\\Temp\\ipykernel_15052\\648249112.py:3: FutureWarning: The default value of numeric_only in DataFrame.median is deprecated. In a future version, it will default to False. In addition, specifying 'numeric_only=None' is deprecated. Select only valid columns or specify the value of numeric_only to silence this warning.\n",
      "  print(df.median())\n"
     ]
    }
   ],
   "source": [
    "print(df.mean())\n",
    "print('\\n')\n",
    "print(df.median())\n",
    "print('\\n')\n",
    "print(df.mode())"
   ]
  },
  {
   "cell_type": "markdown",
   "metadata": {},
   "source": [
    "***2nd Moment Business Decision (Measures of Dispersion)***\n",
    "\n",
    "1) Variance\n",
    "\n",
    "2) Standard deviation\n",
    "\n",
    "3) Range (maximum - minimum)"
   ]
  },
  {
   "cell_type": "code",
   "execution_count": 7,
   "metadata": {},
   "outputs": [
    {
     "name": "stdout",
     "output_type": "stream",
     "text": [
      "SAT         1.174184e+04\n",
      "Top10       3.776767e+02\n",
      "Accept      3.891667e+02\n",
      "SFRatio     1.654333e+01\n",
      "Expenses    2.080773e+08\n",
      "GradRate    8.204333e+01\n",
      "dtype: float64\n",
      "\n",
      "\n",
      "SAT           108.359771\n",
      "Top10          19.433905\n",
      "Accept         19.727308\n",
      "SFRatio         4.067350\n",
      "Expenses    14424.883165\n",
      "GradRate        9.057778\n",
      "dtype: float64\n"
     ]
    },
    {
     "name": "stderr",
     "output_type": "stream",
     "text": [
      "C:\\Users\\marco\\AppData\\Local\\Temp\\ipykernel_15052\\2422590520.py:1: FutureWarning: The default value of numeric_only in DataFrame.var is deprecated. In a future version, it will default to False. In addition, specifying 'numeric_only=None' is deprecated. Select only valid columns or specify the value of numeric_only to silence this warning.\n",
      "  print(df.var())\n",
      "C:\\Users\\marco\\AppData\\Local\\Temp\\ipykernel_15052\\2422590520.py:3: FutureWarning: The default value of numeric_only in DataFrame.std is deprecated. In a future version, it will default to False. In addition, specifying 'numeric_only=None' is deprecated. Select only valid columns or specify the value of numeric_only to silence this warning.\n",
      "  print(df.std())\n"
     ]
    }
   ],
   "source": [
    "print(df.var())\n",
    "print('\\n')\n",
    "print(df.std())"
   ]
  },
  {
   "cell_type": "markdown",
   "metadata": {},
   "source": [
    "***3rd Business Moment Decision (Skewness)***\n",
    "\n",
    "Measure of asymmetry in the data distribution"
   ]
  },
  {
   "cell_type": "code",
   "execution_count": 8,
   "metadata": {},
   "outputs": [
    {
     "name": "stderr",
     "output_type": "stream",
     "text": [
      "C:\\Users\\marco\\AppData\\Local\\Temp\\ipykernel_15052\\1665899112.py:1: FutureWarning: The default value of numeric_only in DataFrame.skew is deprecated. In a future version, it will default to False. In addition, specifying 'numeric_only=None' is deprecated. Select only valid columns or specify the value of numeric_only to silence this warning.\n",
      "  df.skew()\n"
     ]
    },
    {
     "data": {
      "text/plain": [
       "SAT        -0.950910\n",
       "Top10      -1.219756\n",
       "Accept      0.867538\n",
       "SFRatio     1.120719\n",
       "Expenses    0.852350\n",
       "GradRate   -0.999521\n",
       "dtype: float64"
      ]
     },
     "execution_count": 8,
     "metadata": {},
     "output_type": "execute_result"
    }
   ],
   "source": [
    "df.skew()"
   ]
  },
  {
   "cell_type": "markdown",
   "metadata": {},
   "source": [
    "***4th Business Moment Decision (Kurtosis)***\n",
    "\n",
    "Measure of peakedness - represents the overall spread in the data"
   ]
  },
  {
   "cell_type": "code",
   "execution_count": 9,
   "metadata": {},
   "outputs": [
    {
     "name": "stderr",
     "output_type": "stream",
     "text": [
      "C:\\Users\\marco\\AppData\\Local\\Temp\\ipykernel_15052\\1257127604.py:1: FutureWarning: The default value of numeric_only in DataFrame.kurt is deprecated. In a future version, it will default to False. In addition, specifying 'numeric_only=None' is deprecated. Select only valid columns or specify the value of numeric_only to silence this warning.\n",
      "  df.kurt()\n"
     ]
    },
    {
     "data": {
      "text/plain": [
       "SAT         0.355122\n",
       "Top10       0.700307\n",
       "Accept      0.252908\n",
       "SFRatio     2.353743\n",
       "Expenses    0.638162\n",
       "GradRate   -0.164740\n",
       "dtype: float64"
      ]
     },
     "execution_count": 9,
     "metadata": {},
     "output_type": "execute_result"
    }
   ],
   "source": [
    "df.kurt()"
   ]
  },
  {
   "cell_type": "markdown",
   "metadata": {},
   "source": [
    "***Descriptive Statistics and Data Distribution Function***"
   ]
  },
  {
   "cell_type": "code",
   "execution_count": 10,
   "metadata": {},
   "outputs": [
    {
     "data": {
      "text/html": [
       "<div>\n",
       "<style scoped>\n",
       "    .dataframe tbody tr th:only-of-type {\n",
       "        vertical-align: middle;\n",
       "    }\n",
       "\n",
       "    .dataframe tbody tr th {\n",
       "        vertical-align: top;\n",
       "    }\n",
       "\n",
       "    .dataframe thead th {\n",
       "        text-align: right;\n",
       "    }\n",
       "</style>\n",
       "<table border=\"1\" class=\"dataframe\">\n",
       "  <thead>\n",
       "    <tr style=\"text-align: right;\">\n",
       "      <th></th>\n",
       "      <th>SAT</th>\n",
       "      <th>Top10</th>\n",
       "      <th>Accept</th>\n",
       "      <th>SFRatio</th>\n",
       "      <th>Expenses</th>\n",
       "      <th>GradRate</th>\n",
       "    </tr>\n",
       "  </thead>\n",
       "  <tbody>\n",
       "    <tr>\n",
       "      <th>count</th>\n",
       "      <td>25.000000</td>\n",
       "      <td>25.000000</td>\n",
       "      <td>25.000000</td>\n",
       "      <td>25.00000</td>\n",
       "      <td>25.000000</td>\n",
       "      <td>25.000000</td>\n",
       "    </tr>\n",
       "    <tr>\n",
       "      <th>mean</th>\n",
       "      <td>1266.440000</td>\n",
       "      <td>76.480000</td>\n",
       "      <td>39.200000</td>\n",
       "      <td>12.72000</td>\n",
       "      <td>27388.000000</td>\n",
       "      <td>86.720000</td>\n",
       "    </tr>\n",
       "    <tr>\n",
       "      <th>std</th>\n",
       "      <td>108.359771</td>\n",
       "      <td>19.433905</td>\n",
       "      <td>19.727308</td>\n",
       "      <td>4.06735</td>\n",
       "      <td>14424.883165</td>\n",
       "      <td>9.057778</td>\n",
       "    </tr>\n",
       "    <tr>\n",
       "      <th>min</th>\n",
       "      <td>1005.000000</td>\n",
       "      <td>28.000000</td>\n",
       "      <td>14.000000</td>\n",
       "      <td>6.00000</td>\n",
       "      <td>8704.000000</td>\n",
       "      <td>67.000000</td>\n",
       "    </tr>\n",
       "    <tr>\n",
       "      <th>25%</th>\n",
       "      <td>1240.000000</td>\n",
       "      <td>74.000000</td>\n",
       "      <td>24.000000</td>\n",
       "      <td>11.00000</td>\n",
       "      <td>15140.000000</td>\n",
       "      <td>81.000000</td>\n",
       "    </tr>\n",
       "    <tr>\n",
       "      <th>50%</th>\n",
       "      <td>1285.000000</td>\n",
       "      <td>81.000000</td>\n",
       "      <td>36.000000</td>\n",
       "      <td>12.00000</td>\n",
       "      <td>27553.000000</td>\n",
       "      <td>90.000000</td>\n",
       "    </tr>\n",
       "    <tr>\n",
       "      <th>75%</th>\n",
       "      <td>1340.000000</td>\n",
       "      <td>90.000000</td>\n",
       "      <td>50.000000</td>\n",
       "      <td>14.00000</td>\n",
       "      <td>34870.000000</td>\n",
       "      <td>94.000000</td>\n",
       "    </tr>\n",
       "    <tr>\n",
       "      <th>max</th>\n",
       "      <td>1415.000000</td>\n",
       "      <td>100.000000</td>\n",
       "      <td>90.000000</td>\n",
       "      <td>25.00000</td>\n",
       "      <td>63575.000000</td>\n",
       "      <td>97.000000</td>\n",
       "    </tr>\n",
       "  </tbody>\n",
       "</table>\n",
       "</div>"
      ],
      "text/plain": [
       "               SAT       Top10     Accept   SFRatio      Expenses   GradRate\n",
       "count    25.000000   25.000000  25.000000  25.00000     25.000000  25.000000\n",
       "mean   1266.440000   76.480000  39.200000  12.72000  27388.000000  86.720000\n",
       "std     108.359771   19.433905  19.727308   4.06735  14424.883165   9.057778\n",
       "min    1005.000000   28.000000  14.000000   6.00000   8704.000000  67.000000\n",
       "25%    1240.000000   74.000000  24.000000  11.00000  15140.000000  81.000000\n",
       "50%    1285.000000   81.000000  36.000000  12.00000  27553.000000  90.000000\n",
       "75%    1340.000000   90.000000  50.000000  14.00000  34870.000000  94.000000\n",
       "max    1415.000000  100.000000  90.000000  25.00000  63575.000000  97.000000"
      ]
     },
     "execution_count": 10,
     "metadata": {},
     "output_type": "execute_result"
    }
   ],
   "source": [
    "df.describe()"
   ]
  },
  {
   "cell_type": "code",
   "execution_count": null,
   "metadata": {},
   "outputs": [],
   "source": []
  },
  {
   "cell_type": "markdown",
   "metadata": {},
   "source": [
    "## Data Preprocessing and Cleaning"
   ]
  },
  {
   "cell_type": "markdown",
   "metadata": {
    "id": "hDMbRAD50xbX"
   },
   "source": [
    "**Typecasting** :\n",
    "\n",
    "As Python automatically interprets the data types, there may be a requirement for the data type to be converted. The process of converting one data type to another data type is called Typecasting.\n",
    "\n",
    "Example: \n",
    "1) int to float\n",
    "\n",
    "2) float to int"
   ]
  },
  {
   "cell_type": "code",
   "execution_count": 11,
   "metadata": {},
   "outputs": [
    {
     "data": {
      "text/plain": [
       "Univ        object\n",
       "State       object\n",
       "SAT          int64\n",
       "Top10        int64\n",
       "Accept       int64\n",
       "SFRatio      int64\n",
       "Expenses     int64\n",
       "GradRate     int64\n",
       "dtype: object"
      ]
     },
     "execution_count": 11,
     "metadata": {},
     "output_type": "execute_result"
    }
   ],
   "source": [
    "df.dtypes"
   ]
  },
  {
   "cell_type": "markdown",
   "metadata": {},
   "source": [
    "The dataset contains UnivID which is being interpreted as Integer by Python. UnivID is an identity and a unique number given to each university. Hence it should be treated as a categorical data. We can convert the integer data to string type."
   ]
  },
  {
   "cell_type": "code",
   "execution_count": 12,
   "metadata": {},
   "outputs": [
    {
     "ename": "AttributeError",
     "evalue": "'DataFrame' object has no attribute 'UnivID'",
     "output_type": "error",
     "traceback": [
      "\u001b[1;31m---------------------------------------------------------------------------\u001b[0m",
      "\u001b[1;31mAttributeError\u001b[0m                            Traceback (most recent call last)",
      "Cell \u001b[1;32mIn[12], line 3\u001b[0m\n\u001b[0;32m      1\u001b[0m \u001b[38;5;66;03m# Convert 'int64' to 'str' (string) type.\u001b[39;00m\n\u001b[1;32m----> 3\u001b[0m df\u001b[38;5;241m.\u001b[39mUnivID \u001b[38;5;241m=\u001b[39m \u001b[43mdf\u001b[49m\u001b[38;5;241;43m.\u001b[39;49m\u001b[43mUnivID\u001b[49m\u001b[38;5;241m.\u001b[39mastype(\u001b[38;5;124m'\u001b[39m\u001b[38;5;124mstr\u001b[39m\u001b[38;5;124m'\u001b[39m)\n\u001b[0;32m      4\u001b[0m df\u001b[38;5;241m.\u001b[39mdtypes\n",
      "File \u001b[1;32m~\\anaconda3\\lib\\site-packages\\pandas\\core\\generic.py:5902\u001b[0m, in \u001b[0;36mNDFrame.__getattr__\u001b[1;34m(self, name)\u001b[0m\n\u001b[0;32m   5895\u001b[0m \u001b[38;5;28;01mif\u001b[39;00m (\n\u001b[0;32m   5896\u001b[0m     name \u001b[38;5;129;01mnot\u001b[39;00m \u001b[38;5;129;01min\u001b[39;00m \u001b[38;5;28mself\u001b[39m\u001b[38;5;241m.\u001b[39m_internal_names_set\n\u001b[0;32m   5897\u001b[0m     \u001b[38;5;129;01mand\u001b[39;00m name \u001b[38;5;129;01mnot\u001b[39;00m \u001b[38;5;129;01min\u001b[39;00m \u001b[38;5;28mself\u001b[39m\u001b[38;5;241m.\u001b[39m_metadata\n\u001b[0;32m   5898\u001b[0m     \u001b[38;5;129;01mand\u001b[39;00m name \u001b[38;5;129;01mnot\u001b[39;00m \u001b[38;5;129;01min\u001b[39;00m \u001b[38;5;28mself\u001b[39m\u001b[38;5;241m.\u001b[39m_accessors\n\u001b[0;32m   5899\u001b[0m     \u001b[38;5;129;01mand\u001b[39;00m \u001b[38;5;28mself\u001b[39m\u001b[38;5;241m.\u001b[39m_info_axis\u001b[38;5;241m.\u001b[39m_can_hold_identifiers_and_holds_name(name)\n\u001b[0;32m   5900\u001b[0m ):\n\u001b[0;32m   5901\u001b[0m     \u001b[38;5;28;01mreturn\u001b[39;00m \u001b[38;5;28mself\u001b[39m[name]\n\u001b[1;32m-> 5902\u001b[0m \u001b[38;5;28;01mreturn\u001b[39;00m \u001b[38;5;28;43mobject\u001b[39;49m\u001b[38;5;241;43m.\u001b[39;49m\u001b[38;5;21;43m__getattribute__\u001b[39;49m\u001b[43m(\u001b[49m\u001b[38;5;28;43mself\u001b[39;49m\u001b[43m,\u001b[49m\u001b[43m \u001b[49m\u001b[43mname\u001b[49m\u001b[43m)\u001b[49m\n",
      "\u001b[1;31mAttributeError\u001b[0m: 'DataFrame' object has no attribute 'UnivID'"
     ]
    }
   ],
   "source": [
    "# Convert 'int64' to 'str' (string) type.\n",
    "\n",
    "df.UnivID = df.UnivID.astype('str')\n",
    "df.dtypes"
   ]
  },
  {
   "cell_type": "markdown",
   "metadata": {},
   "source": [
    "**Cleaning Unwanted columns**\n",
    "\n",
    "UnivID is an identity to each university. Analytically it does not have any value (Nominal data). We can safely ignore the ID column by dropping the column."
   ]
  },
  {
   "cell_type": "code",
   "execution_count": 11,
   "metadata": {},
   "outputs": [],
   "source": [
    "df.drop(['UnivID'], axis = 1, inplace = True)"
   ]
  },
  {
   "cell_type": "code",
   "execution_count": 12,
   "metadata": {},
   "outputs": [
    {
     "name": "stdout",
     "output_type": "stream",
     "text": [
      "<class 'pandas.core.frame.DataFrame'>\n",
      "RangeIndex: 25 entries, 0 to 24\n",
      "Data columns (total 8 columns):\n",
      " #   Column    Non-Null Count  Dtype  \n",
      "---  ------    --------------  -----  \n",
      " 0   Univ      25 non-null     object \n",
      " 1   State     25 non-null     object \n",
      " 2   SAT       24 non-null     float64\n",
      " 3   Top10     25 non-null     int64  \n",
      " 4   Accept    25 non-null     int64  \n",
      " 5   SFRatio   24 non-null     float64\n",
      " 6   Expenses  25 non-null     int64  \n",
      " 7   GradRate  24 non-null     float64\n",
      "dtypes: float64(3), int64(3), object(2)\n",
      "memory usage: 1.7+ KB\n"
     ]
    }
   ],
   "source": [
    "df.info()"
   ]
  },
  {
   "cell_type": "code",
   "execution_count": null,
   "metadata": {},
   "outputs": [],
   "source": []
  },
  {
   "cell_type": "markdown",
   "metadata": {
    "id": "8Ol4XFcUEI7t"
   },
   "source": [
    "**Handling duplicates:**\n",
    "\n",
    "If the dataset has multiple entries of the same record then we can remove the duplicate entries. In our dataset we don't have duplicates. In case of duplicates we will use function drop_duplicates()"
   ]
  },
  {
   "cell_type": "code",
   "execution_count": 13,
   "metadata": {},
   "outputs": [
    {
     "name": "stdout",
     "output_type": "stream",
     "text": [
      "0     False\n",
      "1     False\n",
      "2     False\n",
      "3     False\n",
      "4     False\n",
      "5     False\n",
      "6     False\n",
      "7     False\n",
      "8     False\n",
      "9     False\n",
      "10    False\n",
      "11    False\n",
      "12    False\n",
      "13    False\n",
      "14    False\n",
      "15    False\n",
      "16    False\n",
      "17    False\n",
      "18    False\n",
      "19    False\n",
      "20    False\n",
      "21    False\n",
      "22    False\n",
      "23    False\n",
      "24    False\n",
      "dtype: bool\n"
     ]
    },
    {
     "data": {
      "text/plain": [
       "0"
      ]
     },
     "execution_count": 13,
     "metadata": {},
     "output_type": "execute_result"
    }
   ],
   "source": [
    "duplicate = df.duplicated()  # Returns Boolean Series denoting duplicate rows.\n",
    "print(duplicate)\n",
    "sum(duplicate)"
   ]
  },
  {
   "cell_type": "code",
   "execution_count": 14,
   "metadata": {},
   "outputs": [],
   "source": [
    "# Removing Duplicates\n",
    "df = df.drop_duplicates() # Returns DataFrame with duplicate rows removed."
   ]
  },
  {
   "cell_type": "markdown",
   "metadata": {},
   "source": [
    "**Missing Value Analysis**\n",
    "\n",
    "***IMPUTATION:***\n",
    "\n",
    "The process of dealing with missing values is called Imputation.\n",
    "\n",
    "Most popular substitution based Imputation techniques are:\n",
    "\n",
    "1) Mean imputation for numeric data\n",
    "\n",
    "2) Mode imputation for non-numeric data"
   ]
  },
  {
   "cell_type": "code",
   "execution_count": 15,
   "metadata": {},
   "outputs": [
    {
     "data": {
      "text/plain": [
       "Univ        0\n",
       "State       0\n",
       "SAT         1\n",
       "Top10       0\n",
       "Accept      0\n",
       "SFRatio     1\n",
       "Expenses    0\n",
       "GradRate    1\n",
       "dtype: int64"
      ]
     },
     "execution_count": 15,
     "metadata": {},
     "output_type": "execute_result"
    }
   ],
   "source": [
    "df.isnull().sum() # Check for missing values"
   ]
  },
  {
   "cell_type": "code",
   "execution_count": 16,
   "metadata": {},
   "outputs": [
    {
     "data": {
      "text/plain": [
       "pandas.core.series.Series"
      ]
     },
     "execution_count": 16,
     "metadata": {},
     "output_type": "execute_result"
    }
   ],
   "source": [
    "type(df[\"SAT\"])"
   ]
  },
  {
   "cell_type": "code",
   "execution_count": 17,
   "metadata": {},
   "outputs": [
    {
     "data": {
      "text/plain": [
       "pandas.core.frame.DataFrame"
      ]
     },
     "execution_count": 17,
     "metadata": {},
     "output_type": "execute_result"
    }
   ],
   "source": [
    "type(df[[\"SAT\"]])"
   ]
  },
  {
   "cell_type": "code",
   "execution_count": 18,
   "metadata": {},
   "outputs": [
    {
     "data": {
      "text/plain": [
       "0"
      ]
     },
     "execution_count": 18,
     "metadata": {},
     "output_type": "execute_result"
    }
   ],
   "source": [
    "from sklearn.impute import SimpleImputer\n",
    "\n",
    "# Mean Imputer \n",
    "mean_imputer = SimpleImputer(missing_values = np.nan, strategy = 'mean')\n",
    "df[\"SAT\"] = pd.DataFrame(mean_imputer.fit_transform(df[[\"SAT\"]]))\n",
    "\n",
    "df[\"SAT\"].isna().sum()"
   ]
  },
  {
   "cell_type": "code",
   "execution_count": 19,
   "metadata": {},
   "outputs": [
    {
     "data": {
      "text/plain": [
       "0"
      ]
     },
     "execution_count": 19,
     "metadata": {},
     "output_type": "execute_result"
    }
   ],
   "source": [
    "# Median Imputer\n",
    "median_imputer = SimpleImputer(missing_values = np.nan, strategy = 'median')\n",
    "df[\"SFRatio\"] = pd.DataFrame(median_imputer.fit_transform(df[[\"SFRatio\"]]))\n",
    "\n",
    "df[\"SFRatio\"].isna().sum()  # all records replaced by median "
   ]
  },
  {
   "cell_type": "code",
   "execution_count": 20,
   "metadata": {},
   "outputs": [
    {
     "data": {
      "text/plain": [
       "0"
      ]
     },
     "execution_count": 20,
     "metadata": {},
     "output_type": "execute_result"
    }
   ],
   "source": [
    "# Random Imputer\n",
    "from feature_engine.imputation import RandomSampleImputer\n",
    "\n",
    "random_imputer = RandomSampleImputer(['GradRate'])\n",
    "df[\"GradRate\"] = pd.DataFrame(random_imputer.fit_transform(df[[\"GradRate\"]]))\n",
    "\n",
    "df[\"GradRate\"].isna().sum()  # all records replaced by a random value"
   ]
  },
  {
   "cell_type": "code",
   "execution_count": 21,
   "metadata": {},
   "outputs": [
    {
     "data": {
      "text/plain": [
       "Univ        0\n",
       "State       0\n",
       "SAT         0\n",
       "Top10       0\n",
       "Accept      0\n",
       "SFRatio     0\n",
       "Expenses    0\n",
       "GradRate    0\n",
       "dtype: int64"
      ]
     },
     "execution_count": 21,
     "metadata": {},
     "output_type": "execute_result"
    }
   ],
   "source": [
    "df.isna().sum()"
   ]
  },
  {
   "cell_type": "markdown",
   "metadata": {},
   "source": [
    "## Single code for Mean Imputation on the entire dataset.\n",
    "#### Alternative option"
   ]
  },
  {
   "cell_type": "code",
   "execution_count": 22,
   "metadata": {},
   "outputs": [
    {
     "name": "stderr",
     "output_type": "stream",
     "text": [
      "C:\\Users\\Bharani Kumar\\AppData\\Local\\Temp\\ipykernel_9440\\2622515659.py:1: FutureWarning: Dropping of nuisance columns in DataFrame reductions (with 'numeric_only=None') is deprecated; in a future version this will raise TypeError.  Select only valid columns before calling the reduction.\n",
      "  df.fillna(df.mean(), inplace = True)\n"
     ]
    }
   ],
   "source": [
    "df.fillna(df.mean(), inplace = True)"
   ]
  },
  {
   "cell_type": "markdown",
   "metadata": {
    "id": "YNLpvvUmQEua"
   },
   "source": [
    "**Outliers Analysis**:\n",
    "\n",
    "Extreme data values in a variable can be outliers. In case of outliers we can use one of the strategies of 3 R (Rectify, Retain, or Remove)"
   ]
  },
  {
   "cell_type": "markdown",
   "metadata": {
    "id": "rJR6hPykQgFd"
   },
   "source": [
    "**Dividing Categorical and Numerical variables from dataset**"
   ]
  },
  {
   "cell_type": "code",
   "execution_count": 23,
   "metadata": {
    "colab": {
     "base_uri": "https://localhost:8080/",
     "height": 889
    },
    "id": "dDI_j2pGQZN-",
    "outputId": "f9589ad0-fdf6-4381-d3db-46c469743e58"
   },
   "outputs": [
    {
     "data": {
      "text/html": [
       "<div>\n",
       "<style scoped>\n",
       "    .dataframe tbody tr th:only-of-type {\n",
       "        vertical-align: middle;\n",
       "    }\n",
       "\n",
       "    .dataframe tbody tr th {\n",
       "        vertical-align: top;\n",
       "    }\n",
       "\n",
       "    .dataframe thead th {\n",
       "        text-align: right;\n",
       "    }\n",
       "</style>\n",
       "<table border=\"1\" class=\"dataframe\">\n",
       "  <thead>\n",
       "    <tr style=\"text-align: right;\">\n",
       "      <th></th>\n",
       "      <th>Univ</th>\n",
       "      <th>State</th>\n",
       "    </tr>\n",
       "  </thead>\n",
       "  <tbody>\n",
       "    <tr>\n",
       "      <th>0</th>\n",
       "      <td>Brown</td>\n",
       "      <td>RI</td>\n",
       "    </tr>\n",
       "    <tr>\n",
       "      <th>1</th>\n",
       "      <td>CalTech</td>\n",
       "      <td>CA</td>\n",
       "    </tr>\n",
       "    <tr>\n",
       "      <th>2</th>\n",
       "      <td>CMU</td>\n",
       "      <td>PA</td>\n",
       "    </tr>\n",
       "    <tr>\n",
       "      <th>3</th>\n",
       "      <td>Columbia</td>\n",
       "      <td>NY</td>\n",
       "    </tr>\n",
       "    <tr>\n",
       "      <th>4</th>\n",
       "      <td>Cornell</td>\n",
       "      <td>NY</td>\n",
       "    </tr>\n",
       "  </tbody>\n",
       "</table>\n",
       "</div>"
      ],
      "text/plain": [
       "       Univ State\n",
       "0     Brown    RI\n",
       "1   CalTech    CA\n",
       "2       CMU    PA\n",
       "3  Columbia    NY\n",
       "4   Cornell    NY"
      ]
     },
     "execution_count": 23,
     "metadata": {},
     "output_type": "execute_result"
    }
   ],
   "source": [
    "df_cate = df.iloc[:, :2]\n",
    "df_cate.head()"
   ]
  },
  {
   "cell_type": "code",
   "execution_count": 24,
   "metadata": {
    "colab": {
     "base_uri": "https://localhost:8080/",
     "height": 889
    },
    "id": "5_TKOsQ6QesR",
    "outputId": "9dab9c76-baa9-4967-c3c2-c4ac0453afe8"
   },
   "outputs": [
    {
     "data": {
      "text/html": [
       "<div>\n",
       "<style scoped>\n",
       "    .dataframe tbody tr th:only-of-type {\n",
       "        vertical-align: middle;\n",
       "    }\n",
       "\n",
       "    .dataframe tbody tr th {\n",
       "        vertical-align: top;\n",
       "    }\n",
       "\n",
       "    .dataframe thead th {\n",
       "        text-align: right;\n",
       "    }\n",
       "</style>\n",
       "<table border=\"1\" class=\"dataframe\">\n",
       "  <thead>\n",
       "    <tr style=\"text-align: right;\">\n",
       "      <th></th>\n",
       "      <th>SAT</th>\n",
       "      <th>Top10</th>\n",
       "      <th>Accept</th>\n",
       "      <th>SFRatio</th>\n",
       "      <th>Expenses</th>\n",
       "      <th>GradRate</th>\n",
       "    </tr>\n",
       "  </thead>\n",
       "  <tbody>\n",
       "    <tr>\n",
       "      <th>0</th>\n",
       "      <td>1310.0</td>\n",
       "      <td>89</td>\n",
       "      <td>22</td>\n",
       "      <td>13.0</td>\n",
       "      <td>22704</td>\n",
       "      <td>94.0</td>\n",
       "    </tr>\n",
       "    <tr>\n",
       "      <th>1</th>\n",
       "      <td>1415.0</td>\n",
       "      <td>100</td>\n",
       "      <td>25</td>\n",
       "      <td>6.0</td>\n",
       "      <td>63575</td>\n",
       "      <td>81.0</td>\n",
       "    </tr>\n",
       "    <tr>\n",
       "      <th>2</th>\n",
       "      <td>1260.0</td>\n",
       "      <td>62</td>\n",
       "      <td>59</td>\n",
       "      <td>9.0</td>\n",
       "      <td>25026</td>\n",
       "      <td>72.0</td>\n",
       "    </tr>\n",
       "    <tr>\n",
       "      <th>3</th>\n",
       "      <td>1310.0</td>\n",
       "      <td>76</td>\n",
       "      <td>24</td>\n",
       "      <td>12.0</td>\n",
       "      <td>31510</td>\n",
       "      <td>80.0</td>\n",
       "    </tr>\n",
       "    <tr>\n",
       "      <th>4</th>\n",
       "      <td>1280.0</td>\n",
       "      <td>83</td>\n",
       "      <td>33</td>\n",
       "      <td>13.0</td>\n",
       "      <td>21864</td>\n",
       "      <td>90.0</td>\n",
       "    </tr>\n",
       "  </tbody>\n",
       "</table>\n",
       "</div>"
      ],
      "text/plain": [
       "      SAT  Top10  Accept  SFRatio  Expenses  GradRate\n",
       "0  1310.0     89      22     13.0     22704      94.0\n",
       "1  1415.0    100      25      6.0     63575      81.0\n",
       "2  1260.0     62      59      9.0     25026      72.0\n",
       "3  1310.0     76      24     12.0     31510      80.0\n",
       "4  1280.0     83      33     13.0     21864      90.0"
      ]
     },
     "execution_count": 24,
     "metadata": {},
     "output_type": "execute_result"
    }
   ],
   "source": [
    "df_num = df.iloc[:, 2:]\n",
    "df_num.head()"
   ]
  },
  {
   "cell_type": "markdown",
   "metadata": {
    "id": "7tLkj5MynZCL"
   },
   "source": [
    "**Box Plot**\n",
    "\n",
    "Visualize numeric data using boxplot for outliers"
   ]
  },
  {
   "cell_type": "code",
   "execution_count": 25,
   "metadata": {},
   "outputs": [
    {
     "data": {
      "image/png": "[encoded data removed]",
      "text/plain": [
       "<Figure size 720x432 with 6 Axes>"
      ]
     },
     "metadata": {
      "needs_background": "light"
     },
     "output_type": "display_data"
    }
   ],
   "source": [
    "# Multiple boxplots in a single visualization.\n",
    "# Columns with larger scales affect other columns. \n",
    "# Below code ensures each column gets its own y-axis.\n",
    "\n",
    "# pandas plot() function with parameters kind = 'box' and subplots = True\n",
    "\n",
    "df_num.plot(kind = 'box', subplots = True, sharey = False, figsize = (10, 6)) \n",
    "\n",
    "'''sharey True or 'all': x- or y-axis will be shared among all subplots.\n",
    "False or 'none': each subplot x- or y-axis will be independent.'''\n",
    "\n",
    "\n",
    "# increase spacing between subplots\n",
    "plt.subplots_adjust(wspace = 0.75) # ws is the width of the padding between subplots, as a fraction of the average Axes width.\n",
    "plt.show()  "
   ]
  },
  {
   "cell_type": "markdown",
   "metadata": {
    "id": "8CJZBkvakYME"
   },
   "source": [
    "Boxplots show outliers in: SAT, Top10, Accept, SFRatio.\n",
    "\n",
    "***Outlier Analysis***: \n",
    "We shall use Winsorization Technique to treat outliers\n",
    "\n",
    "Winsorization function rounds off the exceptional data points based on capping method used in parameters/hyperparameters section."
   ]
  },
  {
   "cell_type": "code",
   "execution_count": 26,
   "metadata": {},
   "outputs": [],
   "source": [
    "# D-Tale\n",
    "########\n",
    "\n",
    "# pip install dtale\n",
    "import dtale\n",
    "\n",
    "d = dtale.show(df)\n",
    "d.open_browser()"
   ]
  },
  {
   "cell_type": "markdown",
   "metadata": {
    "colab": {
     "base_uri": "https://localhost:8080/",
     "height": 583
    },
    "id": "s18vAOeiQ2fK",
    "outputId": "6546be33-8ba8-46dc-b70e-d0581579c47e"
   },
   "source": [
    "#### Install the required package if it is not already available\n",
    "***Package to get winsorization function***\n",
    "\n",
    "!pip install feature_engine       "
   ]
  },
  {
   "cell_type": "code",
   "execution_count": 27,
   "metadata": {},
   "outputs": [],
   "source": [
    "# Winsorization for \"SAT, Top10, Accept, SFRatio\" column\n",
    "winsor = Winsorizer(capping_method = 'iqr', # choose IQR rule boundary\n",
    "                          tail = 'both', # cap left, right or both tails \n",
    "                          fold = 1.5,\n",
    "                          variables = ['SAT'])\n",
    "\n",
    "df_num['SAT'] = winsor.fit_transform(df_num[['SAT']]) # this is replacing the outliers to cap values\n"
   ]
  },
  {
   "cell_type": "code",
   "execution_count": 28,
   "metadata": {},
   "outputs": [],
   "source": [
    "# Winsorization for \"Top10\" column\n",
    "winsor = Winsorizer(capping_method = 'iqr', # choose IQR rule boundary\n",
    "                          tail = 'both', # cap left, right or both tails \n",
    "                          fold = 1.5,\n",
    "                          variables = ['Top10'])\n",
    "\n",
    "df_num['Top10'] = winsor.fit_transform(df_num[['Top10']]) # this is replacing the outliers to cap values\n"
   ]
  },
  {
   "cell_type": "code",
   "execution_count": 29,
   "metadata": {},
   "outputs": [],
   "source": [
    "# Winsorization for \"Accept\" column\n",
    "winsor = Winsorizer(capping_method = 'iqr', # choose IQR rule boundary\n",
    "                          tail = 'both', # cap left, right or both tails \n",
    "                          fold = 1.5,\n",
    "                          variables = ['Accept'])\n",
    "\n",
    "df_num['Accept'] = winsor.fit_transform(df_num[['Accept']]) # this is replacing the outliers to cap values"
   ]
  },
  {
   "cell_type": "code",
   "execution_count": 30,
   "metadata": {
    "id": "PaD-wq4GQ-el"
   },
   "outputs": [],
   "source": [
    "# Winsorization for \"SFRatio\" column\n",
    "winsor = Winsorizer(capping_method = 'iqr', # choose IQR rule boundaries\n",
    "                          tail = 'both', # cap left, right or both tails \n",
    "                          fold = 1.5,\n",
    "                          variables = ['SFRatio'])\n",
    "\n",
    "df_num['SFRatio'] = winsor.fit_transform(df_num[['SFRatio']]) # this is replacing the outliers to cap values"
   ]
  },
  {
   "cell_type": "markdown",
   "metadata": {},
   "source": [
    "#### Verify for outliers post the treatment"
   ]
  },
  {
   "cell_type": "code",
   "execution_count": 31,
   "metadata": {
    "colab": {
     "base_uri": "https://localhost:8080/",
     "height": 1000
    },
    "id": "D-EuTZQXRt9c",
    "outputId": "2d401c91-d364-4daa-e624-7fb879123e6e"
   },
   "outputs": [
    {
     "name": "stderr",
     "output_type": "stream",
     "text": [
      "C:\\Users\\Bharani Kumar\\AppData\\Local\\Temp\\ipykernel_9440\\3384803453.py:6: UserWarning:\n",
      "\n",
      "Matplotlib is currently using agg, which is a non-GUI backend, so cannot show the figure.\n",
      "\n",
      "2022-09-29 18:52:41,675 - WARNING  - findfont: Font family ['Heiti TC'] not found. Falling back to DejaVu Sans.\n"
     ]
    },
    {
     "data": {
      "image/png": "[encoded data removed]",
      "text/plain": [
       "<Figure size 720x432 with 6 Axes>"
      ]
     },
     "metadata": {
      "needs_background": "light"
     },
     "output_type": "display_data"
    }
   ],
   "source": [
    "df_num.plot(kind = 'box', subplots = True, sharey = False, figsize = (10, 6)) # sharey = True shares the Y axis across all plots\n",
    "\n",
    "\n",
    "# increase spacing between subplots\n",
    "plt.subplots_adjust(wspace = 0.75) \n",
    "plt.show()  "
   ]
  },
  {
   "cell_type": "markdown",
   "metadata": {
    "id": "aNK8TukvEPGz"
   },
   "source": [
    "**Zero and near zero variance**\n",
    "\n",
    "   We dont have any values with near zero (or) zero variance. We can proceed with further data preprocessing steps."
   ]
  },
  {
   "cell_type": "code",
   "execution_count": 32,
   "metadata": {
    "colab": {
     "base_uri": "https://localhost:8080/"
    },
    "id": "bDj7BYto-xBj",
    "outputId": "34d67dc2-247f-4e7f-8a6c-987dcf1ca5f2"
   },
   "outputs": [
    {
     "data": {
      "text/plain": [
       "SAT         9.718958e+03\n",
       "Top10       2.446267e+02\n",
       "Accept      3.849733e+02\n",
       "SFRatio     1.105583e+01\n",
       "Expenses    2.080773e+08\n",
       "GradRate    8.375000e+01\n",
       "dtype: float64"
      ]
     },
     "execution_count": 32,
     "metadata": {},
     "output_type": "execute_result"
    }
   ],
   "source": [
    "df_num.var()"
   ]
  },
  {
   "cell_type": "markdown",
   "metadata": {
    "id": "GplIEiviEUsR"
   },
   "source": [
    "**Discretization / Binning / Grouping:**\n",
    "\n",
    "The process of converting continuous data into discrete number of bins.\n",
    "\n",
    "The current business requirement does not justify the discretization/binning requirement for any column."
   ]
  },
  {
   "cell_type": "markdown",
   "metadata": {},
   "source": [
    "### Dummy Variable Creation"
   ]
  },
  {
   "cell_type": "code",
   "execution_count": 33,
   "metadata": {},
   "outputs": [
    {
     "data": {
      "text/plain": [
       "Univ         object\n",
       "State        object\n",
       "SAT         float64\n",
       "Top10         int64\n",
       "Accept        int64\n",
       "SFRatio     float64\n",
       "Expenses      int64\n",
       "GradRate    float64\n",
       "dtype: object"
      ]
     },
     "execution_count": 33,
     "metadata": {},
     "output_type": "execute_result"
    }
   ],
   "source": [
    "df.dtypes  #Verify the data types of the fields for the entire data"
   ]
  },
  {
   "cell_type": "code",
   "execution_count": 34,
   "metadata": {},
   "outputs": [
    {
     "name": "stdout",
     "output_type": "stream",
     "text": [
      "<class 'pandas.core.frame.DataFrame'>\n",
      "Int64Index: 25 entries, 0 to 24\n",
      "Data columns (total 8 columns):\n",
      " #   Column    Non-Null Count  Dtype  \n",
      "---  ------    --------------  -----  \n",
      " 0   Univ      25 non-null     object \n",
      " 1   State     25 non-null     object \n",
      " 2   SAT       25 non-null     float64\n",
      " 3   Top10     25 non-null     int64  \n",
      " 4   Accept    25 non-null     int64  \n",
      " 5   SFRatio   25 non-null     float64\n",
      " 6   Expenses  25 non-null     int64  \n",
      " 7   GradRate  25 non-null     float64\n",
      "dtypes: float64(3), int64(3), object(2)\n",
      "memory usage: 1.8+ KB\n"
     ]
    }
   ],
   "source": [
    "# Alternatively we can use:\n",
    "\n",
    "df.info()"
   ]
  },
  {
   "cell_type": "code",
   "execution_count": 35,
   "metadata": {},
   "outputs": [
    {
     "name": "stdout",
     "output_type": "stream",
     "text": [
      "<class 'pandas.core.frame.DataFrame'>\n",
      "Int64Index: 25 entries, 0 to 24\n",
      "Data columns (total 2 columns):\n",
      " #   Column  Non-Null Count  Dtype \n",
      "---  ------  --------------  ----- \n",
      " 0   Univ    25 non-null     object\n",
      " 1   State   25 non-null     object\n",
      "dtypes: object(2)\n",
      "memory usage: 600.0+ bytes\n"
     ]
    }
   ],
   "source": [
    "df_cate.info()"
   ]
  },
  {
   "cell_type": "code",
   "execution_count": 36,
   "metadata": {},
   "outputs": [
    {
     "name": "stdout",
     "output_type": "stream",
     "text": [
      "['RI' 'CA' 'PA' 'NY' 'NH' 'NC' 'DC' 'MA' 'MD' 'IL' 'IN' 'NJ' 'TX' 'MI'\n",
      " 'VA' 'WI' 'CT']\n",
      "\n",
      "\n",
      "PA    3\n",
      "CA    3\n",
      "NY    2\n",
      "MA    2\n",
      "IL    2\n",
      "IN    2\n",
      "RI    1\n",
      "TX    1\n",
      "WI    1\n",
      "VA    1\n",
      "MI    1\n",
      "MD    1\n",
      "NJ    1\n",
      "DC    1\n",
      "NC    1\n",
      "NH    1\n",
      "CT    1\n",
      "Name: State, dtype: int64\n"
     ]
    }
   ],
   "source": [
    "print(df_cate.State.unique())\n",
    "print('\\n')\n",
    "\n",
    "print(df_cate.State.value_counts())"
   ]
  },
  {
   "cell_type": "markdown",
   "metadata": {},
   "source": [
    "- Univ name is an identity and does not require to be converted into numeric values.\n",
    "\n",
    "- STATE column is an important field in decision making hence it is to be converted into Numeric values."
   ]
  },
  {
   "cell_type": "code",
   "execution_count": 37,
   "metadata": {},
   "outputs": [],
   "source": [
    "# Applying One-Hot Encoding with get_dummies\n",
    "\n",
    "df_cate = pd.get_dummies(df_cate, columns = ['State'], drop_first = True)"
   ]
  },
  {
   "cell_type": "code",
   "execution_count": 38,
   "metadata": {},
   "outputs": [
    {
     "name": "stdout",
     "output_type": "stream",
     "text": [
      "<class 'pandas.core.frame.DataFrame'>\n",
      "Int64Index: 25 entries, 0 to 24\n",
      "Data columns (total 17 columns):\n",
      " #   Column    Non-Null Count  Dtype \n",
      "---  ------    --------------  ----- \n",
      " 0   Univ      25 non-null     object\n",
      " 1   State_CT  25 non-null     uint8 \n",
      " 2   State_DC  25 non-null     uint8 \n",
      " 3   State_IL  25 non-null     uint8 \n",
      " 4   State_IN  25 non-null     uint8 \n",
      " 5   State_MA  25 non-null     uint8 \n",
      " 6   State_MD  25 non-null     uint8 \n",
      " 7   State_MI  25 non-null     uint8 \n",
      " 8   State_NC  25 non-null     uint8 \n",
      " 9   State_NH  25 non-null     uint8 \n",
      " 10  State_NJ  25 non-null     uint8 \n",
      " 11  State_NY  25 non-null     uint8 \n",
      " 12  State_PA  25 non-null     uint8 \n",
      " 13  State_RI  25 non-null     uint8 \n",
      " 14  State_TX  25 non-null     uint8 \n",
      " 15  State_VA  25 non-null     uint8 \n",
      " 16  State_WI  25 non-null     uint8 \n",
      "dtypes: object(1), uint8(16)\n",
      "memory usage: 800.0+ bytes\n"
     ]
    }
   ],
   "source": [
    "df_cate.info()"
   ]
  },
  {
   "cell_type": "code",
   "execution_count": 39,
   "metadata": {
    "colab": {
     "base_uri": "https://localhost:8080/"
    },
    "id": "_vLLszw6-vB1",
    "outputId": "a1ccc5ba-68ee-4b70-8283-b91a74c98050"
   },
   "outputs": [
    {
     "data": {
      "text/plain": [
       "(25, 17)"
      ]
     },
     "execution_count": 39,
     "metadata": {},
     "output_type": "execute_result"
    }
   ],
   "source": [
    "# The dimension of the dataset after One-Hot Encoding\n",
    "\n",
    "df_cate.shape"
   ]
  },
  {
   "cell_type": "code",
   "execution_count": 40,
   "metadata": {},
   "outputs": [
    {
     "data": {
      "text/html": [
       "<div>\n",
       "<style scoped>\n",
       "    .dataframe tbody tr th:only-of-type {\n",
       "        vertical-align: middle;\n",
       "    }\n",
       "\n",
       "    .dataframe tbody tr th {\n",
       "        vertical-align: top;\n",
       "    }\n",
       "\n",
       "    .dataframe thead th {\n",
       "        text-align: right;\n",
       "    }\n",
       "</style>\n",
       "<table border=\"1\" class=\"dataframe\">\n",
       "  <thead>\n",
       "    <tr style=\"text-align: right;\">\n",
       "      <th></th>\n",
       "      <th>Univ</th>\n",
       "      <th>State_CT</th>\n",
       "      <th>State_DC</th>\n",
       "      <th>State_IL</th>\n",
       "      <th>State_IN</th>\n",
       "      <th>State_MA</th>\n",
       "      <th>State_MD</th>\n",
       "      <th>State_MI</th>\n",
       "      <th>State_NC</th>\n",
       "      <th>State_NH</th>\n",
       "      <th>State_NJ</th>\n",
       "      <th>State_NY</th>\n",
       "      <th>State_PA</th>\n",
       "      <th>State_RI</th>\n",
       "      <th>State_TX</th>\n",
       "      <th>State_VA</th>\n",
       "      <th>State_WI</th>\n",
       "    </tr>\n",
       "  </thead>\n",
       "  <tbody>\n",
       "    <tr>\n",
       "      <th>0</th>\n",
       "      <td>Brown</td>\n",
       "      <td>0</td>\n",
       "      <td>0</td>\n",
       "      <td>0</td>\n",
       "      <td>0</td>\n",
       "      <td>0</td>\n",
       "      <td>0</td>\n",
       "      <td>0</td>\n",
       "      <td>0</td>\n",
       "      <td>0</td>\n",
       "      <td>0</td>\n",
       "      <td>0</td>\n",
       "      <td>0</td>\n",
       "      <td>1</td>\n",
       "      <td>0</td>\n",
       "      <td>0</td>\n",
       "      <td>0</td>\n",
       "    </tr>\n",
       "    <tr>\n",
       "      <th>1</th>\n",
       "      <td>CalTech</td>\n",
       "      <td>0</td>\n",
       "      <td>0</td>\n",
       "      <td>0</td>\n",
       "      <td>0</td>\n",
       "      <td>0</td>\n",
       "      <td>0</td>\n",
       "      <td>0</td>\n",
       "      <td>0</td>\n",
       "      <td>0</td>\n",
       "      <td>0</td>\n",
       "      <td>0</td>\n",
       "      <td>0</td>\n",
       "      <td>0</td>\n",
       "      <td>0</td>\n",
       "      <td>0</td>\n",
       "      <td>0</td>\n",
       "    </tr>\n",
       "    <tr>\n",
       "      <th>2</th>\n",
       "      <td>CMU</td>\n",
       "      <td>0</td>\n",
       "      <td>0</td>\n",
       "      <td>0</td>\n",
       "      <td>0</td>\n",
       "      <td>0</td>\n",
       "      <td>0</td>\n",
       "      <td>0</td>\n",
       "      <td>0</td>\n",
       "      <td>0</td>\n",
       "      <td>0</td>\n",
       "      <td>0</td>\n",
       "      <td>1</td>\n",
       "      <td>0</td>\n",
       "      <td>0</td>\n",
       "      <td>0</td>\n",
       "      <td>0</td>\n",
       "    </tr>\n",
       "    <tr>\n",
       "      <th>3</th>\n",
       "      <td>Columbia</td>\n",
       "      <td>0</td>\n",
       "      <td>0</td>\n",
       "      <td>0</td>\n",
       "      <td>0</td>\n",
       "      <td>0</td>\n",
       "      <td>0</td>\n",
       "      <td>0</td>\n",
       "      <td>0</td>\n",
       "      <td>0</td>\n",
       "      <td>0</td>\n",
       "      <td>1</td>\n",
       "      <td>0</td>\n",
       "      <td>0</td>\n",
       "      <td>0</td>\n",
       "      <td>0</td>\n",
       "      <td>0</td>\n",
       "    </tr>\n",
       "    <tr>\n",
       "      <th>4</th>\n",
       "      <td>Cornell</td>\n",
       "      <td>0</td>\n",
       "      <td>0</td>\n",
       "      <td>0</td>\n",
       "      <td>0</td>\n",
       "      <td>0</td>\n",
       "      <td>0</td>\n",
       "      <td>0</td>\n",
       "      <td>0</td>\n",
       "      <td>0</td>\n",
       "      <td>0</td>\n",
       "      <td>1</td>\n",
       "      <td>0</td>\n",
       "      <td>0</td>\n",
       "      <td>0</td>\n",
       "      <td>0</td>\n",
       "      <td>0</td>\n",
       "    </tr>\n",
       "  </tbody>\n",
       "</table>\n",
       "</div>"
      ],
      "text/plain": [
       "       Univ  State_CT  State_DC  State_IL  State_IN  State_MA  State_MD  \\\n",
       "0     Brown         0         0         0         0         0         0   \n",
       "1   CalTech         0         0         0         0         0         0   \n",
       "2       CMU         0         0         0         0         0         0   \n",
       "3  Columbia         0         0         0         0         0         0   \n",
       "4   Cornell         0         0         0         0         0         0   \n",
       "\n",
       "   State_MI  State_NC  State_NH  State_NJ  State_NY  State_PA  State_RI  \\\n",
       "0         0         0         0         0         0         0         1   \n",
       "1         0         0         0         0         0         0         0   \n",
       "2         0         0         0         0         0         1         0   \n",
       "3         0         0         0         0         1         0         0   \n",
       "4         0         0         0         0         1         0         0   \n",
       "\n",
       "   State_TX  State_VA  State_WI  \n",
       "0         0         0         0  \n",
       "1         0         0         0  \n",
       "2         0         0         0  \n",
       "3         0         0         0  \n",
       "4         0         0         0  "
      ]
     },
     "execution_count": 40,
     "metadata": {},
     "output_type": "execute_result"
    }
   ],
   "source": [
    "df_cate.head()"
   ]
  },
  {
   "cell_type": "code",
   "execution_count": null,
   "metadata": {},
   "outputs": [],
   "source": []
  },
  {
   "cell_type": "markdown",
   "metadata": {
    "id": "nW_3CLF5GbIo"
   },
   "source": [
    "# **Graphical Representation**"
   ]
  },
  {
   "cell_type": "code",
   "execution_count": 2,
   "metadata": {},
   "outputs": [
    {
     "name": "stdout",
     "output_type": "stream",
     "text": [
      "Requirement already satisfied: PyQt5 in c:\\users\\bharani kumar\\appdata\\roaming\\python\\python39\\site-packages (5.15.7)\n",
      "Requirement already satisfied: pyqtwebengine in c:\\users\\bharani kumar\\appdata\\roaming\\python\\python39\\site-packages (5.15.6)\n",
      "Requirement already satisfied: PyQt5-sip<13,>=12.11 in c:\\users\\bharani kumar\\anaconda3\\lib\\site-packages (from PyQt5) (12.11.0)\n",
      "Requirement already satisfied: PyQt5-Qt5>=5.15.0 in c:\\users\\bharani kumar\\anaconda3\\lib\\site-packages (from PyQt5) (5.15.2)\n",
      "Requirement already satisfied: PyQtWebEngine-Qt5>=5.15.0 in c:\\users\\bharani kumar\\appdata\\roaming\\python\\python39\\site-packages (from pyqtwebengine) (5.15.2)\n",
      "Note: you may need to restart the kernel to use updated packages.\n"
     ]
    }
   ],
   "source": [
    "pip install PyQt5 pyqtwebengine --user # run this if you get any warning msg and if the plots are not visible"
   ]
  },
  {
   "cell_type": "code",
   "execution_count": 85,
   "metadata": {},
   "outputs": [],
   "source": [
    "%matplotlib inline"
   ]
  },
  {
   "cell_type": "code",
   "execution_count": 86,
   "metadata": {},
   "outputs": [
    {
     "data": {
      "text/plain": [
       "Index(['SAT', 'Top10', 'Accept', 'SFRatio', 'Expenses', 'GradRate'], dtype='object')"
      ]
     },
     "execution_count": 86,
     "metadata": {},
     "output_type": "execute_result"
    }
   ],
   "source": [
    "df_num.columns"
   ]
  },
  {
   "cell_type": "code",
   "execution_count": 52,
   "metadata": {
    "colab": {
     "base_uri": "https://localhost:8080/",
     "height": 1000
    },
    "id": "OwpdDfcDUAHn",
    "outputId": "063fc45c-3090-4ae4-c5ae-dacf9f5492ff"
   },
   "outputs": [
    {
     "data": {
      "image/png": "[encoded data removed]",
      "text/plain": [
       "<Figure size 432x288 with 1 Axes>"
      ]
     },
     "metadata": {
      "needs_background": "light"
     },
     "output_type": "display_data"
    },
    {
     "data": {
      "image/png": "[encoded data removed]",
      "text/plain": [
       "<Figure size 432x288 with 1 Axes>"
      ]
     },
     "metadata": {
      "needs_background": "light"
     },
     "output_type": "display_data"
    },
    {
     "data": {
      "image/png": "[encoded data removed]",
      "text/plain": [
       "<Figure size 432x288 with 1 Axes>"
      ]
     },
     "metadata": {
      "needs_background": "light"
     },
     "output_type": "display_data"
    },
    {
     "data": {
      "image/png": "[encoded data removed]",
      "text/plain": [
       "<Figure size 432x288 with 1 Axes>"
      ]
     },
     "metadata": {
      "needs_background": "light"
     },
     "output_type": "display_data"
    },
    {
     "data": {
      "image/png": "[encoded data removed]",
      "text/plain": [
       "<Figure size 432x288 with 1 Axes>"
      ]
     },
     "metadata": {
      "needs_background": "light"
     },
     "output_type": "display_data"
    },
    {
     "data": {
      "image/png": "[encoded data removed]",
      "text/plain": [
       "<Figure size 432x288 with 1 Axes>"
      ]
     },
     "metadata": {
      "needs_background": "light"
     },
     "output_type": "display_data"
    }
   ],
   "source": [
    "# Histogram describes the spread of data\n",
    "\n",
    "for i in df_num.columns:\n",
    "  plt.hist(x = df_num[i])\n",
    "  plt.title(\"Histogram for \" + str(i))\n",
    "  plt.show()\n"
   ]
  },
  {
   "cell_type": "code",
   "execution_count": 53,
   "metadata": {
    "colab": {
     "base_uri": "https://localhost:8080/",
     "height": 562
    },
    "id": "CNYrRPpLlGEX",
    "outputId": "412b6320-abeb-4ab0-e99c-11b21a7c29e5"
   },
   "outputs": [
    {
     "data": {
      "text/plain": [
       "((array([-1.9213301 , -1.50368257, -1.24941883, -1.0573306 , -0.897955  ,\n",
       "         -0.75865603, -0.63273432, -0.51614096, -0.40618759, -0.30094875,\n",
       "         -0.19894932, -0.09898372,  0.        ,  0.09898372,  0.19894932,\n",
       "          0.30094875,  0.40618759,  0.51614096,  0.63273432,  0.75865603,\n",
       "          0.897955  ,  1.0573306 ,  1.24941883,  1.50368257,  1.9213301 ]),\n",
       "  array([1090.        , 1090.        , 1090.        , 1090.        ,\n",
       "         1180.        , 1225.        , 1240.        , 1255.        ,\n",
       "         1260.        , 1260.        , 1266.91666667, 1280.        ,\n",
       "         1285.        , 1290.        , 1305.        , 1310.        ,\n",
       "         1310.        , 1315.        , 1340.        , 1360.        ,\n",
       "         1375.        , 1375.        , 1380.        , 1400.        ,\n",
       "         1415.        ])),\n",
       " (98.76659036154764, 1271.4766666666667, 0.9585447047103507))"
      ]
     },
     "execution_count": 53,
     "metadata": {},
     "output_type": "execute_result"
    },
    {
     "data": {
      "image/png": "[encoded data removed]",
      "text/plain": [
       "<Figure size 432x288 with 1 Axes>"
      ]
     },
     "metadata": {
      "needs_background": "light"
     },
     "output_type": "display_data"
    }
   ],
   "source": [
    "# Normal Quantile-Quantile Plot - Helps in understanding the distribution of the data - Normal distribution or not\n",
    "import scipy.stats as stats\n",
    "import pylab\n",
    "\n",
    "# Checking whether data is normally distributed\n",
    "stats.probplot(df_num.SAT, dist = \"norm\", plot = pylab)"
   ]
  },
  {
   "cell_type": "code",
   "execution_count": 87,
   "metadata": {
    "colab": {
     "base_uri": "https://localhost:8080/",
     "height": 544
    },
    "id": "T7SCWSEYl5wZ",
    "outputId": "8a005918-6af5-4819-e21a-822c1dcc5aae"
   },
   "outputs": [
    {
     "data": {
      "text/plain": [
       "((array([-1.9213301 , -1.50368257, -1.24941883, -1.0573306 , -0.897955  ,\n",
       "         -0.75865603, -0.63273432, -0.51614096, -0.40618759, -0.30094875,\n",
       "         -0.19894932, -0.09898372,  0.        ,  0.09898372,  0.19894932,\n",
       "          0.30094875,  0.40618759,  0.51614096,  0.63273432,  0.75865603,\n",
       "          0.897955  ,  1.0573306 ,  1.24941883,  1.50368257,  1.9213301 ]),\n",
       "  array([ 50.,  50.,  50.,  50.,  62.,  65.,  74.,  75.,  75.,  76.,  77.,\n",
       "          80.,  81.,  83.,  85.,  89.,  89.,  90.,  90.,  91.,  91.,  94.,\n",
       "          95.,  95., 100.])),\n",
       " (15.548174662321602, 78.28, 0.9511295549439862))"
      ]
     },
     "execution_count": 87,
     "metadata": {},
     "output_type": "execute_result"
    },
    {
     "data": {
      "image/png": "[encoded data removed]",
      "text/plain": [
       "<Figure size 432x288 with 1 Axes>"
      ]
     },
     "metadata": {
      "needs_background": "light"
     },
     "output_type": "display_data"
    }
   ],
   "source": [
    "# Checking whether data is normally distributed\n",
    "stats.probplot(df_num.Top10, dist = \"norm\", plot = pylab)"
   ]
  },
  {
   "cell_type": "code",
   "execution_count": 88,
   "metadata": {
    "colab": {
     "base_uri": "https://localhost:8080/",
     "height": 544
    },
    "id": "BIvoZPPxmsoK",
    "outputId": "2f2d6200-6f1f-4193-d186-4a5c826b97f4"
   },
   "outputs": [
    {
     "data": {
      "text/plain": [
       "((array([-1.9213301 , -1.50368257, -1.24941883, -1.0573306 , -0.897955  ,\n",
       "         -0.75865603, -0.63273432, -0.51614096, -0.40618759, -0.30094875,\n",
       "         -0.19894932, -0.09898372,  0.        ,  0.09898372,  0.19894932,\n",
       "          0.30094875,  0.40618759,  0.51614096,  0.63273432,  0.75865603,\n",
       "          0.897955  ,  1.0573306 ,  1.24941883,  1.50368257,  1.9213301 ]),\n",
       "  array([14., 14., 19., 20., 22., 23., 24., 24., 25., 30., 30., 33., 36.,\n",
       "         39., 40., 42., 44., 44., 50., 54., 59., 67., 68., 69., 89.])),\n",
       " (19.806179416701234, 39.16, 0.9658230149511989))"
      ]
     },
     "execution_count": 88,
     "metadata": {},
     "output_type": "execute_result"
    },
    {
     "data": {
      "image/png": "[encoded data removed]",
      "text/plain": [
       "<Figure size 432x288 with 1 Axes>"
      ]
     },
     "metadata": {
      "needs_background": "light"
     },
     "output_type": "display_data"
    }
   ],
   "source": [
    "# Checking whether data is normally distributed\n",
    "stats.probplot(df_num.Accept, dist = \"norm\", plot = pylab)"
   ]
  },
  {
   "cell_type": "code",
   "execution_count": 89,
   "metadata": {
    "colab": {
     "base_uri": "https://localhost:8080/",
     "height": 544
    },
    "id": "gb7r_bK_msjR",
    "outputId": "f956afe6-0244-41dc-9f93-286bd0634b32"
   },
   "outputs": [
    {
     "data": {
      "text/plain": [
       "((array([-1.9213301 , -1.50368257, -1.24941883, -1.0573306 , -0.897955  ,\n",
       "         -0.75865603, -0.63273432, -0.51614096, -0.40618759, -0.30094875,\n",
       "         -0.19894932, -0.09898372,  0.        ,  0.09898372,  0.19894932,\n",
       "          0.30094875,  0.40618759,  0.51614096,  0.63273432,  0.75865603,\n",
       "          0.897955  ,  1.0573306 ,  1.24941883,  1.50368257,  1.9213301 ]),\n",
       "  array([ 6.5,  7. ,  8. ,  9. , 10. , 10. , 11. , 11. , 11. , 11. , 12. ,\n",
       "         12. , 12. , 12. , 12. , 13. , 13. , 13. , 14. , 15. , 16. , 17. ,\n",
       "         18. , 18.5, 18.5])),\n",
       " (3.4058243652179456, 12.42, 0.9800284234738135))"
      ]
     },
     "execution_count": 89,
     "metadata": {},
     "output_type": "execute_result"
    },
    {
     "data": {
      "image/png": "[encoded data removed]",
      "text/plain": [
       "<Figure size 432x288 with 1 Axes>"
      ]
     },
     "metadata": {
      "needs_background": "light"
     },
     "output_type": "display_data"
    }
   ],
   "source": [
    "# Checking whether data is normally distributed\n",
    "stats.probplot(df_num.SFRatio, dist = \"norm\", plot = pylab)"
   ]
  },
  {
   "cell_type": "code",
   "execution_count": 90,
   "metadata": {
    "colab": {
     "base_uri": "https://localhost:8080/",
     "height": 562
    },
    "id": "R_aupi14msas",
    "outputId": "59b10df3-d201-44b2-c0e8-1363263c011c"
   },
   "outputs": [
    {
     "data": {
      "text/plain": [
       "((array([-1.9213301 , -1.50368257, -1.24941883, -1.0573306 , -0.897955  ,\n",
       "         -0.75865603, -0.63273432, -0.51614096, -0.40618759, -0.30094875,\n",
       "         -0.19894932, -0.09898372,  0.        ,  0.09898372,  0.19894932,\n",
       "          0.30094875,  0.40618759,  0.51614096,  0.63273432,  0.75865603,\n",
       "          0.897955  ,  1.0573306 ,  1.24941883,  1.50368257,  1.9213301 ]),\n",
       "  array([ 8704,  9066, 10185, 11857, 13349, 15122, 15140, 15470, 20126,\n",
       "         21864, 22704, 25026, 27553, 28052, 30220, 31510, 31585, 32162,\n",
       "         34870, 36450, 38380, 39525, 43514, 58691, 63575], dtype=int64)),\n",
       " (14567.431669324984, 27387.999999999996, 0.96623519023699))"
      ]
     },
     "execution_count": 90,
     "metadata": {},
     "output_type": "execute_result"
    },
    {
     "data": {
      "image/png": "[encoded data removed]",
      "text/plain": [
       "<Figure size 432x288 with 1 Axes>"
      ]
     },
     "metadata": {
      "needs_background": "light"
     },
     "output_type": "display_data"
    }
   ],
   "source": [
    "# Checking whether data is normally distributed\n",
    "stats.probplot(df_num.Expenses, dist = \"norm\", plot = pylab)"
   ]
  },
  {
   "cell_type": "code",
   "execution_count": 91,
   "metadata": {
    "colab": {
     "base_uri": "https://localhost:8080/",
     "height": 544
    },
    "id": "0_l4gLbfmwgr",
    "outputId": "4ce79207-4e10-40ad-efbe-25241acec3d7"
   },
   "outputs": [
    {
     "data": {
      "text/plain": [
       "((array([-1.9213301 , -1.50368257, -1.24941883, -1.0573306 , -0.897955  ,\n",
       "         -0.75865603, -0.63273432, -0.51614096, -0.40618759, -0.30094875,\n",
       "         -0.19894932, -0.09898372,  0.        ,  0.09898372,  0.19894932,\n",
       "          0.30094875,  0.40618759,  0.51614096,  0.63273432,  0.75865603,\n",
       "          0.897955  ,  1.0573306 ,  1.24941883,  1.50368257,  1.9213301 ]),\n",
       "  array([67., 69., 71., 72., 78., 80., 80., 81., 85., 87., 87., 89., 90.,\n",
       "         90., 91., 92., 92., 93., 94., 94., 95., 95., 95., 96., 97.])),\n",
       " (9.045184055962459, 86.4, 0.945664673489533))"
      ]
     },
     "execution_count": 91,
     "metadata": {},
     "output_type": "execute_result"
    },
    {
     "data": {
      "image/png": "[encoded data removed]",
      "text/plain": [
       "<Figure size 432x288 with 1 Axes>"
      ]
     },
     "metadata": {
      "needs_background": "light"
     },
     "output_type": "display_data"
    }
   ],
   "source": [
    "# Checking whether data is normally distributed\n",
    "stats.probplot(df_num.GradRate, dist = \"norm\", plot = pylab)"
   ]
  },
  {
   "cell_type": "markdown",
   "metadata": {},
   "source": [
    "### Concatenate the Entire Data"
   ]
  },
  {
   "cell_type": "code",
   "execution_count": 92,
   "metadata": {
    "colab": {
     "base_uri": "https://localhost:8080/",
     "height": 833
    },
    "id": "fEULSdKMmJUI",
    "outputId": "d8306a4a-1d4f-41f2-fdea-79ae1e671a11"
   },
   "outputs": [
    {
     "data": {
      "text/html": [
       "<div>\n",
       "<style scoped>\n",
       "    .dataframe tbody tr th:only-of-type {\n",
       "        vertical-align: middle;\n",
       "    }\n",
       "\n",
       "    .dataframe tbody tr th {\n",
       "        vertical-align: top;\n",
       "    }\n",
       "\n",
       "    .dataframe thead th {\n",
       "        text-align: right;\n",
       "    }\n",
       "</style>\n",
       "<table border=\"1\" class=\"dataframe\">\n",
       "  <thead>\n",
       "    <tr style=\"text-align: right;\">\n",
       "      <th></th>\n",
       "      <th>Univ</th>\n",
       "      <th>State_CT</th>\n",
       "      <th>State_DC</th>\n",
       "      <th>State_IL</th>\n",
       "      <th>State_IN</th>\n",
       "      <th>State_MA</th>\n",
       "      <th>State_MD</th>\n",
       "      <th>State_MI</th>\n",
       "      <th>State_NC</th>\n",
       "      <th>State_NH</th>\n",
       "      <th>...</th>\n",
       "      <th>State_RI</th>\n",
       "      <th>State_TX</th>\n",
       "      <th>State_VA</th>\n",
       "      <th>State_WI</th>\n",
       "      <th>SAT</th>\n",
       "      <th>Top10</th>\n",
       "      <th>Accept</th>\n",
       "      <th>SFRatio</th>\n",
       "      <th>Expenses</th>\n",
       "      <th>GradRate</th>\n",
       "    </tr>\n",
       "  </thead>\n",
       "  <tbody>\n",
       "    <tr>\n",
       "      <th>0</th>\n",
       "      <td>Brown</td>\n",
       "      <td>0</td>\n",
       "      <td>0</td>\n",
       "      <td>0</td>\n",
       "      <td>0</td>\n",
       "      <td>0</td>\n",
       "      <td>0</td>\n",
       "      <td>0</td>\n",
       "      <td>0</td>\n",
       "      <td>0</td>\n",
       "      <td>...</td>\n",
       "      <td>1</td>\n",
       "      <td>0</td>\n",
       "      <td>0</td>\n",
       "      <td>0</td>\n",
       "      <td>1310.0</td>\n",
       "      <td>89.0</td>\n",
       "      <td>22.0</td>\n",
       "      <td>13.0</td>\n",
       "      <td>22704</td>\n",
       "      <td>94.0</td>\n",
       "    </tr>\n",
       "    <tr>\n",
       "      <th>1</th>\n",
       "      <td>CalTech</td>\n",
       "      <td>0</td>\n",
       "      <td>0</td>\n",
       "      <td>0</td>\n",
       "      <td>0</td>\n",
       "      <td>0</td>\n",
       "      <td>0</td>\n",
       "      <td>0</td>\n",
       "      <td>0</td>\n",
       "      <td>0</td>\n",
       "      <td>...</td>\n",
       "      <td>0</td>\n",
       "      <td>0</td>\n",
       "      <td>0</td>\n",
       "      <td>0</td>\n",
       "      <td>1415.0</td>\n",
       "      <td>100.0</td>\n",
       "      <td>25.0</td>\n",
       "      <td>6.5</td>\n",
       "      <td>63575</td>\n",
       "      <td>81.0</td>\n",
       "    </tr>\n",
       "    <tr>\n",
       "      <th>2</th>\n",
       "      <td>CMU</td>\n",
       "      <td>0</td>\n",
       "      <td>0</td>\n",
       "      <td>0</td>\n",
       "      <td>0</td>\n",
       "      <td>0</td>\n",
       "      <td>0</td>\n",
       "      <td>0</td>\n",
       "      <td>0</td>\n",
       "      <td>0</td>\n",
       "      <td>...</td>\n",
       "      <td>0</td>\n",
       "      <td>0</td>\n",
       "      <td>0</td>\n",
       "      <td>0</td>\n",
       "      <td>1260.0</td>\n",
       "      <td>62.0</td>\n",
       "      <td>59.0</td>\n",
       "      <td>9.0</td>\n",
       "      <td>25026</td>\n",
       "      <td>72.0</td>\n",
       "    </tr>\n",
       "    <tr>\n",
       "      <th>3</th>\n",
       "      <td>Columbia</td>\n",
       "      <td>0</td>\n",
       "      <td>0</td>\n",
       "      <td>0</td>\n",
       "      <td>0</td>\n",
       "      <td>0</td>\n",
       "      <td>0</td>\n",
       "      <td>0</td>\n",
       "      <td>0</td>\n",
       "      <td>0</td>\n",
       "      <td>...</td>\n",
       "      <td>0</td>\n",
       "      <td>0</td>\n",
       "      <td>0</td>\n",
       "      <td>0</td>\n",
       "      <td>1310.0</td>\n",
       "      <td>76.0</td>\n",
       "      <td>24.0</td>\n",
       "      <td>12.0</td>\n",
       "      <td>31510</td>\n",
       "      <td>80.0</td>\n",
       "    </tr>\n",
       "    <tr>\n",
       "      <th>4</th>\n",
       "      <td>Cornell</td>\n",
       "      <td>0</td>\n",
       "      <td>0</td>\n",
       "      <td>0</td>\n",
       "      <td>0</td>\n",
       "      <td>0</td>\n",
       "      <td>0</td>\n",
       "      <td>0</td>\n",
       "      <td>0</td>\n",
       "      <td>0</td>\n",
       "      <td>...</td>\n",
       "      <td>0</td>\n",
       "      <td>0</td>\n",
       "      <td>0</td>\n",
       "      <td>0</td>\n",
       "      <td>1280.0</td>\n",
       "      <td>83.0</td>\n",
       "      <td>33.0</td>\n",
       "      <td>13.0</td>\n",
       "      <td>21864</td>\n",
       "      <td>90.0</td>\n",
       "    </tr>\n",
       "  </tbody>\n",
       "</table>\n",
       "<p>5 rows × 23 columns</p>\n",
       "</div>"
      ],
      "text/plain": [
       "       Univ  State_CT  State_DC  State_IL  State_IN  State_MA  State_MD  \\\n",
       "0     Brown         0         0         0         0         0         0   \n",
       "1   CalTech         0         0         0         0         0         0   \n",
       "2       CMU         0         0         0         0         0         0   \n",
       "3  Columbia         0         0         0         0         0         0   \n",
       "4   Cornell         0         0         0         0         0         0   \n",
       "\n",
       "   State_MI  State_NC  State_NH  ...  State_RI  State_TX  State_VA  State_WI  \\\n",
       "0         0         0         0  ...         1         0         0         0   \n",
       "1         0         0         0  ...         0         0         0         0   \n",
       "2         0         0         0  ...         0         0         0         0   \n",
       "3         0         0         0  ...         0         0         0         0   \n",
       "4         0         0         0  ...         0         0         0         0   \n",
       "\n",
       "      SAT  Top10  Accept  SFRatio  Expenses  GradRate  \n",
       "0  1310.0   89.0    22.0     13.0     22704      94.0  \n",
       "1  1415.0  100.0    25.0      6.5     63575      81.0  \n",
       "2  1260.0   62.0    59.0      9.0     25026      72.0  \n",
       "3  1310.0   76.0    24.0     12.0     31510      80.0  \n",
       "4  1280.0   83.0    33.0     13.0     21864      90.0  \n",
       "\n",
       "[5 rows x 23 columns]"
      ]
     },
     "execution_count": 92,
     "metadata": {},
     "output_type": "execute_result"
    }
   ],
   "source": [
    "df1 = pd.concat([df_cate, df_num], axis = 1)  # Preprocessed data for clustering\n",
    "df1.head()"
   ]
  },
  {
   "cell_type": "code",
   "execution_count": 55,
   "metadata": {},
   "outputs": [
    {
     "data": {
      "text/plain": [
       "(25, 23)"
      ]
     },
     "execution_count": 55,
     "metadata": {},
     "output_type": "execute_result"
    }
   ],
   "source": [
    "df1.shape"
   ]
  },
  {
   "cell_type": "code",
   "execution_count": 94,
   "metadata": {},
   "outputs": [
    {
     "name": "stdout",
     "output_type": "stream",
     "text": [
      "<class 'pandas.core.frame.DataFrame'>\n",
      "Int64Index: 25 entries, 0 to 24\n",
      "Data columns (total 23 columns):\n",
      " #   Column    Non-Null Count  Dtype  \n",
      "---  ------    --------------  -----  \n",
      " 0   Univ      25 non-null     object \n",
      " 1   State_CT  25 non-null     uint8  \n",
      " 2   State_DC  25 non-null     uint8  \n",
      " 3   State_IL  25 non-null     uint8  \n",
      " 4   State_IN  25 non-null     uint8  \n",
      " 5   State_MA  25 non-null     uint8  \n",
      " 6   State_MD  25 non-null     uint8  \n",
      " 7   State_MI  25 non-null     uint8  \n",
      " 8   State_NC  25 non-null     uint8  \n",
      " 9   State_NH  25 non-null     uint8  \n",
      " 10  State_NJ  25 non-null     uint8  \n",
      " 11  State_NY  25 non-null     uint8  \n",
      " 12  State_PA  25 non-null     uint8  \n",
      " 13  State_RI  25 non-null     uint8  \n",
      " 14  State_TX  25 non-null     uint8  \n",
      " 15  State_VA  25 non-null     uint8  \n",
      " 16  State_WI  25 non-null     uint8  \n",
      " 17  SAT       25 non-null     float64\n",
      " 18  Top10     25 non-null     float64\n",
      " 19  Accept    25 non-null     float64\n",
      " 20  SFRatio   25 non-null     float64\n",
      " 21  Expenses  25 non-null     int64  \n",
      " 22  GradRate  25 non-null     float64\n",
      "dtypes: float64(5), int64(1), object(1), uint8(16)\n",
      "memory usage: 2.5+ KB\n"
     ]
    }
   ],
   "source": [
    "df1.info()"
   ]
  },
  {
   "cell_type": "markdown",
   "metadata": {},
   "source": [
    "## Bivariate Analysis"
   ]
  },
  {
   "cell_type": "markdown",
   "metadata": {},
   "source": [
    "**Scatter Plot**"
   ]
  },
  {
   "cell_type": "code",
   "execution_count": 95,
   "metadata": {},
   "outputs": [
    {
     "data": {
      "text/plain": [
       "<matplotlib.collections.PathCollection at 0x1ce0edac5b0>"
      ]
     },
     "execution_count": 95,
     "metadata": {},
     "output_type": "execute_result"
    },
    {
     "data": {
      "image/png": "[encoded data removed]",
      "text/plain": [
       "<Figure size 432x288 with 1 Axes>"
      ]
     },
     "metadata": {
      "needs_background": "light"
     },
     "output_type": "display_data"
    }
   ],
   "source": [
    "plt.scatter(x = df1['SAT'], y = df1['Top10']) "
   ]
  },
  {
   "cell_type": "code",
   "execution_count": 96,
   "metadata": {},
   "outputs": [
    {
     "data": {
      "text/plain": [
       "<seaborn.axisgrid.PairGrid at 0x1ce0edc8e80>"
      ]
     },
     "execution_count": 96,
     "metadata": {},
     "output_type": "execute_result"
    },
    {
     "data": {
      "image/png": "[encoded data removed]",
      "text/plain": [
       "<Figure size 1080x1080 with 42 Axes>"
      ]
     },
     "metadata": {
      "needs_background": "light"
     },
     "output_type": "display_data"
    }
   ],
   "source": [
    "sns.pairplot(df_num)   # Use numerical variables for scatter plots"
   ]
  },
  {
   "cell_type": "markdown",
   "metadata": {},
   "source": [
    "\n",
    "**Heatmap**"
   ]
  },
  {
   "cell_type": "code",
   "execution_count": 98,
   "metadata": {},
   "outputs": [
    {
     "data": {
      "image/png": "[encoded data removed]",
      "text/plain": [
       "<Figure size 432x288 with 2 Axes>"
      ]
     },
     "metadata": {
      "needs_background": "light"
     },
     "output_type": "display_data"
    }
   ],
   "source": [
    "corrmatrix = df_num.corr(method = \"pearson\")\n",
    "\n",
    "sns.heatmap(corrmatrix, xticklabels = corrmatrix.columns, yticklabels = corrmatrix.columns, cmap = \"coolwarm\")\n",
    "plt.title('Heat Map of Correlation Matrix')\n",
    "plt.tight_layout()\n",
    "plt.show()"
   ]
  },
  {
   "cell_type": "markdown",
   "metadata": {
    "id": "9Dfy-8C7Uy7l"
   },
   "source": [
    "### 9) Scaling using Normalization:\n",
    "\n",
    "The scale/magnitude of the data will be converted to min = 0 and max = 1"
   ]
  },
  {
   "cell_type": "code",
   "execution_count": 99,
   "metadata": {
    "id": "gcpVZh3sUpvV"
   },
   "outputs": [],
   "source": [
    "def norm_func(i):\n",
    "  x = (i-i.min()) / (i.max()-i.min())\n",
    "  return(x)"
   ]
  },
  {
   "cell_type": "code",
   "execution_count": 100,
   "metadata": {
    "colab": {
     "base_uri": "https://localhost:8080/",
     "height": 833
    },
    "id": "1gpR2jueYYuO",
    "outputId": "a11ea75b-a53f-40e8-8164-19b3d9731fe5"
   },
   "outputs": [],
   "source": [
    "df_norm = norm_func(df1.iloc[:, 1:])"
   ]
  },
  {
   "cell_type": "code",
   "execution_count": 101,
   "metadata": {
    "colab": {
     "base_uri": "https://localhost:8080/",
     "height": 300
    },
    "id": "3GDS7zpLaBsf",
    "outputId": "9ab8cb1c-fb6d-4944-ec39-1b388b5fae8b"
   },
   "outputs": [
    {
     "data": {
      "text/html": [
       "<div>\n",
       "<style scoped>\n",
       "    .dataframe tbody tr th:only-of-type {\n",
       "        vertical-align: middle;\n",
       "    }\n",
       "\n",
       "    .dataframe tbody tr th {\n",
       "        vertical-align: top;\n",
       "    }\n",
       "\n",
       "    .dataframe thead th {\n",
       "        text-align: right;\n",
       "    }\n",
       "</style>\n",
       "<table border=\"1\" class=\"dataframe\">\n",
       "  <thead>\n",
       "    <tr style=\"text-align: right;\">\n",
       "      <th></th>\n",
       "      <th>State_CT</th>\n",
       "      <th>State_DC</th>\n",
       "      <th>State_IL</th>\n",
       "      <th>State_IN</th>\n",
       "      <th>State_MA</th>\n",
       "      <th>State_MD</th>\n",
       "      <th>State_MI</th>\n",
       "      <th>State_NC</th>\n",
       "      <th>State_NH</th>\n",
       "      <th>State_NJ</th>\n",
       "      <th>...</th>\n",
       "      <th>State_RI</th>\n",
       "      <th>State_TX</th>\n",
       "      <th>State_VA</th>\n",
       "      <th>State_WI</th>\n",
       "      <th>SAT</th>\n",
       "      <th>Top10</th>\n",
       "      <th>Accept</th>\n",
       "      <th>SFRatio</th>\n",
       "      <th>Expenses</th>\n",
       "      <th>GradRate</th>\n",
       "    </tr>\n",
       "  </thead>\n",
       "  <tbody>\n",
       "    <tr>\n",
       "      <th>count</th>\n",
       "      <td>25.00</td>\n",
       "      <td>25.00</td>\n",
       "      <td>25.000000</td>\n",
       "      <td>25.000000</td>\n",
       "      <td>25.000000</td>\n",
       "      <td>25.00</td>\n",
       "      <td>25.00</td>\n",
       "      <td>25.00</td>\n",
       "      <td>25.00</td>\n",
       "      <td>25.00</td>\n",
       "      <td>...</td>\n",
       "      <td>25.00</td>\n",
       "      <td>25.00</td>\n",
       "      <td>25.00</td>\n",
       "      <td>25.00</td>\n",
       "      <td>25.000000</td>\n",
       "      <td>25.000000</td>\n",
       "      <td>25.000000</td>\n",
       "      <td>25.000000</td>\n",
       "      <td>25.000000</td>\n",
       "      <td>25.000000</td>\n",
       "    </tr>\n",
       "    <tr>\n",
       "      <th>mean</th>\n",
       "      <td>0.04</td>\n",
       "      <td>0.04</td>\n",
       "      <td>0.080000</td>\n",
       "      <td>0.080000</td>\n",
       "      <td>0.080000</td>\n",
       "      <td>0.04</td>\n",
       "      <td>0.04</td>\n",
       "      <td>0.04</td>\n",
       "      <td>0.04</td>\n",
       "      <td>0.04</td>\n",
       "      <td>...</td>\n",
       "      <td>0.04</td>\n",
       "      <td>0.04</td>\n",
       "      <td>0.04</td>\n",
       "      <td>0.04</td>\n",
       "      <td>0.558390</td>\n",
       "      <td>0.565600</td>\n",
       "      <td>0.335467</td>\n",
       "      <td>0.493333</td>\n",
       "      <td>0.340508</td>\n",
       "      <td>0.646667</td>\n",
       "    </tr>\n",
       "    <tr>\n",
       "      <th>std</th>\n",
       "      <td>0.20</td>\n",
       "      <td>0.20</td>\n",
       "      <td>0.276887</td>\n",
       "      <td>0.276887</td>\n",
       "      <td>0.276887</td>\n",
       "      <td>0.20</td>\n",
       "      <td>0.20</td>\n",
       "      <td>0.20</td>\n",
       "      <td>0.20</td>\n",
       "      <td>0.20</td>\n",
       "      <td>...</td>\n",
       "      <td>0.20</td>\n",
       "      <td>0.20</td>\n",
       "      <td>0.20</td>\n",
       "      <td>0.20</td>\n",
       "      <td>0.303338</td>\n",
       "      <td>0.312811</td>\n",
       "      <td>0.261610</td>\n",
       "      <td>0.277086</td>\n",
       "      <td>0.262887</td>\n",
       "      <td>0.305050</td>\n",
       "    </tr>\n",
       "    <tr>\n",
       "      <th>min</th>\n",
       "      <td>0.00</td>\n",
       "      <td>0.00</td>\n",
       "      <td>0.000000</td>\n",
       "      <td>0.000000</td>\n",
       "      <td>0.000000</td>\n",
       "      <td>0.00</td>\n",
       "      <td>0.00</td>\n",
       "      <td>0.00</td>\n",
       "      <td>0.00</td>\n",
       "      <td>0.00</td>\n",
       "      <td>...</td>\n",
       "      <td>0.00</td>\n",
       "      <td>0.00</td>\n",
       "      <td>0.00</td>\n",
       "      <td>0.00</td>\n",
       "      <td>0.000000</td>\n",
       "      <td>0.000000</td>\n",
       "      <td>0.000000</td>\n",
       "      <td>0.000000</td>\n",
       "      <td>0.000000</td>\n",
       "      <td>0.000000</td>\n",
       "    </tr>\n",
       "    <tr>\n",
       "      <th>25%</th>\n",
       "      <td>0.00</td>\n",
       "      <td>0.00</td>\n",
       "      <td>0.000000</td>\n",
       "      <td>0.000000</td>\n",
       "      <td>0.000000</td>\n",
       "      <td>0.00</td>\n",
       "      <td>0.00</td>\n",
       "      <td>0.00</td>\n",
       "      <td>0.00</td>\n",
       "      <td>0.00</td>\n",
       "      <td>...</td>\n",
       "      <td>0.00</td>\n",
       "      <td>0.00</td>\n",
       "      <td>0.00</td>\n",
       "      <td>0.00</td>\n",
       "      <td>0.461538</td>\n",
       "      <td>0.480000</td>\n",
       "      <td>0.133333</td>\n",
       "      <td>0.375000</td>\n",
       "      <td>0.117293</td>\n",
       "      <td>0.433333</td>\n",
       "    </tr>\n",
       "    <tr>\n",
       "      <th>50%</th>\n",
       "      <td>0.00</td>\n",
       "      <td>0.00</td>\n",
       "      <td>0.000000</td>\n",
       "      <td>0.000000</td>\n",
       "      <td>0.000000</td>\n",
       "      <td>0.00</td>\n",
       "      <td>0.00</td>\n",
       "      <td>0.00</td>\n",
       "      <td>0.00</td>\n",
       "      <td>0.00</td>\n",
       "      <td>...</td>\n",
       "      <td>0.00</td>\n",
       "      <td>0.00</td>\n",
       "      <td>0.00</td>\n",
       "      <td>0.00</td>\n",
       "      <td>0.600000</td>\n",
       "      <td>0.620000</td>\n",
       "      <td>0.293333</td>\n",
       "      <td>0.458333</td>\n",
       "      <td>0.343515</td>\n",
       "      <td>0.766667</td>\n",
       "    </tr>\n",
       "    <tr>\n",
       "      <th>75%</th>\n",
       "      <td>0.00</td>\n",
       "      <td>0.00</td>\n",
       "      <td>0.000000</td>\n",
       "      <td>0.000000</td>\n",
       "      <td>0.000000</td>\n",
       "      <td>0.00</td>\n",
       "      <td>0.00</td>\n",
       "      <td>0.00</td>\n",
       "      <td>0.00</td>\n",
       "      <td>0.00</td>\n",
       "      <td>...</td>\n",
       "      <td>0.00</td>\n",
       "      <td>0.00</td>\n",
       "      <td>0.00</td>\n",
       "      <td>0.00</td>\n",
       "      <td>0.769231</td>\n",
       "      <td>0.800000</td>\n",
       "      <td>0.480000</td>\n",
       "      <td>0.625000</td>\n",
       "      <td>0.476864</td>\n",
       "      <td>0.900000</td>\n",
       "    </tr>\n",
       "    <tr>\n",
       "      <th>max</th>\n",
       "      <td>1.00</td>\n",
       "      <td>1.00</td>\n",
       "      <td>1.000000</td>\n",
       "      <td>1.000000</td>\n",
       "      <td>1.000000</td>\n",
       "      <td>1.00</td>\n",
       "      <td>1.00</td>\n",
       "      <td>1.00</td>\n",
       "      <td>1.00</td>\n",
       "      <td>1.00</td>\n",
       "      <td>...</td>\n",
       "      <td>1.00</td>\n",
       "      <td>1.00</td>\n",
       "      <td>1.00</td>\n",
       "      <td>1.00</td>\n",
       "      <td>1.000000</td>\n",
       "      <td>1.000000</td>\n",
       "      <td>1.000000</td>\n",
       "      <td>1.000000</td>\n",
       "      <td>1.000000</td>\n",
       "      <td>1.000000</td>\n",
       "    </tr>\n",
       "  </tbody>\n",
       "</table>\n",
       "<p>8 rows × 22 columns</p>\n",
       "</div>"
      ],
      "text/plain": [
       "       State_CT  State_DC   State_IL   State_IN   State_MA  State_MD  \\\n",
       "count     25.00     25.00  25.000000  25.000000  25.000000     25.00   \n",
       "mean       0.04      0.04   0.080000   0.080000   0.080000      0.04   \n",
       "std        0.20      0.20   0.276887   0.276887   0.276887      0.20   \n",
       "min        0.00      0.00   0.000000   0.000000   0.000000      0.00   \n",
       "25%        0.00      0.00   0.000000   0.000000   0.000000      0.00   \n",
       "50%        0.00      0.00   0.000000   0.000000   0.000000      0.00   \n",
       "75%        0.00      0.00   0.000000   0.000000   0.000000      0.00   \n",
       "max        1.00      1.00   1.000000   1.000000   1.000000      1.00   \n",
       "\n",
       "       State_MI  State_NC  State_NH  State_NJ  ...  State_RI  State_TX  \\\n",
       "count     25.00     25.00     25.00     25.00  ...     25.00     25.00   \n",
       "mean       0.04      0.04      0.04      0.04  ...      0.04      0.04   \n",
       "std        0.20      0.20      0.20      0.20  ...      0.20      0.20   \n",
       "min        0.00      0.00      0.00      0.00  ...      0.00      0.00   \n",
       "25%        0.00      0.00      0.00      0.00  ...      0.00      0.00   \n",
       "50%        0.00      0.00      0.00      0.00  ...      0.00      0.00   \n",
       "75%        0.00      0.00      0.00      0.00  ...      0.00      0.00   \n",
       "max        1.00      1.00      1.00      1.00  ...      1.00      1.00   \n",
       "\n",
       "       State_VA  State_WI        SAT      Top10     Accept    SFRatio  \\\n",
       "count     25.00     25.00  25.000000  25.000000  25.000000  25.000000   \n",
       "mean       0.04      0.04   0.558390   0.565600   0.335467   0.493333   \n",
       "std        0.20      0.20   0.303338   0.312811   0.261610   0.277086   \n",
       "min        0.00      0.00   0.000000   0.000000   0.000000   0.000000   \n",
       "25%        0.00      0.00   0.461538   0.480000   0.133333   0.375000   \n",
       "50%        0.00      0.00   0.600000   0.620000   0.293333   0.458333   \n",
       "75%        0.00      0.00   0.769231   0.800000   0.480000   0.625000   \n",
       "max        1.00      1.00   1.000000   1.000000   1.000000   1.000000   \n",
       "\n",
       "        Expenses   GradRate  \n",
       "count  25.000000  25.000000  \n",
       "mean    0.340508   0.646667  \n",
       "std     0.262887   0.305050  \n",
       "min     0.000000   0.000000  \n",
       "25%     0.117293   0.433333  \n",
       "50%     0.343515   0.766667  \n",
       "75%     0.476864   0.900000  \n",
       "max     1.000000   1.000000  \n",
       "\n",
       "[8 rows x 22 columns]"
      ]
     },
     "execution_count": 101,
     "metadata": {},
     "output_type": "execute_result"
    }
   ],
   "source": [
    "df_norm.describe()"
   ]
  },
  {
   "cell_type": "markdown",
   "metadata": {
    "id": "W6OGJ4cToHZq"
   },
   "source": [
    "# CLUSTERING MODEL BUILDING"
   ]
  },
  {
   "cell_type": "markdown",
   "metadata": {},
   "source": [
    "### Hierarchical Clustering - Agglomerative Clustering"
   ]
  },
  {
   "cell_type": "code",
   "execution_count": 102,
   "metadata": {
    "id": "2PoIrN6voG7r"
   },
   "outputs": [],
   "source": [
    "# Libraries for creating dendrogram \n",
    "from scipy.cluster.hierarchy import linkage, dendrogram\n",
    "from sklearn.cluster import AgglomerativeClustering \n",
    "import matplotlib.pyplot as plt"
   ]
  },
  {
   "cell_type": "code",
   "execution_count": 66,
   "metadata": {
    "colab": {
     "base_uri": "https://localhost:8080/",
     "height": 603
    },
    "id": "I61sJKyzqdKa",
    "outputId": "619c86b4-60ef-4774-8bb9-16fe328aa68a"
   },
   "outputs": [
    {
     "data": {
      "image/png": "[encoded data removed]",
      "text/plain": [
       "<Figure size 1152x576 with 1 Axes>"
      ]
     },
     "metadata": {
      "needs_background": "light"
     },
     "output_type": "display_data"
    }
   ],
   "source": [
    "plt.figure(1, figsize = (16, 8))\n",
    "tree_plot = dendrogram(linkage(df_norm, method  = \"ward\"))\n",
    "\n",
    "plt.title('Hierarchical Clustering Dendrogram')\n",
    "plt.xlabel('Index')\n",
    "plt.ylabel('Euclidean distances')\n",
    "plt.show()"
   ]
  },
  {
   "cell_type": "code",
   "execution_count": 104,
   "metadata": {
    "colab": {
     "base_uri": "https://localhost:8080/"
    },
    "id": "PNKXGzB750Bu",
    "outputId": "978a91d9-2b0e-46f1-a7fd-4fdefe925fe7"
   },
   "outputs": [
    {
     "data": {
      "text/plain": [
       "array([1, 1, 2, 1, 1, 1, 1, 1, 1, 1, 1, 1, 0, 2, 1, 0, 1, 0, 1, 1, 0, 2,\n",
       "       1, 0, 1], dtype=int64)"
      ]
     },
     "execution_count": 104,
     "metadata": {},
     "output_type": "execute_result"
    }
   ],
   "source": [
    "# Applying AgglomerativeClustering choosing 3 as clusters from the above dendrogram\n",
    "hc1 = AgglomerativeClustering(n_clusters = 3, affinity = 'euclidean', linkage = 'complete')\n",
    "\n",
    "y_hc1 = hc1.fit_predict(df_norm)\n",
    "y_hc1"
   ]
  },
  {
   "cell_type": "code",
   "execution_count": 105,
   "metadata": {
    "colab": {
     "base_uri": "https://localhost:8080/"
    },
    "id": "18IfrBpVLW4t",
    "outputId": "a498350d-425e-4a5c-c615-25a475413bf6"
   },
   "outputs": [
    {
     "data": {
      "text/plain": [
       "array([1, 1, 2, 1, 1, 1, 1, 1, 1, 1, 1, 1, 0, 2, 1, 0, 1, 0, 1, 1, 0, 2,\n",
       "       1, 0, 1], dtype=int64)"
      ]
     },
     "execution_count": 105,
     "metadata": {},
     "output_type": "execute_result"
    }
   ],
   "source": [
    "# Applying AgglomerativeClustering choosing 3 as clusters from the above dendrogram\n",
    "hc2 = AgglomerativeClustering(n_clusters = 3, affinity = 'euclidean', linkage = 'average')\n",
    "\n",
    "y_hc2 = hc2.fit_predict(df_norm)\n",
    "y_hc2"
   ]
  },
  {
   "cell_type": "code",
   "execution_count": 106,
   "metadata": {
    "colab": {
     "base_uri": "https://localhost:8080/"
    },
    "id": "MFpPttQCgI-h",
    "outputId": "66ddd1d3-24eb-4b33-c1c2-df62fd4bba62"
   },
   "outputs": [
    {
     "data": {
      "text/plain": [
       "array([0, 0, 0, 0, 0, 0, 0, 0, 0, 0, 0, 0, 0, 0, 0, 0, 0, 2, 0, 0, 0, 0,\n",
       "       0, 1, 0], dtype=int64)"
      ]
     },
     "execution_count": 106,
     "metadata": {},
     "output_type": "execute_result"
    }
   ],
   "source": [
    "# Applying AgglomerativeClustering choosing 3 as clusters from the above dendrogram\n",
    "hc3 = AgglomerativeClustering(n_clusters = 3, affinity = 'euclidean', linkage = 'single')\n",
    "\n",
    "y_hc3 = hc3.fit_predict(df_norm)\n",
    "y_hc3"
   ]
  },
  {
   "cell_type": "code",
   "execution_count": 107,
   "metadata": {
    "colab": {
     "base_uri": "https://localhost:8080/"
    },
    "id": "8D69FTMJ6m84",
    "outputId": "9806783d-ec67-4101-f507-744e4d28daf7"
   },
   "outputs": [
    {
     "data": {
      "text/plain": [
       "array([1, 1, 2, 1, 1, 1, 1, 1, 1, 1, 1, 1, 0, 2, 1, 0, 1, 0, 1, 1, 0, 2,\n",
       "       1, 0, 1], dtype=int64)"
      ]
     },
     "execution_count": 107,
     "metadata": {},
     "output_type": "execute_result"
    }
   ],
   "source": [
    "hc1.labels_   # Refering to the results obtained from linkage = 'complete' method"
   ]
  },
  {
   "cell_type": "code",
   "execution_count": 108,
   "metadata": {
    "id": "dn_RgMxl8FEa"
   },
   "outputs": [],
   "source": [
    "cluster_labels = pd.Series(hc1.labels_)"
   ]
  },
  {
   "cell_type": "code",
   "execution_count": 109,
   "metadata": {
    "colab": {
     "base_uri": "https://localhost:8080/",
     "height": 833
    },
    "id": "ydm1nuVv8j4H",
    "outputId": "845b3793-5bcd-4835-99da-a1c5f7d85498"
   },
   "outputs": [
    {
     "data": {
      "text/html": [
       "<div>\n",
       "<style scoped>\n",
       "    .dataframe tbody tr th:only-of-type {\n",
       "        vertical-align: middle;\n",
       "    }\n",
       "\n",
       "    .dataframe tbody tr th {\n",
       "        vertical-align: top;\n",
       "    }\n",
       "\n",
       "    .dataframe thead th {\n",
       "        text-align: right;\n",
       "    }\n",
       "</style>\n",
       "<table border=\"1\" class=\"dataframe\">\n",
       "  <thead>\n",
       "    <tr style=\"text-align: right;\">\n",
       "      <th></th>\n",
       "      <th>Univ</th>\n",
       "      <th>State</th>\n",
       "      <th>SAT</th>\n",
       "      <th>Top10</th>\n",
       "      <th>Accept</th>\n",
       "      <th>SFRatio</th>\n",
       "      <th>Expenses</th>\n",
       "      <th>GradRate</th>\n",
       "      <th>cluster</th>\n",
       "    </tr>\n",
       "  </thead>\n",
       "  <tbody>\n",
       "    <tr>\n",
       "      <th>0</th>\n",
       "      <td>Brown</td>\n",
       "      <td>RI</td>\n",
       "      <td>1310.0</td>\n",
       "      <td>89</td>\n",
       "      <td>22</td>\n",
       "      <td>13.0</td>\n",
       "      <td>22704</td>\n",
       "      <td>94.0</td>\n",
       "      <td>1</td>\n",
       "    </tr>\n",
       "    <tr>\n",
       "      <th>1</th>\n",
       "      <td>CalTech</td>\n",
       "      <td>CA</td>\n",
       "      <td>1415.0</td>\n",
       "      <td>100</td>\n",
       "      <td>25</td>\n",
       "      <td>6.0</td>\n",
       "      <td>63575</td>\n",
       "      <td>81.0</td>\n",
       "      <td>1</td>\n",
       "    </tr>\n",
       "    <tr>\n",
       "      <th>2</th>\n",
       "      <td>CMU</td>\n",
       "      <td>PA</td>\n",
       "      <td>1260.0</td>\n",
       "      <td>62</td>\n",
       "      <td>59</td>\n",
       "      <td>9.0</td>\n",
       "      <td>25026</td>\n",
       "      <td>72.0</td>\n",
       "      <td>2</td>\n",
       "    </tr>\n",
       "    <tr>\n",
       "      <th>3</th>\n",
       "      <td>Columbia</td>\n",
       "      <td>NY</td>\n",
       "      <td>1310.0</td>\n",
       "      <td>76</td>\n",
       "      <td>24</td>\n",
       "      <td>12.0</td>\n",
       "      <td>31510</td>\n",
       "      <td>80.0</td>\n",
       "      <td>1</td>\n",
       "    </tr>\n",
       "    <tr>\n",
       "      <th>4</th>\n",
       "      <td>Cornell</td>\n",
       "      <td>NY</td>\n",
       "      <td>1280.0</td>\n",
       "      <td>83</td>\n",
       "      <td>33</td>\n",
       "      <td>13.0</td>\n",
       "      <td>21864</td>\n",
       "      <td>90.0</td>\n",
       "      <td>1</td>\n",
       "    </tr>\n",
       "  </tbody>\n",
       "</table>\n",
       "</div>"
      ],
      "text/plain": [
       "       Univ State     SAT  Top10  Accept  SFRatio  Expenses  GradRate  cluster\n",
       "0     Brown    RI  1310.0     89      22     13.0     22704      94.0        1\n",
       "1   CalTech    CA  1415.0    100      25      6.0     63575      81.0        1\n",
       "2       CMU    PA  1260.0     62      59      9.0     25026      72.0        2\n",
       "3  Columbia    NY  1310.0     76      24     12.0     31510      80.0        1\n",
       "4   Cornell    NY  1280.0     83      33     13.0     21864      90.0        1"
      ]
     },
     "execution_count": 109,
     "metadata": {},
     "output_type": "execute_result"
    }
   ],
   "source": [
    "# Add Cluster labels to orignal Dataset\n",
    "\n",
    "df['cluster'] = cluster_labels\n",
    "df.head()"
   ]
  },
  {
   "cell_type": "markdown",
   "metadata": {},
   "source": [
    "# Cluster Evaluation"
   ]
  },
  {
   "cell_type": "code",
   "execution_count": 110,
   "metadata": {},
   "outputs": [
    {
     "data": {
      "text/html": [
       "<div>\n",
       "<style scoped>\n",
       "    .dataframe tbody tr th:only-of-type {\n",
       "        vertical-align: middle;\n",
       "    }\n",
       "\n",
       "    .dataframe tbody tr th {\n",
       "        vertical-align: top;\n",
       "    }\n",
       "\n",
       "    .dataframe thead th {\n",
       "        text-align: right;\n",
       "    }\n",
       "</style>\n",
       "<table border=\"1\" class=\"dataframe\">\n",
       "  <thead>\n",
       "    <tr style=\"text-align: right;\">\n",
       "      <th></th>\n",
       "      <th>Univ</th>\n",
       "      <th>State</th>\n",
       "      <th>SAT</th>\n",
       "      <th>Top10</th>\n",
       "      <th>Accept</th>\n",
       "      <th>SFRatio</th>\n",
       "      <th>Expenses</th>\n",
       "      <th>GradRate</th>\n",
       "      <th>cluster</th>\n",
       "    </tr>\n",
       "  </thead>\n",
       "  <tbody>\n",
       "    <tr>\n",
       "      <th>0</th>\n",
       "      <td>Brown</td>\n",
       "      <td>RI</td>\n",
       "      <td>1310.0</td>\n",
       "      <td>89</td>\n",
       "      <td>22</td>\n",
       "      <td>13.0</td>\n",
       "      <td>22704</td>\n",
       "      <td>94.0</td>\n",
       "      <td>1</td>\n",
       "    </tr>\n",
       "    <tr>\n",
       "      <th>1</th>\n",
       "      <td>CalTech</td>\n",
       "      <td>CA</td>\n",
       "      <td>1415.0</td>\n",
       "      <td>100</td>\n",
       "      <td>25</td>\n",
       "      <td>6.0</td>\n",
       "      <td>63575</td>\n",
       "      <td>81.0</td>\n",
       "      <td>1</td>\n",
       "    </tr>\n",
       "    <tr>\n",
       "      <th>2</th>\n",
       "      <td>CMU</td>\n",
       "      <td>PA</td>\n",
       "      <td>1260.0</td>\n",
       "      <td>62</td>\n",
       "      <td>59</td>\n",
       "      <td>9.0</td>\n",
       "      <td>25026</td>\n",
       "      <td>72.0</td>\n",
       "      <td>2</td>\n",
       "    </tr>\n",
       "    <tr>\n",
       "      <th>3</th>\n",
       "      <td>Columbia</td>\n",
       "      <td>NY</td>\n",
       "      <td>1310.0</td>\n",
       "      <td>76</td>\n",
       "      <td>24</td>\n",
       "      <td>12.0</td>\n",
       "      <td>31510</td>\n",
       "      <td>80.0</td>\n",
       "      <td>1</td>\n",
       "    </tr>\n",
       "    <tr>\n",
       "      <th>4</th>\n",
       "      <td>Cornell</td>\n",
       "      <td>NY</td>\n",
       "      <td>1280.0</td>\n",
       "      <td>83</td>\n",
       "      <td>33</td>\n",
       "      <td>13.0</td>\n",
       "      <td>21864</td>\n",
       "      <td>90.0</td>\n",
       "      <td>1</td>\n",
       "    </tr>\n",
       "  </tbody>\n",
       "</table>\n",
       "</div>"
      ],
      "text/plain": [
       "       Univ State     SAT  Top10  Accept  SFRatio  Expenses  GradRate  cluster\n",
       "0     Brown    RI  1310.0     89      22     13.0     22704      94.0        1\n",
       "1   CalTech    CA  1415.0    100      25      6.0     63575      81.0        1\n",
       "2       CMU    PA  1260.0     62      59      9.0     25026      72.0        2\n",
       "3  Columbia    NY  1310.0     76      24     12.0     31510      80.0        1\n",
       "4   Cornell    NY  1280.0     83      33     13.0     21864      90.0        1"
      ]
     },
     "execution_count": 110,
     "metadata": {},
     "output_type": "execute_result"
    }
   ],
   "source": [
    "df.head() # The final dataframe with cluster ID's"
   ]
  },
  {
   "cell_type": "code",
   "execution_count": 74,
   "metadata": {
    "colab": {
     "base_uri": "https://localhost:8080/",
     "height": 833
    },
    "id": "9EKCdHb-e-RR",
    "outputId": "e5c7bd70-fa8f-465a-80fc-f0800fc0fd04"
   },
   "outputs": [
    {
     "data": {
      "text/html": [
       "<div>\n",
       "<style scoped>\n",
       "    .dataframe tbody tr th:only-of-type {\n",
       "        vertical-align: middle;\n",
       "    }\n",
       "\n",
       "    .dataframe tbody tr th {\n",
       "        vertical-align: top;\n",
       "    }\n",
       "\n",
       "    .dataframe thead th {\n",
       "        text-align: right;\n",
       "    }\n",
       "</style>\n",
       "<table border=\"1\" class=\"dataframe\">\n",
       "  <thead>\n",
       "    <tr style=\"text-align: right;\">\n",
       "      <th></th>\n",
       "      <th>Univ</th>\n",
       "      <th>State</th>\n",
       "      <th>SAT</th>\n",
       "      <th>Top10</th>\n",
       "      <th>Accept</th>\n",
       "      <th>SFRatio</th>\n",
       "      <th>Expenses</th>\n",
       "      <th>GradRate</th>\n",
       "      <th>cluster</th>\n",
       "    </tr>\n",
       "  </thead>\n",
       "  <tbody>\n",
       "    <tr>\n",
       "      <th>12</th>\n",
       "      <td>NotreDame</td>\n",
       "      <td>IN</td>\n",
       "      <td>1255.000000</td>\n",
       "      <td>81</td>\n",
       "      <td>42</td>\n",
       "      <td>13.0</td>\n",
       "      <td>15122</td>\n",
       "      <td>94.0</td>\n",
       "      <td>0</td>\n",
       "    </tr>\n",
       "    <tr>\n",
       "      <th>20</th>\n",
       "      <td>UMichigan</td>\n",
       "      <td>MI</td>\n",
       "      <td>1180.000000</td>\n",
       "      <td>65</td>\n",
       "      <td>68</td>\n",
       "      <td>16.0</td>\n",
       "      <td>15470</td>\n",
       "      <td>85.0</td>\n",
       "      <td>0</td>\n",
       "    </tr>\n",
       "    <tr>\n",
       "      <th>17</th>\n",
       "      <td>TexasA&amp;M</td>\n",
       "      <td>TX</td>\n",
       "      <td>1075.000000</td>\n",
       "      <td>49</td>\n",
       "      <td>67</td>\n",
       "      <td>25.0</td>\n",
       "      <td>8704</td>\n",
       "      <td>67.0</td>\n",
       "      <td>0</td>\n",
       "    </tr>\n",
       "    <tr>\n",
       "      <th>15</th>\n",
       "      <td>Purdue</td>\n",
       "      <td>IN</td>\n",
       "      <td>1005.000000</td>\n",
       "      <td>28</td>\n",
       "      <td>90</td>\n",
       "      <td>19.0</td>\n",
       "      <td>9066</td>\n",
       "      <td>69.0</td>\n",
       "      <td>0</td>\n",
       "    </tr>\n",
       "    <tr>\n",
       "      <th>23</th>\n",
       "      <td>UWisconsin</td>\n",
       "      <td>WI</td>\n",
       "      <td>1085.000000</td>\n",
       "      <td>40</td>\n",
       "      <td>69</td>\n",
       "      <td>15.0</td>\n",
       "      <td>11857</td>\n",
       "      <td>71.0</td>\n",
       "      <td>0</td>\n",
       "    </tr>\n",
       "    <tr>\n",
       "      <th>22</th>\n",
       "      <td>UVA</td>\n",
       "      <td>VA</td>\n",
       "      <td>1225.000000</td>\n",
       "      <td>77</td>\n",
       "      <td>44</td>\n",
       "      <td>14.0</td>\n",
       "      <td>13349</td>\n",
       "      <td>92.0</td>\n",
       "      <td>1</td>\n",
       "    </tr>\n",
       "    <tr>\n",
       "      <th>19</th>\n",
       "      <td>UChicago</td>\n",
       "      <td>IL</td>\n",
       "      <td>1290.000000</td>\n",
       "      <td>75</td>\n",
       "      <td>50</td>\n",
       "      <td>12.0</td>\n",
       "      <td>38380</td>\n",
       "      <td>87.0</td>\n",
       "      <td>1</td>\n",
       "    </tr>\n",
       "    <tr>\n",
       "      <th>18</th>\n",
       "      <td>UCBerkeley</td>\n",
       "      <td>CA</td>\n",
       "      <td>1240.000000</td>\n",
       "      <td>95</td>\n",
       "      <td>40</td>\n",
       "      <td>17.0</td>\n",
       "      <td>15140</td>\n",
       "      <td>78.0</td>\n",
       "      <td>1</td>\n",
       "    </tr>\n",
       "    <tr>\n",
       "      <th>16</th>\n",
       "      <td>Stanford</td>\n",
       "      <td>CA</td>\n",
       "      <td>1360.000000</td>\n",
       "      <td>90</td>\n",
       "      <td>20</td>\n",
       "      <td>12.0</td>\n",
       "      <td>36450</td>\n",
       "      <td>93.0</td>\n",
       "      <td>1</td>\n",
       "    </tr>\n",
       "    <tr>\n",
       "      <th>14</th>\n",
       "      <td>Princeton</td>\n",
       "      <td>NJ</td>\n",
       "      <td>1375.000000</td>\n",
       "      <td>91</td>\n",
       "      <td>14</td>\n",
       "      <td>8.0</td>\n",
       "      <td>30220</td>\n",
       "      <td>95.0</td>\n",
       "      <td>1</td>\n",
       "    </tr>\n",
       "    <tr>\n",
       "      <th>11</th>\n",
       "      <td>Northwestern</td>\n",
       "      <td>IL</td>\n",
       "      <td>1260.000000</td>\n",
       "      <td>85</td>\n",
       "      <td>39</td>\n",
       "      <td>11.0</td>\n",
       "      <td>28052</td>\n",
       "      <td>89.0</td>\n",
       "      <td>1</td>\n",
       "    </tr>\n",
       "    <tr>\n",
       "      <th>0</th>\n",
       "      <td>Brown</td>\n",
       "      <td>RI</td>\n",
       "      <td>1310.000000</td>\n",
       "      <td>89</td>\n",
       "      <td>22</td>\n",
       "      <td>13.0</td>\n",
       "      <td>22704</td>\n",
       "      <td>94.0</td>\n",
       "      <td>1</td>\n",
       "    </tr>\n",
       "    <tr>\n",
       "      <th>9</th>\n",
       "      <td>JohnsHopkins</td>\n",
       "      <td>MD</td>\n",
       "      <td>1305.000000</td>\n",
       "      <td>75</td>\n",
       "      <td>44</td>\n",
       "      <td>7.0</td>\n",
       "      <td>58691</td>\n",
       "      <td>87.0</td>\n",
       "      <td>1</td>\n",
       "    </tr>\n",
       "    <tr>\n",
       "      <th>8</th>\n",
       "      <td>Harvard</td>\n",
       "      <td>MA</td>\n",
       "      <td>1400.000000</td>\n",
       "      <td>91</td>\n",
       "      <td>14</td>\n",
       "      <td>11.0</td>\n",
       "      <td>39525</td>\n",
       "      <td>97.0</td>\n",
       "      <td>1</td>\n",
       "    </tr>\n",
       "    <tr>\n",
       "      <th>7</th>\n",
       "      <td>Georgetown</td>\n",
       "      <td>DC</td>\n",
       "      <td>1266.916667</td>\n",
       "      <td>74</td>\n",
       "      <td>24</td>\n",
       "      <td>12.0</td>\n",
       "      <td>20126</td>\n",
       "      <td>92.0</td>\n",
       "      <td>1</td>\n",
       "    </tr>\n",
       "    <tr>\n",
       "      <th>6</th>\n",
       "      <td>Duke</td>\n",
       "      <td>NC</td>\n",
       "      <td>1315.000000</td>\n",
       "      <td>90</td>\n",
       "      <td>30</td>\n",
       "      <td>12.0</td>\n",
       "      <td>31585</td>\n",
       "      <td>95.0</td>\n",
       "      <td>1</td>\n",
       "    </tr>\n",
       "    <tr>\n",
       "      <th>5</th>\n",
       "      <td>Dartmouth</td>\n",
       "      <td>NH</td>\n",
       "      <td>1340.000000</td>\n",
       "      <td>89</td>\n",
       "      <td>23</td>\n",
       "      <td>10.0</td>\n",
       "      <td>32162</td>\n",
       "      <td>95.0</td>\n",
       "      <td>1</td>\n",
       "    </tr>\n",
       "    <tr>\n",
       "      <th>4</th>\n",
       "      <td>Cornell</td>\n",
       "      <td>NY</td>\n",
       "      <td>1280.000000</td>\n",
       "      <td>83</td>\n",
       "      <td>33</td>\n",
       "      <td>13.0</td>\n",
       "      <td>21864</td>\n",
       "      <td>90.0</td>\n",
       "      <td>1</td>\n",
       "    </tr>\n",
       "    <tr>\n",
       "      <th>3</th>\n",
       "      <td>Columbia</td>\n",
       "      <td>NY</td>\n",
       "      <td>1310.000000</td>\n",
       "      <td>76</td>\n",
       "      <td>24</td>\n",
       "      <td>12.0</td>\n",
       "      <td>31510</td>\n",
       "      <td>80.0</td>\n",
       "      <td>1</td>\n",
       "    </tr>\n",
       "    <tr>\n",
       "      <th>1</th>\n",
       "      <td>CalTech</td>\n",
       "      <td>CA</td>\n",
       "      <td>1415.000000</td>\n",
       "      <td>100</td>\n",
       "      <td>25</td>\n",
       "      <td>6.0</td>\n",
       "      <td>63575</td>\n",
       "      <td>81.0</td>\n",
       "      <td>1</td>\n",
       "    </tr>\n",
       "    <tr>\n",
       "      <th>10</th>\n",
       "      <td>MIT</td>\n",
       "      <td>MA</td>\n",
       "      <td>1380.000000</td>\n",
       "      <td>94</td>\n",
       "      <td>30</td>\n",
       "      <td>10.0</td>\n",
       "      <td>34870</td>\n",
       "      <td>91.0</td>\n",
       "      <td>1</td>\n",
       "    </tr>\n",
       "    <tr>\n",
       "      <th>24</th>\n",
       "      <td>Yale</td>\n",
       "      <td>CT</td>\n",
       "      <td>1375.000000</td>\n",
       "      <td>95</td>\n",
       "      <td>19</td>\n",
       "      <td>11.0</td>\n",
       "      <td>43514</td>\n",
       "      <td>96.0</td>\n",
       "      <td>1</td>\n",
       "    </tr>\n",
       "    <tr>\n",
       "      <th>13</th>\n",
       "      <td>PennState</td>\n",
       "      <td>PA</td>\n",
       "      <td>1081.000000</td>\n",
       "      <td>38</td>\n",
       "      <td>54</td>\n",
       "      <td>18.0</td>\n",
       "      <td>10185</td>\n",
       "      <td>80.0</td>\n",
       "      <td>2</td>\n",
       "    </tr>\n",
       "    <tr>\n",
       "      <th>2</th>\n",
       "      <td>CMU</td>\n",
       "      <td>PA</td>\n",
       "      <td>1260.000000</td>\n",
       "      <td>62</td>\n",
       "      <td>59</td>\n",
       "      <td>9.0</td>\n",
       "      <td>25026</td>\n",
       "      <td>72.0</td>\n",
       "      <td>2</td>\n",
       "    </tr>\n",
       "    <tr>\n",
       "      <th>21</th>\n",
       "      <td>UPenn</td>\n",
       "      <td>PA</td>\n",
       "      <td>1285.000000</td>\n",
       "      <td>80</td>\n",
       "      <td>36</td>\n",
       "      <td>11.0</td>\n",
       "      <td>27553</td>\n",
       "      <td>90.0</td>\n",
       "      <td>2</td>\n",
       "    </tr>\n",
       "  </tbody>\n",
       "</table>\n",
       "</div>"
      ],
      "text/plain": [
       "            Univ State          SAT  Top10  Accept  SFRatio  Expenses  \\\n",
       "12     NotreDame    IN  1255.000000     81      42     13.0     15122   \n",
       "20     UMichigan    MI  1180.000000     65      68     16.0     15470   \n",
       "17      TexasA&M    TX  1075.000000     49      67     25.0      8704   \n",
       "15        Purdue    IN  1005.000000     28      90     19.0      9066   \n",
       "23    UWisconsin    WI  1085.000000     40      69     15.0     11857   \n",
       "22           UVA    VA  1225.000000     77      44     14.0     13349   \n",
       "19      UChicago    IL  1290.000000     75      50     12.0     38380   \n",
       "18    UCBerkeley    CA  1240.000000     95      40     17.0     15140   \n",
       "16      Stanford    CA  1360.000000     90      20     12.0     36450   \n",
       "14     Princeton    NJ  1375.000000     91      14      8.0     30220   \n",
       "11  Northwestern    IL  1260.000000     85      39     11.0     28052   \n",
       "0          Brown    RI  1310.000000     89      22     13.0     22704   \n",
       "9   JohnsHopkins    MD  1305.000000     75      44      7.0     58691   \n",
       "8        Harvard    MA  1400.000000     91      14     11.0     39525   \n",
       "7     Georgetown    DC  1266.916667     74      24     12.0     20126   \n",
       "6           Duke    NC  1315.000000     90      30     12.0     31585   \n",
       "5      Dartmouth    NH  1340.000000     89      23     10.0     32162   \n",
       "4        Cornell    NY  1280.000000     83      33     13.0     21864   \n",
       "3       Columbia    NY  1310.000000     76      24     12.0     31510   \n",
       "1        CalTech    CA  1415.000000    100      25      6.0     63575   \n",
       "10           MIT    MA  1380.000000     94      30     10.0     34870   \n",
       "24          Yale    CT  1375.000000     95      19     11.0     43514   \n",
       "13     PennState    PA  1081.000000     38      54     18.0     10185   \n",
       "2            CMU    PA  1260.000000     62      59      9.0     25026   \n",
       "21         UPenn    PA  1285.000000     80      36     11.0     27553   \n",
       "\n",
       "    GradRate  cluster  \n",
       "12      94.0        0  \n",
       "20      85.0        0  \n",
       "17      67.0        0  \n",
       "15      69.0        0  \n",
       "23      71.0        0  \n",
       "22      92.0        1  \n",
       "19      87.0        1  \n",
       "18      78.0        1  \n",
       "16      93.0        1  \n",
       "14      95.0        1  \n",
       "11      89.0        1  \n",
       "0       94.0        1  \n",
       "9       87.0        1  \n",
       "8       97.0        1  \n",
       "7       92.0        1  \n",
       "6       95.0        1  \n",
       "5       95.0        1  \n",
       "4       90.0        1  \n",
       "3       80.0        1  \n",
       "1       81.0        1  \n",
       "10      91.0        1  \n",
       "24      96.0        1  \n",
       "13      80.0        2  \n",
       "2       72.0        2  \n",
       "21      90.0        2  "
      ]
     },
     "execution_count": 74,
     "metadata": {},
     "output_type": "execute_result"
    }
   ],
   "source": [
    "df2 = df.sort_values(by = 'cluster', ascending = True)\n",
    "df2"
   ]
  },
  {
   "cell_type": "code",
   "execution_count": 75,
   "metadata": {},
   "outputs": [
    {
     "data": {
      "text/html": [
       "<div>\n",
       "<style scoped>\n",
       "    .dataframe tbody tr th:only-of-type {\n",
       "        vertical-align: middle;\n",
       "    }\n",
       "\n",
       "    .dataframe tbody tr th {\n",
       "        vertical-align: top;\n",
       "    }\n",
       "\n",
       "    .dataframe thead th {\n",
       "        text-align: right;\n",
       "    }\n",
       "</style>\n",
       "<table border=\"1\" class=\"dataframe\">\n",
       "  <thead>\n",
       "    <tr style=\"text-align: right;\">\n",
       "      <th></th>\n",
       "      <th>SAT</th>\n",
       "      <th>Top10</th>\n",
       "      <th>Accept</th>\n",
       "      <th>SFRatio</th>\n",
       "      <th>Expenses</th>\n",
       "      <th>GradRate</th>\n",
       "      <th>cluster</th>\n",
       "    </tr>\n",
       "    <tr>\n",
       "      <th>cluster</th>\n",
       "      <th></th>\n",
       "      <th></th>\n",
       "      <th></th>\n",
       "      <th></th>\n",
       "      <th></th>\n",
       "      <th></th>\n",
       "      <th></th>\n",
       "    </tr>\n",
       "  </thead>\n",
       "  <tbody>\n",
       "    <tr>\n",
       "      <th>0</th>\n",
       "      <td>1120.000000</td>\n",
       "      <td>52.600000</td>\n",
       "      <td>67.200000</td>\n",
       "      <td>17.600000</td>\n",
       "      <td>12043.800000</td>\n",
       "      <td>77.200000</td>\n",
       "      <td>0.0</td>\n",
       "    </tr>\n",
       "    <tr>\n",
       "      <th>1</th>\n",
       "      <td>1320.406863</td>\n",
       "      <td>86.411765</td>\n",
       "      <td>29.117647</td>\n",
       "      <td>11.235294</td>\n",
       "      <td>33042.176471</td>\n",
       "      <td>90.117647</td>\n",
       "      <td>1.0</td>\n",
       "    </tr>\n",
       "    <tr>\n",
       "      <th>2</th>\n",
       "      <td>1208.666667</td>\n",
       "      <td>60.000000</td>\n",
       "      <td>49.666667</td>\n",
       "      <td>12.666667</td>\n",
       "      <td>20921.333333</td>\n",
       "      <td>80.666667</td>\n",
       "      <td>2.0</td>\n",
       "    </tr>\n",
       "  </tbody>\n",
       "</table>\n",
       "</div>"
      ],
      "text/plain": [
       "                 SAT      Top10     Accept    SFRatio      Expenses  \\\n",
       "cluster                                                               \n",
       "0        1120.000000  52.600000  67.200000  17.600000  12043.800000   \n",
       "1        1320.406863  86.411765  29.117647  11.235294  33042.176471   \n",
       "2        1208.666667  60.000000  49.666667  12.666667  20921.333333   \n",
       "\n",
       "          GradRate  cluster  \n",
       "cluster                      \n",
       "0        77.200000      0.0  \n",
       "1        90.117647      1.0  \n",
       "2        80.666667      2.0  "
      ]
     },
     "execution_count": 75,
     "metadata": {},
     "output_type": "execute_result"
    }
   ],
   "source": [
    "# Aggregate by doing mean of each cluster\n",
    "df2.iloc[:, 2:9].groupby(df2.cluster).mean()"
   ]
  },
  {
   "cell_type": "code",
   "execution_count": 76,
   "metadata": {
    "colab": {
     "base_uri": "https://localhost:8080/",
     "height": 519
    },
    "id": "8M1RTeHbmvFi",
    "outputId": "abb3cf9b-9fef-4781-e27e-8602915fb067"
   },
   "outputs": [
    {
     "data": {
      "text/html": [
       "<div>\n",
       "<style scoped>\n",
       "    .dataframe tbody tr th:only-of-type {\n",
       "        vertical-align: middle;\n",
       "    }\n",
       "\n",
       "    .dataframe tbody tr th {\n",
       "        vertical-align: top;\n",
       "    }\n",
       "\n",
       "    .dataframe thead th {\n",
       "        text-align: right;\n",
       "    }\n",
       "</style>\n",
       "<table border=\"1\" class=\"dataframe\">\n",
       "  <thead>\n",
       "    <tr style=\"text-align: right;\">\n",
       "      <th></th>\n",
       "      <th>Univ</th>\n",
       "      <th>State</th>\n",
       "      <th>SAT</th>\n",
       "      <th>Top10</th>\n",
       "      <th>Accept</th>\n",
       "      <th>SFRatio</th>\n",
       "      <th>Expenses</th>\n",
       "      <th>GradRate</th>\n",
       "      <th>cluster</th>\n",
       "    </tr>\n",
       "  </thead>\n",
       "  <tbody>\n",
       "    <tr>\n",
       "      <th>12</th>\n",
       "      <td>NotreDame</td>\n",
       "      <td>IN</td>\n",
       "      <td>1255.0</td>\n",
       "      <td>81</td>\n",
       "      <td>42</td>\n",
       "      <td>13.0</td>\n",
       "      <td>15122</td>\n",
       "      <td>94.0</td>\n",
       "      <td>0</td>\n",
       "    </tr>\n",
       "    <tr>\n",
       "      <th>20</th>\n",
       "      <td>UMichigan</td>\n",
       "      <td>MI</td>\n",
       "      <td>1180.0</td>\n",
       "      <td>65</td>\n",
       "      <td>68</td>\n",
       "      <td>16.0</td>\n",
       "      <td>15470</td>\n",
       "      <td>85.0</td>\n",
       "      <td>0</td>\n",
       "    </tr>\n",
       "    <tr>\n",
       "      <th>17</th>\n",
       "      <td>TexasA&amp;M</td>\n",
       "      <td>TX</td>\n",
       "      <td>1075.0</td>\n",
       "      <td>49</td>\n",
       "      <td>67</td>\n",
       "      <td>25.0</td>\n",
       "      <td>8704</td>\n",
       "      <td>67.0</td>\n",
       "      <td>0</td>\n",
       "    </tr>\n",
       "    <tr>\n",
       "      <th>15</th>\n",
       "      <td>Purdue</td>\n",
       "      <td>IN</td>\n",
       "      <td>1005.0</td>\n",
       "      <td>28</td>\n",
       "      <td>90</td>\n",
       "      <td>19.0</td>\n",
       "      <td>9066</td>\n",
       "      <td>69.0</td>\n",
       "      <td>0</td>\n",
       "    </tr>\n",
       "    <tr>\n",
       "      <th>23</th>\n",
       "      <td>UWisconsin</td>\n",
       "      <td>WI</td>\n",
       "      <td>1085.0</td>\n",
       "      <td>40</td>\n",
       "      <td>69</td>\n",
       "      <td>15.0</td>\n",
       "      <td>11857</td>\n",
       "      <td>71.0</td>\n",
       "      <td>0</td>\n",
       "    </tr>\n",
       "  </tbody>\n",
       "</table>\n",
       "</div>"
      ],
      "text/plain": [
       "          Univ State     SAT  Top10  Accept  SFRatio  Expenses  GradRate  \\\n",
       "12   NotreDame    IN  1255.0     81      42     13.0     15122      94.0   \n",
       "20   UMichigan    MI  1180.0     65      68     16.0     15470      85.0   \n",
       "17    TexasA&M    TX  1075.0     49      67     25.0      8704      67.0   \n",
       "15      Purdue    IN  1005.0     28      90     19.0      9066      69.0   \n",
       "23  UWisconsin    WI  1085.0     40      69     15.0     11857      71.0   \n",
       "\n",
       "    cluster  \n",
       "12        0  \n",
       "20        0  \n",
       "17        0  \n",
       "15        0  \n",
       "23        0  "
      ]
     },
     "execution_count": 76,
     "metadata": {},
     "output_type": "execute_result"
    }
   ],
   "source": [
    "cluster0 = df2.loc[(df2.cluster == 0), :]\n",
    "cluster0"
   ]
  },
  {
   "cell_type": "code",
   "execution_count": 111,
   "metadata": {
    "colab": {
     "base_uri": "https://localhost:8080/",
     "height": 112
    },
    "id": "gV57YPdHnea8",
    "outputId": "ae3ce98b-51d0-4b7b-8786-ae2b4c4ff97b"
   },
   "outputs": [
    {
     "data": {
      "text/html": [
       "<div>\n",
       "<style scoped>\n",
       "    .dataframe tbody tr th:only-of-type {\n",
       "        vertical-align: middle;\n",
       "    }\n",
       "\n",
       "    .dataframe tbody tr th {\n",
       "        vertical-align: top;\n",
       "    }\n",
       "\n",
       "    .dataframe thead th {\n",
       "        text-align: right;\n",
       "    }\n",
       "</style>\n",
       "<table border=\"1\" class=\"dataframe\">\n",
       "  <thead>\n",
       "    <tr style=\"text-align: right;\">\n",
       "      <th></th>\n",
       "      <th>Univ</th>\n",
       "      <th>State</th>\n",
       "      <th>SAT</th>\n",
       "      <th>Top10</th>\n",
       "      <th>Accept</th>\n",
       "      <th>SFRatio</th>\n",
       "      <th>Expenses</th>\n",
       "      <th>GradRate</th>\n",
       "      <th>cluster</th>\n",
       "    </tr>\n",
       "  </thead>\n",
       "  <tbody>\n",
       "    <tr>\n",
       "      <th>22</th>\n",
       "      <td>UVA</td>\n",
       "      <td>VA</td>\n",
       "      <td>1225.000000</td>\n",
       "      <td>77</td>\n",
       "      <td>44</td>\n",
       "      <td>14.0</td>\n",
       "      <td>13349</td>\n",
       "      <td>92.0</td>\n",
       "      <td>1</td>\n",
       "    </tr>\n",
       "    <tr>\n",
       "      <th>19</th>\n",
       "      <td>UChicago</td>\n",
       "      <td>IL</td>\n",
       "      <td>1290.000000</td>\n",
       "      <td>75</td>\n",
       "      <td>50</td>\n",
       "      <td>12.0</td>\n",
       "      <td>38380</td>\n",
       "      <td>87.0</td>\n",
       "      <td>1</td>\n",
       "    </tr>\n",
       "    <tr>\n",
       "      <th>18</th>\n",
       "      <td>UCBerkeley</td>\n",
       "      <td>CA</td>\n",
       "      <td>1240.000000</td>\n",
       "      <td>95</td>\n",
       "      <td>40</td>\n",
       "      <td>17.0</td>\n",
       "      <td>15140</td>\n",
       "      <td>78.0</td>\n",
       "      <td>1</td>\n",
       "    </tr>\n",
       "    <tr>\n",
       "      <th>16</th>\n",
       "      <td>Stanford</td>\n",
       "      <td>CA</td>\n",
       "      <td>1360.000000</td>\n",
       "      <td>90</td>\n",
       "      <td>20</td>\n",
       "      <td>12.0</td>\n",
       "      <td>36450</td>\n",
       "      <td>93.0</td>\n",
       "      <td>1</td>\n",
       "    </tr>\n",
       "    <tr>\n",
       "      <th>14</th>\n",
       "      <td>Princeton</td>\n",
       "      <td>NJ</td>\n",
       "      <td>1375.000000</td>\n",
       "      <td>91</td>\n",
       "      <td>14</td>\n",
       "      <td>8.0</td>\n",
       "      <td>30220</td>\n",
       "      <td>95.0</td>\n",
       "      <td>1</td>\n",
       "    </tr>\n",
       "    <tr>\n",
       "      <th>11</th>\n",
       "      <td>Northwestern</td>\n",
       "      <td>IL</td>\n",
       "      <td>1260.000000</td>\n",
       "      <td>85</td>\n",
       "      <td>39</td>\n",
       "      <td>11.0</td>\n",
       "      <td>28052</td>\n",
       "      <td>89.0</td>\n",
       "      <td>1</td>\n",
       "    </tr>\n",
       "    <tr>\n",
       "      <th>0</th>\n",
       "      <td>Brown</td>\n",
       "      <td>RI</td>\n",
       "      <td>1310.000000</td>\n",
       "      <td>89</td>\n",
       "      <td>22</td>\n",
       "      <td>13.0</td>\n",
       "      <td>22704</td>\n",
       "      <td>94.0</td>\n",
       "      <td>1</td>\n",
       "    </tr>\n",
       "    <tr>\n",
       "      <th>9</th>\n",
       "      <td>JohnsHopkins</td>\n",
       "      <td>MD</td>\n",
       "      <td>1305.000000</td>\n",
       "      <td>75</td>\n",
       "      <td>44</td>\n",
       "      <td>7.0</td>\n",
       "      <td>58691</td>\n",
       "      <td>87.0</td>\n",
       "      <td>1</td>\n",
       "    </tr>\n",
       "    <tr>\n",
       "      <th>8</th>\n",
       "      <td>Harvard</td>\n",
       "      <td>MA</td>\n",
       "      <td>1400.000000</td>\n",
       "      <td>91</td>\n",
       "      <td>14</td>\n",
       "      <td>11.0</td>\n",
       "      <td>39525</td>\n",
       "      <td>97.0</td>\n",
       "      <td>1</td>\n",
       "    </tr>\n",
       "    <tr>\n",
       "      <th>7</th>\n",
       "      <td>Georgetown</td>\n",
       "      <td>DC</td>\n",
       "      <td>1266.916667</td>\n",
       "      <td>74</td>\n",
       "      <td>24</td>\n",
       "      <td>12.0</td>\n",
       "      <td>20126</td>\n",
       "      <td>92.0</td>\n",
       "      <td>1</td>\n",
       "    </tr>\n",
       "    <tr>\n",
       "      <th>6</th>\n",
       "      <td>Duke</td>\n",
       "      <td>NC</td>\n",
       "      <td>1315.000000</td>\n",
       "      <td>90</td>\n",
       "      <td>30</td>\n",
       "      <td>12.0</td>\n",
       "      <td>31585</td>\n",
       "      <td>95.0</td>\n",
       "      <td>1</td>\n",
       "    </tr>\n",
       "    <tr>\n",
       "      <th>5</th>\n",
       "      <td>Dartmouth</td>\n",
       "      <td>NH</td>\n",
       "      <td>1340.000000</td>\n",
       "      <td>89</td>\n",
       "      <td>23</td>\n",
       "      <td>10.0</td>\n",
       "      <td>32162</td>\n",
       "      <td>95.0</td>\n",
       "      <td>1</td>\n",
       "    </tr>\n",
       "    <tr>\n",
       "      <th>4</th>\n",
       "      <td>Cornell</td>\n",
       "      <td>NY</td>\n",
       "      <td>1280.000000</td>\n",
       "      <td>83</td>\n",
       "      <td>33</td>\n",
       "      <td>13.0</td>\n",
       "      <td>21864</td>\n",
       "      <td>90.0</td>\n",
       "      <td>1</td>\n",
       "    </tr>\n",
       "    <tr>\n",
       "      <th>3</th>\n",
       "      <td>Columbia</td>\n",
       "      <td>NY</td>\n",
       "      <td>1310.000000</td>\n",
       "      <td>76</td>\n",
       "      <td>24</td>\n",
       "      <td>12.0</td>\n",
       "      <td>31510</td>\n",
       "      <td>80.0</td>\n",
       "      <td>1</td>\n",
       "    </tr>\n",
       "    <tr>\n",
       "      <th>1</th>\n",
       "      <td>CalTech</td>\n",
       "      <td>CA</td>\n",
       "      <td>1415.000000</td>\n",
       "      <td>100</td>\n",
       "      <td>25</td>\n",
       "      <td>6.0</td>\n",
       "      <td>63575</td>\n",
       "      <td>81.0</td>\n",
       "      <td>1</td>\n",
       "    </tr>\n",
       "    <tr>\n",
       "      <th>10</th>\n",
       "      <td>MIT</td>\n",
       "      <td>MA</td>\n",
       "      <td>1380.000000</td>\n",
       "      <td>94</td>\n",
       "      <td>30</td>\n",
       "      <td>10.0</td>\n",
       "      <td>34870</td>\n",
       "      <td>91.0</td>\n",
       "      <td>1</td>\n",
       "    </tr>\n",
       "    <tr>\n",
       "      <th>24</th>\n",
       "      <td>Yale</td>\n",
       "      <td>CT</td>\n",
       "      <td>1375.000000</td>\n",
       "      <td>95</td>\n",
       "      <td>19</td>\n",
       "      <td>11.0</td>\n",
       "      <td>43514</td>\n",
       "      <td>96.0</td>\n",
       "      <td>1</td>\n",
       "    </tr>\n",
       "  </tbody>\n",
       "</table>\n",
       "</div>"
      ],
      "text/plain": [
       "            Univ State          SAT  Top10  Accept  SFRatio  Expenses  \\\n",
       "22           UVA    VA  1225.000000     77      44     14.0     13349   \n",
       "19      UChicago    IL  1290.000000     75      50     12.0     38380   \n",
       "18    UCBerkeley    CA  1240.000000     95      40     17.0     15140   \n",
       "16      Stanford    CA  1360.000000     90      20     12.0     36450   \n",
       "14     Princeton    NJ  1375.000000     91      14      8.0     30220   \n",
       "11  Northwestern    IL  1260.000000     85      39     11.0     28052   \n",
       "0          Brown    RI  1310.000000     89      22     13.0     22704   \n",
       "9   JohnsHopkins    MD  1305.000000     75      44      7.0     58691   \n",
       "8        Harvard    MA  1400.000000     91      14     11.0     39525   \n",
       "7     Georgetown    DC  1266.916667     74      24     12.0     20126   \n",
       "6           Duke    NC  1315.000000     90      30     12.0     31585   \n",
       "5      Dartmouth    NH  1340.000000     89      23     10.0     32162   \n",
       "4        Cornell    NY  1280.000000     83      33     13.0     21864   \n",
       "3       Columbia    NY  1310.000000     76      24     12.0     31510   \n",
       "1        CalTech    CA  1415.000000    100      25      6.0     63575   \n",
       "10           MIT    MA  1380.000000     94      30     10.0     34870   \n",
       "24          Yale    CT  1375.000000     95      19     11.0     43514   \n",
       "\n",
       "    GradRate  cluster  \n",
       "22      92.0        1  \n",
       "19      87.0        1  \n",
       "18      78.0        1  \n",
       "16      93.0        1  \n",
       "14      95.0        1  \n",
       "11      89.0        1  \n",
       "0       94.0        1  \n",
       "9       87.0        1  \n",
       "8       97.0        1  \n",
       "7       92.0        1  \n",
       "6       95.0        1  \n",
       "5       95.0        1  \n",
       "4       90.0        1  \n",
       "3       80.0        1  \n",
       "1       81.0        1  \n",
       "10      91.0        1  \n",
       "24      96.0        1  "
      ]
     },
     "execution_count": 111,
     "metadata": {},
     "output_type": "execute_result"
    }
   ],
   "source": [
    "cluster1 = df2.loc[(df2.cluster == 1), :]\n",
    "cluster1"
   ]
  },
  {
   "cell_type": "code",
   "execution_count": 112,
   "metadata": {
    "colab": {
     "base_uri": "https://localhost:8080/",
     "height": 300
    },
    "id": "Y4S4D0aYnq94",
    "outputId": "222f24b3-7b01-45d3-a7df-b7d0f82c0b92"
   },
   "outputs": [
    {
     "data": {
      "text/html": [
       "<div>\n",
       "<style scoped>\n",
       "    .dataframe tbody tr th:only-of-type {\n",
       "        vertical-align: middle;\n",
       "    }\n",
       "\n",
       "    .dataframe tbody tr th {\n",
       "        vertical-align: top;\n",
       "    }\n",
       "\n",
       "    .dataframe thead th {\n",
       "        text-align: right;\n",
       "    }\n",
       "</style>\n",
       "<table border=\"1\" class=\"dataframe\">\n",
       "  <thead>\n",
       "    <tr style=\"text-align: right;\">\n",
       "      <th></th>\n",
       "      <th>Univ</th>\n",
       "      <th>State</th>\n",
       "      <th>SAT</th>\n",
       "      <th>Top10</th>\n",
       "      <th>Accept</th>\n",
       "      <th>SFRatio</th>\n",
       "      <th>Expenses</th>\n",
       "      <th>GradRate</th>\n",
       "      <th>cluster</th>\n",
       "    </tr>\n",
       "  </thead>\n",
       "  <tbody>\n",
       "    <tr>\n",
       "      <th>13</th>\n",
       "      <td>PennState</td>\n",
       "      <td>PA</td>\n",
       "      <td>1081.0</td>\n",
       "      <td>38</td>\n",
       "      <td>54</td>\n",
       "      <td>18.0</td>\n",
       "      <td>10185</td>\n",
       "      <td>80.0</td>\n",
       "      <td>2</td>\n",
       "    </tr>\n",
       "    <tr>\n",
       "      <th>2</th>\n",
       "      <td>CMU</td>\n",
       "      <td>PA</td>\n",
       "      <td>1260.0</td>\n",
       "      <td>62</td>\n",
       "      <td>59</td>\n",
       "      <td>9.0</td>\n",
       "      <td>25026</td>\n",
       "      <td>72.0</td>\n",
       "      <td>2</td>\n",
       "    </tr>\n",
       "    <tr>\n",
       "      <th>21</th>\n",
       "      <td>UPenn</td>\n",
       "      <td>PA</td>\n",
       "      <td>1285.0</td>\n",
       "      <td>80</td>\n",
       "      <td>36</td>\n",
       "      <td>11.0</td>\n",
       "      <td>27553</td>\n",
       "      <td>90.0</td>\n",
       "      <td>2</td>\n",
       "    </tr>\n",
       "  </tbody>\n",
       "</table>\n",
       "</div>"
      ],
      "text/plain": [
       "         Univ State     SAT  Top10  Accept  SFRatio  Expenses  GradRate  \\\n",
       "13  PennState    PA  1081.0     38      54     18.0     10185      80.0   \n",
       "2         CMU    PA  1260.0     62      59      9.0     25026      72.0   \n",
       "21      UPenn    PA  1285.0     80      36     11.0     27553      90.0   \n",
       "\n",
       "    cluster  \n",
       "13        2  \n",
       "2         2  \n",
       "21        2  "
      ]
     },
     "execution_count": 112,
     "metadata": {},
     "output_type": "execute_result"
    }
   ],
   "source": [
    "cluster2 = df2.loc[(df2.cluster == 2), :]\n",
    "cluster2"
   ]
  },
  {
   "cell_type": "code",
   "execution_count": 113,
   "metadata": {
    "colab": {
     "base_uri": "https://localhost:8080/",
     "height": 36
    },
    "id": "zV3l-FsSoFm_",
    "outputId": "f9d93f70-feb6-4059-9fa3-620cc785adb4"
   },
   "outputs": [
    {
     "data": {
      "text/plain": [
       "'C:\\\\Users\\\\Bharani Kumar'"
      ]
     },
     "execution_count": 113,
     "metadata": {},
     "output_type": "execute_result"
    }
   ],
   "source": [
    "cluster0.to_csv('University_0.csv', encoding = 'utf-8')\n",
    "import os\n",
    "os.getcwd()"
   ]
  },
  {
   "cell_type": "code",
   "execution_count": 114,
   "metadata": {
    "colab": {
     "base_uri": "https://localhost:8080/",
     "height": 36
    },
    "id": "GVhQOsBnoRQP",
    "outputId": "de98c8a5-4fa6-42db-cdda-21559650e377"
   },
   "outputs": [
    {
     "data": {
      "text/plain": [
       "'C:\\\\Users\\\\Bharani Kumar'"
      ]
     },
     "execution_count": 114,
     "metadata": {},
     "output_type": "execute_result"
    }
   ],
   "source": [
    "cluster1.to_csv('University_1.csv', encoding = 'utf-8')\n",
    "import os\n",
    "os.getcwd()"
   ]
  },
  {
   "cell_type": "code",
   "execution_count": 115,
   "metadata": {
    "colab": {
     "base_uri": "https://localhost:8080/",
     "height": 36
    },
    "id": "RaBUrnqWoVbd",
    "outputId": "54e0e9b9-f870-4423-b7e0-961e24c59630"
   },
   "outputs": [
    {
     "data": {
      "text/plain": [
       "'C:\\\\Users\\\\Bharani Kumar'"
      ]
     },
     "execution_count": 115,
     "metadata": {},
     "output_type": "execute_result"
    },
    {
     "name": "stderr",
     "output_type": "stream",
     "text": [
      "C:\\Users\\Bharani Kumar\\anaconda3\\lib\\site-packages\\dtale\\views.py:1929: FutureWarning:\n",
      "\n",
      "The default value of regex will change from True to False in a future version.\n",
      "\n"
     ]
    }
   ],
   "source": [
    "cluster2.to_csv('University_2.csv', encoding = 'utf-8')\n",
    "import os\n",
    "os.getcwd()"
   ]
  },
  {
   "cell_type": "markdown",
   "metadata": {},
   "source": [
    "## Another way of evaluating clusters is using outliers"
   ]
  },
  {
   "cell_type": "code",
   "execution_count": 82,
   "metadata": {},
   "outputs": [
    {
     "data": {
      "image/png": "[encoded data removed]",
      "text/plain": [
       "<Figure size 432x288 with 1 Axes>"
      ]
     },
     "metadata": {
      "needs_background": "light"
     },
     "output_type": "display_data"
    },
    {
     "data": {
      "image/png": "[encoded data removed]",
      "text/plain": [
       "<Figure size 432x288 with 1 Axes>"
      ]
     },
     "metadata": {
      "needs_background": "light"
     },
     "output_type": "display_data"
    },
    {
     "data": {
      "image/png": "[encoded data removed]",
      "text/plain": [
       "<Figure size 432x288 with 1 Axes>"
      ]
     },
     "metadata": {
      "needs_background": "light"
     },
     "output_type": "display_data"
    },
    {
     "data": {
      "image/png": "[encoded data removed]",
      "text/plain": [
       "<Figure size 432x288 with 1 Axes>"
      ]
     },
     "metadata": {
      "needs_background": "light"
     },
     "output_type": "display_data"
    },
    {
     "data": {
      "image/png": "[encoded data removed]",
      "text/plain": [
       "<Figure size 432x288 with 1 Axes>"
      ]
     },
     "metadata": {
      "needs_background": "light"
     },
     "output_type": "display_data"
    },
    {
     "data": {
      "image/png": "[encoded data removed]",
      "text/plain": [
       "<Figure size 432x288 with 1 Axes>"
      ]
     },
     "metadata": {
      "needs_background": "light"
     },
     "output_type": "display_data"
    }
   ],
   "source": [
    "for i in cluster0.columns[2:8]:\n",
    "  sns.boxplot(x = cluster0[i])\n",
    "  plt.show()"
   ]
  },
  {
   "cell_type": "code",
   "execution_count": 83,
   "metadata": {},
   "outputs": [
    {
     "data": {
      "image/png": "[encoded data removed]",
      "text/plain": [
       "<Figure size 432x288 with 1 Axes>"
      ]
     },
     "metadata": {
      "needs_background": "light"
     },
     "output_type": "display_data"
    },
    {
     "data": {
      "image/png": "[encoded data removed]",
      "text/plain": [
       "<Figure size 432x288 with 1 Axes>"
      ]
     },
     "metadata": {
      "needs_background": "light"
     },
     "output_type": "display_data"
    },
    {
     "data": {
      "image/png": "[encoded data removed]",
      "text/plain": [
       "<Figure size 432x288 with 1 Axes>"
      ]
     },
     "metadata": {
      "needs_background": "light"
     },
     "output_type": "display_data"
    },
    {
     "data": {
      "image/png": "[encoded data removed]",
      "text/plain": [
       "<Figure size 432x288 with 1 Axes>"
      ]
     },
     "metadata": {
      "needs_background": "light"
     },
     "output_type": "display_data"
    },
    {
     "data": {
      "image/png": "[encoded data removed]",
      "text/plain": [
       "<Figure size 432x288 with 1 Axes>"
      ]
     },
     "metadata": {
      "needs_background": "light"
     },
     "output_type": "display_data"
    },
    {
     "data": {
      "image/png": "[encoded data removed]",
      "text/plain": [
       "<Figure size 432x288 with 1 Axes>"
      ]
     },
     "metadata": {
      "needs_background": "light"
     },
     "output_type": "display_data"
    }
   ],
   "source": [
    "for i in cluster1.columns[2:8]:\n",
    "  sns.boxplot(x = cluster1[i])\n",
    "  plt.show()"
   ]
  },
  {
   "cell_type": "code",
   "execution_count": 84,
   "metadata": {},
   "outputs": [
    {
     "data": {
      "image/png": "[encoded data removed]",
      "text/plain": [
       "<Figure size 432x288 with 1 Axes>"
      ]
     },
     "metadata": {
      "needs_background": "light"
     },
     "output_type": "display_data"
    },
    {
     "data": {
      "image/png": "[encoded data removed]",
      "text/plain": [
       "<Figure size 432x288 with 1 Axes>"
      ]
     },
     "metadata": {
      "needs_background": "light"
     },
     "output_type": "display_data"
    },
    {
     "data": {
      "image/png": "[encoded data removed]",
      "text/plain": [
       "<Figure size 432x288 with 1 Axes>"
      ]
     },
     "metadata": {
      "needs_background": "light"
     },
     "output_type": "display_data"
    },
    {
     "data": {
      "image/png": "[encoded data removed]",
      "text/plain": [
       "<Figure size 432x288 with 1 Axes>"
      ]
     },
     "metadata": {
      "needs_background": "light"
     },
     "output_type": "display_data"
    },
    {
     "data": {
      "image/png": "[encoded data removed]",
      "text/plain": [
       "<Figure size 432x288 with 1 Axes>"
      ]
     },
     "metadata": {
      "needs_background": "light"
     },
     "output_type": "display_data"
    },
    {
     "data": {
      "image/png": "[encoded data removed]",
      "text/plain": [
       "<Figure size 432x288 with 1 Axes>"
      ]
     },
     "metadata": {
      "needs_background": "light"
     },
     "output_type": "display_data"
    }
   ],
   "source": [
    "for i in cluster2.columns[2:8]:\n",
    "  sns.boxplot(x = cluster2[i])\n",
    "  plt.show()"
   ]
  },
  {
   "cell_type": "code",
   "execution_count": null,
   "metadata": {},
   "outputs": [],
   "source": []
  }
 ],
 "metadata": {
  "colab": {
   "collapsed_sections": [],
   "name": "universitys.ipynb",
   "provenance": []
  },
  "kernelspec": {
   "display_name": "Python 3 (ipykernel)",
   "language": "python",
   "name": "python3"
  },
  "language_info": {
   "codemirror_mode": {
    "name": "ipython",
    "version": 3
   },
   "file_extension": ".py",
   "mimetype": "text/x-python",
   "name": "python",
   "nbconvert_exporter": "python",
   "pygments_lexer": "ipython3",
   "version": "3.10.9"
  },
  "widgets": {
   "application/vnd.jupyter.widget-state+json": {
    "072d2183d81049c49549fed7b4ad5b9a": {
     "model_module": "@jupyter-widgets/controls",
     "model_module_version": "1.5.0",
     "model_name": "FloatProgressModel",
     "state": {
      "_dom_classes": [],
      "_model_module": "@jupyter-widgets/controls",
      "_model_module_version": "1.5.0",
      "_model_name": "FloatProgressModel",
      "_view_count": null,
      "_view_module": "@jupyter-widgets/controls",
      "_view_module_version": "1.5.0",
      "_view_name": "ProgressView",
      "bar_style": "success",
      "description": "",
      "description_tooltip": null,
      "layout": "IPY_MODEL_8981a9dddfe44e9386797a627f498510",
      "max": 1,
      "min": 0,
      "orientation": "horizontal",
      "style": "IPY_MODEL_5d2871e02c60421689e0ee145b4b3fdc",
      "value": 1
     }
    },
    "07fc5e687af5462ba1ccf889887f5aca": {
     "model_module": "@jupyter-widgets/controls",
     "model_module_version": "1.5.0",
     "model_name": "HTMLModel",
     "state": {
      "_dom_classes": [],
      "_model_module": "@jupyter-widgets/controls",
      "_model_module_version": "1.5.0",
      "_model_name": "HTMLModel",
      "_view_count": null,
      "_view_module": "@jupyter-widgets/controls",
      "_view_module_version": "1.5.0",
      "_view_name": "HTMLView",
      "description": "",
      "description_tooltip": null,
      "layout": "IPY_MODEL_37a597c72ef74093a4faa09698f4d541",
      "placeholder": "​",
      "style": "IPY_MODEL_ab77f58777e34556beb82244ea3b169f",
      "value": "Done! Use &#x27;show&#x27; commands to display/save.   "
     }
    },
    "0f7fdc05df7c4677add22188e6450a50": {
     "model_module": "@jupyter-widgets/controls",
     "model_module_version": "1.5.0",
     "model_name": "FloatProgressModel",
     "state": {
      "_dom_classes": [],
      "_model_module": "@jupyter-widgets/controls",
      "_model_module_version": "1.5.0",
      "_model_name": "FloatProgressModel",
      "_view_count": null,
      "_view_module": "@jupyter-widgets/controls",
      "_view_module_version": "1.5.0",
      "_view_name": "ProgressView",
      "bar_style": "success",
      "description": "",
      "description_tooltip": null,
      "layout": "IPY_MODEL_7586f2b54502448e82ca135cfb52f3dc",
      "max": 1,
      "min": 0,
      "orientation": "horizontal",
      "style": "IPY_MODEL_53a931ff5a0a4e528a0a56b66f5bf873",
      "value": 1
     }
    },
    "101c1f6e5bff4489b541d0d6fd7e81a6": {
     "model_module": "@jupyter-widgets/base",
     "model_module_version": "1.2.0",
     "model_name": "LayoutModel",
     "state": {
      "_model_module": "@jupyter-widgets/base",
      "_model_module_version": "1.2.0",
      "_model_name": "LayoutModel",
      "_view_count": null,
      "_view_module": "@jupyter-widgets/base",
      "_view_module_version": "1.2.0",
      "_view_name": "LayoutView",
      "align_content": null,
      "align_items": null,
      "align_self": null,
      "border": null,
      "bottom": null,
      "display": "inline-flex",
      "flex": null,
      "flex_flow": "row wrap",
      "grid_area": null,
      "grid_auto_columns": null,
      "grid_auto_flow": null,
      "grid_auto_rows": null,
      "grid_column": null,
      "grid_gap": null,
      "grid_row": null,
      "grid_template_areas": null,
      "grid_template_columns": null,
      "grid_template_rows": null,
      "height": null,
      "justify_content": null,
      "justify_items": null,
      "left": null,
      "margin": null,
      "max_height": null,
      "max_width": null,
      "min_height": null,
      "min_width": null,
      "object_fit": null,
      "object_position": null,
      "order": null,
      "overflow": null,
      "overflow_x": null,
      "overflow_y": null,
      "padding": null,
      "right": null,
      "top": null,
      "visibility": null,
      "width": "100%"
     }
    },
    "127176f6d7a642d3bd226ebd7889bfb0": {
     "model_module": "@jupyter-widgets/base",
     "model_module_version": "1.2.0",
     "model_name": "LayoutModel",
     "state": {
      "_model_module": "@jupyter-widgets/base",
      "_model_module_version": "1.2.0",
      "_model_name": "LayoutModel",
      "_view_count": null,
      "_view_module": "@jupyter-widgets/base",
      "_view_module_version": "1.2.0",
      "_view_name": "LayoutView",
      "align_content": null,
      "align_items": null,
      "align_self": null,
      "border": null,
      "bottom": null,
      "display": null,
      "flex": null,
      "flex_flow": null,
      "grid_area": null,
      "grid_auto_columns": null,
      "grid_auto_flow": null,
      "grid_auto_rows": null,
      "grid_column": null,
      "grid_gap": null,
      "grid_row": null,
      "grid_template_areas": null,
      "grid_template_columns": null,
      "grid_template_rows": null,
      "height": null,
      "justify_content": null,
      "justify_items": null,
      "left": null,
      "margin": null,
      "max_height": null,
      "max_width": null,
      "min_height": null,
      "min_width": null,
      "object_fit": null,
      "object_position": null,
      "order": null,
      "overflow": null,
      "overflow_x": null,
      "overflow_y": null,
      "padding": null,
      "right": null,
      "top": null,
      "visibility": null,
      "width": null
     }
    },
    "1a0788e593e3475397c7bd3d57f7e150": {
     "model_module": "@jupyter-widgets/controls",
     "model_module_version": "1.5.0",
     "model_name": "HTMLModel",
     "state": {
      "_dom_classes": [],
      "_model_module": "@jupyter-widgets/controls",
      "_model_module_version": "1.5.0",
      "_model_name": "HTMLModel",
      "_view_count": null,
      "_view_module": "@jupyter-widgets/controls",
      "_view_module_version": "1.5.0",
      "_view_name": "HTMLView",
      "description": "",
      "description_tooltip": null,
      "layout": "IPY_MODEL_abffe960b870424f990e83ed5cd77c35",
      "placeholder": "​",
      "style": "IPY_MODEL_b8f0e3493b054a25a8b278d2b673edd4",
      "value": "Done! Use &#x27;show&#x27; commands to display/save.   "
     }
    },
    "1b12287187894622a8849b4fe60815ed": {
     "model_module": "@jupyter-widgets/controls",
     "model_module_version": "1.5.0",
     "model_name": "HTMLModel",
     "state": {
      "_dom_classes": [],
      "_model_module": "@jupyter-widgets/controls",
      "_model_module_version": "1.5.0",
      "_model_name": "HTMLModel",
      "_view_count": null,
      "_view_module": "@jupyter-widgets/controls",
      "_view_module_version": "1.5.0",
      "_view_name": "HTMLView",
      "description": "",
      "description_tooltip": null,
      "layout": "IPY_MODEL_2e2f2cf5ef5f406ebb20b24130938118",
      "placeholder": "​",
      "style": "IPY_MODEL_3fc3e0c680a4406ca9a4a6fb1c7f989b",
      "value": "Done! Use &#x27;show&#x27; commands to display/save.   "
     }
    },
    "2756bbf9b90544d0ace407a4a5f24011": {
     "model_module": "@jupyter-widgets/controls",
     "model_module_version": "1.5.0",
     "model_name": "FloatProgressModel",
     "state": {
      "_dom_classes": [],
      "_model_module": "@jupyter-widgets/controls",
      "_model_module_version": "1.5.0",
      "_model_name": "FloatProgressModel",
      "_view_count": null,
      "_view_module": "@jupyter-widgets/controls",
      "_view_module_version": "1.5.0",
      "_view_name": "ProgressView",
      "bar_style": "success",
      "description": "",
      "description_tooltip": null,
      "layout": "IPY_MODEL_5e02c784933248bb9405e0ac5578b7ab",
      "max": 1,
      "min": 0,
      "orientation": "horizontal",
      "style": "IPY_MODEL_77d0a23b43b54b5f9a88e03b9bf6db88",
      "value": 1
     }
    },
    "2e2f2cf5ef5f406ebb20b24130938118": {
     "model_module": "@jupyter-widgets/base",
     "model_module_version": "1.2.0",
     "model_name": "LayoutModel",
     "state": {
      "_model_module": "@jupyter-widgets/base",
      "_model_module_version": "1.2.0",
      "_model_name": "LayoutModel",
      "_view_count": null,
      "_view_module": "@jupyter-widgets/base",
      "_view_module_version": "1.2.0",
      "_view_name": "LayoutView",
      "align_content": null,
      "align_items": null,
      "align_self": null,
      "border": null,
      "bottom": null,
      "display": null,
      "flex": null,
      "flex_flow": null,
      "grid_area": null,
      "grid_auto_columns": null,
      "grid_auto_flow": null,
      "grid_auto_rows": null,
      "grid_column": null,
      "grid_gap": null,
      "grid_row": null,
      "grid_template_areas": null,
      "grid_template_columns": null,
      "grid_template_rows": null,
      "height": null,
      "justify_content": null,
      "justify_items": null,
      "left": null,
      "margin": null,
      "max_height": null,
      "max_width": null,
      "min_height": null,
      "min_width": null,
      "object_fit": null,
      "object_position": null,
      "order": null,
      "overflow": null,
      "overflow_x": null,
      "overflow_y": null,
      "padding": null,
      "right": null,
      "top": null,
      "visibility": null,
      "width": null
     }
    },
    "33e0c6537cdd412dbf67e8780cadedd0": {
     "model_module": "@jupyter-widgets/base",
     "model_module_version": "1.2.0",
     "model_name": "LayoutModel",
     "state": {
      "_model_module": "@jupyter-widgets/base",
      "_model_module_version": "1.2.0",
      "_model_name": "LayoutModel",
      "_view_count": null,
      "_view_module": "@jupyter-widgets/base",
      "_view_module_version": "1.2.0",
      "_view_name": "LayoutView",
      "align_content": null,
      "align_items": null,
      "align_self": null,
      "border": null,
      "bottom": null,
      "display": "inline-flex",
      "flex": null,
      "flex_flow": "row wrap",
      "grid_area": null,
      "grid_auto_columns": null,
      "grid_auto_flow": null,
      "grid_auto_rows": null,
      "grid_column": null,
      "grid_gap": null,
      "grid_row": null,
      "grid_template_areas": null,
      "grid_template_columns": null,
      "grid_template_rows": null,
      "height": null,
      "justify_content": null,
      "justify_items": null,
      "left": null,
      "margin": null,
      "max_height": null,
      "max_width": null,
      "min_height": null,
      "min_width": null,
      "object_fit": null,
      "object_position": null,
      "order": null,
      "overflow": null,
      "overflow_x": null,
      "overflow_y": null,
      "padding": null,
      "right": null,
      "top": null,
      "visibility": null,
      "width": "100%"
     }
    },
    "3705a48c5c5d4ff4b8426c798b7ee570": {
     "model_module": "@jupyter-widgets/controls",
     "model_module_version": "1.5.0",
     "model_name": "HBoxModel",
     "state": {
      "_dom_classes": [],
      "_model_module": "@jupyter-widgets/controls",
      "_model_module_version": "1.5.0",
      "_model_name": "HBoxModel",
      "_view_count": null,
      "_view_module": "@jupyter-widgets/controls",
      "_view_module_version": "1.5.0",
      "_view_name": "HBoxView",
      "box_style": "",
      "children": [
       "IPY_MODEL_07fc5e687af5462ba1ccf889887f5aca",
       "IPY_MODEL_9238f0c455424a41966defd5b8858802",
       "IPY_MODEL_9149c760d61043f8bf16347fd8298026"
      ],
      "layout": "IPY_MODEL_33e0c6537cdd412dbf67e8780cadedd0"
     }
    },
    "37a597c72ef74093a4faa09698f4d541": {
     "model_module": "@jupyter-widgets/base",
     "model_module_version": "1.2.0",
     "model_name": "LayoutModel",
     "state": {
      "_model_module": "@jupyter-widgets/base",
      "_model_module_version": "1.2.0",
      "_model_name": "LayoutModel",
      "_view_count": null,
      "_view_module": "@jupyter-widgets/base",
      "_view_module_version": "1.2.0",
      "_view_name": "LayoutView",
      "align_content": null,
      "align_items": null,
      "align_self": null,
      "border": null,
      "bottom": null,
      "display": null,
      "flex": null,
      "flex_flow": null,
      "grid_area": null,
      "grid_auto_columns": null,
      "grid_auto_flow": null,
      "grid_auto_rows": null,
      "grid_column": null,
      "grid_gap": null,
      "grid_row": null,
      "grid_template_areas": null,
      "grid_template_columns": null,
      "grid_template_rows": null,
      "height": null,
      "justify_content": null,
      "justify_items": null,
      "left": null,
      "margin": null,
      "max_height": null,
      "max_width": null,
      "min_height": null,
      "min_width": null,
      "object_fit": null,
      "object_position": null,
      "order": null,
      "overflow": null,
      "overflow_x": null,
      "overflow_y": null,
      "padding": null,
      "right": null,
      "top": null,
      "visibility": null,
      "width": null
     }
    },
    "3fc3e0c680a4406ca9a4a6fb1c7f989b": {
     "model_module": "@jupyter-widgets/controls",
     "model_module_version": "1.5.0",
     "model_name": "DescriptionStyleModel",
     "state": {
      "_model_module": "@jupyter-widgets/controls",
      "_model_module_version": "1.5.0",
      "_model_name": "DescriptionStyleModel",
      "_view_count": null,
      "_view_module": "@jupyter-widgets/base",
      "_view_module_version": "1.2.0",
      "_view_name": "StyleView",
      "description_width": ""
     }
    },
    "42919d3d07924d69a2f3840cd9cd58ca": {
     "model_module": "@jupyter-widgets/controls",
     "model_module_version": "1.5.0",
     "model_name": "HTMLModel",
     "state": {
      "_dom_classes": [],
      "_model_module": "@jupyter-widgets/controls",
      "_model_module_version": "1.5.0",
      "_model_name": "HTMLModel",
      "_view_count": null,
      "_view_module": "@jupyter-widgets/controls",
      "_view_module_version": "1.5.0",
      "_view_name": "HTMLView",
      "description": "",
      "description_tooltip": null,
      "layout": "IPY_MODEL_789e5d5f63d54d2b9b8a796ab4f2d54d",
      "placeholder": "​",
      "style": "IPY_MODEL_c319ba1f5ab34d6a98bec511338a6939",
      "value": " [100%]   00:01 -&gt; (00:00 left)"
     }
    },
    "4cb79363ab1f42168af348a61ab71149": {
     "model_module": "@jupyter-widgets/base",
     "model_module_version": "1.2.0",
     "model_name": "LayoutModel",
     "state": {
      "_model_module": "@jupyter-widgets/base",
      "_model_module_version": "1.2.0",
      "_model_name": "LayoutModel",
      "_view_count": null,
      "_view_module": "@jupyter-widgets/base",
      "_view_module_version": "1.2.0",
      "_view_name": "LayoutView",
      "align_content": null,
      "align_items": null,
      "align_self": null,
      "border": null,
      "bottom": null,
      "display": "inline-flex",
      "flex": null,
      "flex_flow": "row wrap",
      "grid_area": null,
      "grid_auto_columns": null,
      "grid_auto_flow": null,
      "grid_auto_rows": null,
      "grid_column": null,
      "grid_gap": null,
      "grid_row": null,
      "grid_template_areas": null,
      "grid_template_columns": null,
      "grid_template_rows": null,
      "height": null,
      "justify_content": null,
      "justify_items": null,
      "left": null,
      "margin": null,
      "max_height": null,
      "max_width": null,
      "min_height": null,
      "min_width": null,
      "object_fit": null,
      "object_position": null,
      "order": null,
      "overflow": null,
      "overflow_x": null,
      "overflow_y": null,
      "padding": null,
      "right": null,
      "top": null,
      "visibility": null,
      "width": "100%"
     }
    },
    "53a931ff5a0a4e528a0a56b66f5bf873": {
     "model_module": "@jupyter-widgets/controls",
     "model_module_version": "1.5.0",
     "model_name": "ProgressStyleModel",
     "state": {
      "_model_module": "@jupyter-widgets/controls",
      "_model_module_version": "1.5.0",
      "_model_name": "ProgressStyleModel",
      "_view_count": null,
      "_view_module": "@jupyter-widgets/base",
      "_view_module_version": "1.2.0",
      "_view_name": "StyleView",
      "bar_color": null,
      "description_width": ""
     }
    },
    "58e1987af39148d19b63dd24b8b560a6": {
     "model_module": "@jupyter-widgets/controls",
     "model_module_version": "1.5.0",
     "model_name": "HTMLModel",
     "state": {
      "_dom_classes": [],
      "_model_module": "@jupyter-widgets/controls",
      "_model_module_version": "1.5.0",
      "_model_name": "HTMLModel",
      "_view_count": null,
      "_view_module": "@jupyter-widgets/controls",
      "_view_module_version": "1.5.0",
      "_view_name": "HTMLView",
      "description": "",
      "description_tooltip": null,
      "layout": "IPY_MODEL_ddfa0ce579244584b406826f5b7e81b3",
      "placeholder": "​",
      "style": "IPY_MODEL_e31d86d15f954ed5a1d5d77fb1b2d796",
      "value": "Done! Use &#x27;show&#x27; commands to display/save.   "
     }
    },
    "5d2871e02c60421689e0ee145b4b3fdc": {
     "model_module": "@jupyter-widgets/controls",
     "model_module_version": "1.5.0",
     "model_name": "ProgressStyleModel",
     "state": {
      "_model_module": "@jupyter-widgets/controls",
      "_model_module_version": "1.5.0",
      "_model_name": "ProgressStyleModel",
      "_view_count": null,
      "_view_module": "@jupyter-widgets/base",
      "_view_module_version": "1.2.0",
      "_view_name": "StyleView",
      "bar_color": null,
      "description_width": ""
     }
    },
    "5e02c784933248bb9405e0ac5578b7ab": {
     "model_module": "@jupyter-widgets/base",
     "model_module_version": "1.2.0",
     "model_name": "LayoutModel",
     "state": {
      "_model_module": "@jupyter-widgets/base",
      "_model_module_version": "1.2.0",
      "_model_name": "LayoutModel",
      "_view_count": null,
      "_view_module": "@jupyter-widgets/base",
      "_view_module_version": "1.2.0",
      "_view_name": "LayoutView",
      "align_content": null,
      "align_items": null,
      "align_self": null,
      "border": null,
      "bottom": null,
      "display": null,
      "flex": "2",
      "flex_flow": null,
      "grid_area": null,
      "grid_auto_columns": null,
      "grid_auto_flow": null,
      "grid_auto_rows": null,
      "grid_column": null,
      "grid_gap": null,
      "grid_row": null,
      "grid_template_areas": null,
      "grid_template_columns": null,
      "grid_template_rows": null,
      "height": null,
      "justify_content": null,
      "justify_items": null,
      "left": null,
      "margin": null,
      "max_height": null,
      "max_width": null,
      "min_height": null,
      "min_width": null,
      "object_fit": null,
      "object_position": null,
      "order": null,
      "overflow": null,
      "overflow_x": null,
      "overflow_y": null,
      "padding": null,
      "right": null,
      "top": null,
      "visibility": null,
      "width": null
     }
    },
    "6c35419ed5ac4903938cbaf55ac7be32": {
     "model_module": "@jupyter-widgets/base",
     "model_module_version": "1.2.0",
     "model_name": "LayoutModel",
     "state": {
      "_model_module": "@jupyter-widgets/base",
      "_model_module_version": "1.2.0",
      "_model_name": "LayoutModel",
      "_view_count": null,
      "_view_module": "@jupyter-widgets/base",
      "_view_module_version": "1.2.0",
      "_view_name": "LayoutView",
      "align_content": null,
      "align_items": null,
      "align_self": null,
      "border": null,
      "bottom": null,
      "display": null,
      "flex": null,
      "flex_flow": null,
      "grid_area": null,
      "grid_auto_columns": null,
      "grid_auto_flow": null,
      "grid_auto_rows": null,
      "grid_column": null,
      "grid_gap": null,
      "grid_row": null,
      "grid_template_areas": null,
      "grid_template_columns": null,
      "grid_template_rows": null,
      "height": null,
      "justify_content": null,
      "justify_items": null,
      "left": null,
      "margin": null,
      "max_height": null,
      "max_width": null,
      "min_height": null,
      "min_width": null,
      "object_fit": null,
      "object_position": null,
      "order": null,
      "overflow": null,
      "overflow_x": null,
      "overflow_y": null,
      "padding": null,
      "right": null,
      "top": null,
      "visibility": null,
      "width": null
     }
    },
    "7367b7ba1c864f778af67dfe80698745": {
     "model_module": "@jupyter-widgets/controls",
     "model_module_version": "1.5.0",
     "model_name": "DescriptionStyleModel",
     "state": {
      "_model_module": "@jupyter-widgets/controls",
      "_model_module_version": "1.5.0",
      "_model_name": "DescriptionStyleModel",
      "_view_count": null,
      "_view_module": "@jupyter-widgets/base",
      "_view_module_version": "1.2.0",
      "_view_name": "StyleView",
      "description_width": ""
     }
    },
    "7586f2b54502448e82ca135cfb52f3dc": {
     "model_module": "@jupyter-widgets/base",
     "model_module_version": "1.2.0",
     "model_name": "LayoutModel",
     "state": {
      "_model_module": "@jupyter-widgets/base",
      "_model_module_version": "1.2.0",
      "_model_name": "LayoutModel",
      "_view_count": null,
      "_view_module": "@jupyter-widgets/base",
      "_view_module_version": "1.2.0",
      "_view_name": "LayoutView",
      "align_content": null,
      "align_items": null,
      "align_self": null,
      "border": null,
      "bottom": null,
      "display": null,
      "flex": "2",
      "flex_flow": null,
      "grid_area": null,
      "grid_auto_columns": null,
      "grid_auto_flow": null,
      "grid_auto_rows": null,
      "grid_column": null,
      "grid_gap": null,
      "grid_row": null,
      "grid_template_areas": null,
      "grid_template_columns": null,
      "grid_template_rows": null,
      "height": null,
      "justify_content": null,
      "justify_items": null,
      "left": null,
      "margin": null,
      "max_height": null,
      "max_width": null,
      "min_height": null,
      "min_width": null,
      "object_fit": null,
      "object_position": null,
      "order": null,
      "overflow": null,
      "overflow_x": null,
      "overflow_y": null,
      "padding": null,
      "right": null,
      "top": null,
      "visibility": null,
      "width": null
     }
    },
    "77d0a23b43b54b5f9a88e03b9bf6db88": {
     "model_module": "@jupyter-widgets/controls",
     "model_module_version": "1.5.0",
     "model_name": "ProgressStyleModel",
     "state": {
      "_model_module": "@jupyter-widgets/controls",
      "_model_module_version": "1.5.0",
      "_model_name": "ProgressStyleModel",
      "_view_count": null,
      "_view_module": "@jupyter-widgets/base",
      "_view_module_version": "1.2.0",
      "_view_name": "StyleView",
      "bar_color": null,
      "description_width": ""
     }
    },
    "789e5d5f63d54d2b9b8a796ab4f2d54d": {
     "model_module": "@jupyter-widgets/base",
     "model_module_version": "1.2.0",
     "model_name": "LayoutModel",
     "state": {
      "_model_module": "@jupyter-widgets/base",
      "_model_module_version": "1.2.0",
      "_model_name": "LayoutModel",
      "_view_count": null,
      "_view_module": "@jupyter-widgets/base",
      "_view_module_version": "1.2.0",
      "_view_name": "LayoutView",
      "align_content": null,
      "align_items": null,
      "align_self": null,
      "border": null,
      "bottom": null,
      "display": null,
      "flex": null,
      "flex_flow": null,
      "grid_area": null,
      "grid_auto_columns": null,
      "grid_auto_flow": null,
      "grid_auto_rows": null,
      "grid_column": null,
      "grid_gap": null,
      "grid_row": null,
      "grid_template_areas": null,
      "grid_template_columns": null,
      "grid_template_rows": null,
      "height": null,
      "justify_content": null,
      "justify_items": null,
      "left": null,
      "margin": null,
      "max_height": null,
      "max_width": null,
      "min_height": null,
      "min_width": null,
      "object_fit": null,
      "object_position": null,
      "order": null,
      "overflow": null,
      "overflow_x": null,
      "overflow_y": null,
      "padding": null,
      "right": null,
      "top": null,
      "visibility": null,
      "width": null
     }
    },
    "8981a9dddfe44e9386797a627f498510": {
     "model_module": "@jupyter-widgets/base",
     "model_module_version": "1.2.0",
     "model_name": "LayoutModel",
     "state": {
      "_model_module": "@jupyter-widgets/base",
      "_model_module_version": "1.2.0",
      "_model_name": "LayoutModel",
      "_view_count": null,
      "_view_module": "@jupyter-widgets/base",
      "_view_module_version": "1.2.0",
      "_view_name": "LayoutView",
      "align_content": null,
      "align_items": null,
      "align_self": null,
      "border": null,
      "bottom": null,
      "display": null,
      "flex": "2",
      "flex_flow": null,
      "grid_area": null,
      "grid_auto_columns": null,
      "grid_auto_flow": null,
      "grid_auto_rows": null,
      "grid_column": null,
      "grid_gap": null,
      "grid_row": null,
      "grid_template_areas": null,
      "grid_template_columns": null,
      "grid_template_rows": null,
      "height": null,
      "justify_content": null,
      "justify_items": null,
      "left": null,
      "margin": null,
      "max_height": null,
      "max_width": null,
      "min_height": null,
      "min_width": null,
      "object_fit": null,
      "object_position": null,
      "order": null,
      "overflow": null,
      "overflow_x": null,
      "overflow_y": null,
      "padding": null,
      "right": null,
      "top": null,
      "visibility": null,
      "width": null
     }
    },
    "9149c760d61043f8bf16347fd8298026": {
     "model_module": "@jupyter-widgets/controls",
     "model_module_version": "1.5.0",
     "model_name": "HTMLModel",
     "state": {
      "_dom_classes": [],
      "_model_module": "@jupyter-widgets/controls",
      "_model_module_version": "1.5.0",
      "_model_name": "HTMLModel",
      "_view_count": null,
      "_view_module": "@jupyter-widgets/controls",
      "_view_module_version": "1.5.0",
      "_view_name": "HTMLView",
      "description": "",
      "description_tooltip": null,
      "layout": "IPY_MODEL_127176f6d7a642d3bd226ebd7889bfb0",
      "placeholder": "​",
      "style": "IPY_MODEL_7367b7ba1c864f778af67dfe80698745",
      "value": " [100%]   00:00 -&gt; (00:00 left)"
     }
    },
    "9238f0c455424a41966defd5b8858802": {
     "model_module": "@jupyter-widgets/controls",
     "model_module_version": "1.5.0",
     "model_name": "FloatProgressModel",
     "state": {
      "_dom_classes": [],
      "_model_module": "@jupyter-widgets/controls",
      "_model_module_version": "1.5.0",
      "_model_name": "FloatProgressModel",
      "_view_count": null,
      "_view_module": "@jupyter-widgets/controls",
      "_view_module_version": "1.5.0",
      "_view_name": "ProgressView",
      "bar_style": "success",
      "description": "",
      "description_tooltip": null,
      "layout": "IPY_MODEL_e4d7bc332afc4a7db79fe6933ee74866",
      "max": 1,
      "min": 0,
      "orientation": "horizontal",
      "style": "IPY_MODEL_ac5b161178cf4d099d99a5e098d6b697",
      "value": 1
     }
    },
    "9a1077d552f541f4bce56b4730120023": {
     "model_module": "@jupyter-widgets/base",
     "model_module_version": "1.2.0",
     "model_name": "LayoutModel",
     "state": {
      "_model_module": "@jupyter-widgets/base",
      "_model_module_version": "1.2.0",
      "_model_name": "LayoutModel",
      "_view_count": null,
      "_view_module": "@jupyter-widgets/base",
      "_view_module_version": "1.2.0",
      "_view_name": "LayoutView",
      "align_content": null,
      "align_items": null,
      "align_self": null,
      "border": null,
      "bottom": null,
      "display": null,
      "flex": null,
      "flex_flow": null,
      "grid_area": null,
      "grid_auto_columns": null,
      "grid_auto_flow": null,
      "grid_auto_rows": null,
      "grid_column": null,
      "grid_gap": null,
      "grid_row": null,
      "grid_template_areas": null,
      "grid_template_columns": null,
      "grid_template_rows": null,
      "height": null,
      "justify_content": null,
      "justify_items": null,
      "left": null,
      "margin": null,
      "max_height": null,
      "max_width": null,
      "min_height": null,
      "min_width": null,
      "object_fit": null,
      "object_position": null,
      "order": null,
      "overflow": null,
      "overflow_x": null,
      "overflow_y": null,
      "padding": null,
      "right": null,
      "top": null,
      "visibility": null,
      "width": null
     }
    },
    "a8668d28f1c842b0b167d3259b873fc9": {
     "model_module": "@jupyter-widgets/controls",
     "model_module_version": "1.5.0",
     "model_name": "DescriptionStyleModel",
     "state": {
      "_model_module": "@jupyter-widgets/controls",
      "_model_module_version": "1.5.0",
      "_model_name": "DescriptionStyleModel",
      "_view_count": null,
      "_view_module": "@jupyter-widgets/base",
      "_view_module_version": "1.2.0",
      "_view_name": "StyleView",
      "description_width": ""
     }
    },
    "ab77f58777e34556beb82244ea3b169f": {
     "model_module": "@jupyter-widgets/controls",
     "model_module_version": "1.5.0",
     "model_name": "DescriptionStyleModel",
     "state": {
      "_model_module": "@jupyter-widgets/controls",
      "_model_module_version": "1.5.0",
      "_model_name": "DescriptionStyleModel",
      "_view_count": null,
      "_view_module": "@jupyter-widgets/base",
      "_view_module_version": "1.2.0",
      "_view_name": "StyleView",
      "description_width": ""
     }
    },
    "abe9a682227d4625bf6fe302ef364987": {
     "model_module": "@jupyter-widgets/controls",
     "model_module_version": "1.5.0",
     "model_name": "DescriptionStyleModel",
     "state": {
      "_model_module": "@jupyter-widgets/controls",
      "_model_module_version": "1.5.0",
      "_model_name": "DescriptionStyleModel",
      "_view_count": null,
      "_view_module": "@jupyter-widgets/base",
      "_view_module_version": "1.2.0",
      "_view_name": "StyleView",
      "description_width": ""
     }
    },
    "abffe960b870424f990e83ed5cd77c35": {
     "model_module": "@jupyter-widgets/base",
     "model_module_version": "1.2.0",
     "model_name": "LayoutModel",
     "state": {
      "_model_module": "@jupyter-widgets/base",
      "_model_module_version": "1.2.0",
      "_model_name": "LayoutModel",
      "_view_count": null,
      "_view_module": "@jupyter-widgets/base",
      "_view_module_version": "1.2.0",
      "_view_name": "LayoutView",
      "align_content": null,
      "align_items": null,
      "align_self": null,
      "border": null,
      "bottom": null,
      "display": null,
      "flex": null,
      "flex_flow": null,
      "grid_area": null,
      "grid_auto_columns": null,
      "grid_auto_flow": null,
      "grid_auto_rows": null,
      "grid_column": null,
      "grid_gap": null,
      "grid_row": null,
      "grid_template_areas": null,
      "grid_template_columns": null,
      "grid_template_rows": null,
      "height": null,
      "justify_content": null,
      "justify_items": null,
      "left": null,
      "margin": null,
      "max_height": null,
      "max_width": null,
      "min_height": null,
      "min_width": null,
      "object_fit": null,
      "object_position": null,
      "order": null,
      "overflow": null,
      "overflow_x": null,
      "overflow_y": null,
      "padding": null,
      "right": null,
      "top": null,
      "visibility": null,
      "width": null
     }
    },
    "ac5b161178cf4d099d99a5e098d6b697": {
     "model_module": "@jupyter-widgets/controls",
     "model_module_version": "1.5.0",
     "model_name": "ProgressStyleModel",
     "state": {
      "_model_module": "@jupyter-widgets/controls",
      "_model_module_version": "1.5.0",
      "_model_name": "ProgressStyleModel",
      "_view_count": null,
      "_view_module": "@jupyter-widgets/base",
      "_view_module_version": "1.2.0",
      "_view_name": "StyleView",
      "bar_color": null,
      "description_width": ""
     }
    },
    "b8f0e3493b054a25a8b278d2b673edd4": {
     "model_module": "@jupyter-widgets/controls",
     "model_module_version": "1.5.0",
     "model_name": "DescriptionStyleModel",
     "state": {
      "_model_module": "@jupyter-widgets/controls",
      "_model_module_version": "1.5.0",
      "_model_name": "DescriptionStyleModel",
      "_view_count": null,
      "_view_module": "@jupyter-widgets/base",
      "_view_module_version": "1.2.0",
      "_view_name": "StyleView",
      "description_width": ""
     }
    },
    "c05aae8aa2a0454cac3e829b4e538795": {
     "model_module": "@jupyter-widgets/controls",
     "model_module_version": "1.5.0",
     "model_name": "HTMLModel",
     "state": {
      "_dom_classes": [],
      "_model_module": "@jupyter-widgets/controls",
      "_model_module_version": "1.5.0",
      "_model_name": "HTMLModel",
      "_view_count": null,
      "_view_module": "@jupyter-widgets/controls",
      "_view_module_version": "1.5.0",
      "_view_name": "HTMLView",
      "description": "",
      "description_tooltip": null,
      "layout": "IPY_MODEL_9a1077d552f541f4bce56b4730120023",
      "placeholder": "​",
      "style": "IPY_MODEL_abe9a682227d4625bf6fe302ef364987",
      "value": " [100%]   00:01 -&gt; (00:00 left)"
     }
    },
    "c319ba1f5ab34d6a98bec511338a6939": {
     "model_module": "@jupyter-widgets/controls",
     "model_module_version": "1.5.0",
     "model_name": "DescriptionStyleModel",
     "state": {
      "_model_module": "@jupyter-widgets/controls",
      "_model_module_version": "1.5.0",
      "_model_name": "DescriptionStyleModel",
      "_view_count": null,
      "_view_module": "@jupyter-widgets/base",
      "_view_module_version": "1.2.0",
      "_view_name": "StyleView",
      "description_width": ""
     }
    },
    "c9a4731f0c4b4465bc806c386c105338": {
     "model_module": "@jupyter-widgets/controls",
     "model_module_version": "1.5.0",
     "model_name": "HBoxModel",
     "state": {
      "_dom_classes": [],
      "_model_module": "@jupyter-widgets/controls",
      "_model_module_version": "1.5.0",
      "_model_name": "HBoxModel",
      "_view_count": null,
      "_view_module": "@jupyter-widgets/controls",
      "_view_module_version": "1.5.0",
      "_view_name": "HBoxView",
      "box_style": "",
      "children": [
       "IPY_MODEL_1b12287187894622a8849b4fe60815ed",
       "IPY_MODEL_0f7fdc05df7c4677add22188e6450a50",
       "IPY_MODEL_c05aae8aa2a0454cac3e829b4e538795"
      ],
      "layout": "IPY_MODEL_4cb79363ab1f42168af348a61ab71149"
     }
    },
    "ce667d171e8e497ab2cefbe6e33fbdc9": {
     "model_module": "@jupyter-widgets/controls",
     "model_module_version": "1.5.0",
     "model_name": "HBoxModel",
     "state": {
      "_dom_classes": [],
      "_model_module": "@jupyter-widgets/controls",
      "_model_module_version": "1.5.0",
      "_model_name": "HBoxModel",
      "_view_count": null,
      "_view_module": "@jupyter-widgets/controls",
      "_view_module_version": "1.5.0",
      "_view_name": "HBoxView",
      "box_style": "",
      "children": [
       "IPY_MODEL_58e1987af39148d19b63dd24b8b560a6",
       "IPY_MODEL_2756bbf9b90544d0ace407a4a5f24011",
       "IPY_MODEL_42919d3d07924d69a2f3840cd9cd58ca"
      ],
      "layout": "IPY_MODEL_f69ffaaae9264bf4b1e27bcda8d6e229"
     }
    },
    "ddfa0ce579244584b406826f5b7e81b3": {
     "model_module": "@jupyter-widgets/base",
     "model_module_version": "1.2.0",
     "model_name": "LayoutModel",
     "state": {
      "_model_module": "@jupyter-widgets/base",
      "_model_module_version": "1.2.0",
      "_model_name": "LayoutModel",
      "_view_count": null,
      "_view_module": "@jupyter-widgets/base",
      "_view_module_version": "1.2.0",
      "_view_name": "LayoutView",
      "align_content": null,
      "align_items": null,
      "align_self": null,
      "border": null,
      "bottom": null,
      "display": null,
      "flex": null,
      "flex_flow": null,
      "grid_area": null,
      "grid_auto_columns": null,
      "grid_auto_flow": null,
      "grid_auto_rows": null,
      "grid_column": null,
      "grid_gap": null,
      "grid_row": null,
      "grid_template_areas": null,
      "grid_template_columns": null,
      "grid_template_rows": null,
      "height": null,
      "justify_content": null,
      "justify_items": null,
      "left": null,
      "margin": null,
      "max_height": null,
      "max_width": null,
      "min_height": null,
      "min_width": null,
      "object_fit": null,
      "object_position": null,
      "order": null,
      "overflow": null,
      "overflow_x": null,
      "overflow_y": null,
      "padding": null,
      "right": null,
      "top": null,
      "visibility": null,
      "width": null
     }
    },
    "e31d86d15f954ed5a1d5d77fb1b2d796": {
     "model_module": "@jupyter-widgets/controls",
     "model_module_version": "1.5.0",
     "model_name": "DescriptionStyleModel",
     "state": {
      "_model_module": "@jupyter-widgets/controls",
      "_model_module_version": "1.5.0",
      "_model_name": "DescriptionStyleModel",
      "_view_count": null,
      "_view_module": "@jupyter-widgets/base",
      "_view_module_version": "1.2.0",
      "_view_name": "StyleView",
      "description_width": ""
     }
    },
    "e4d7bc332afc4a7db79fe6933ee74866": {
     "model_module": "@jupyter-widgets/base",
     "model_module_version": "1.2.0",
     "model_name": "LayoutModel",
     "state": {
      "_model_module": "@jupyter-widgets/base",
      "_model_module_version": "1.2.0",
      "_model_name": "LayoutModel",
      "_view_count": null,
      "_view_module": "@jupyter-widgets/base",
      "_view_module_version": "1.2.0",
      "_view_name": "LayoutView",
      "align_content": null,
      "align_items": null,
      "align_self": null,
      "border": null,
      "bottom": null,
      "display": null,
      "flex": "2",
      "flex_flow": null,
      "grid_area": null,
      "grid_auto_columns": null,
      "grid_auto_flow": null,
      "grid_auto_rows": null,
      "grid_column": null,
      "grid_gap": null,
      "grid_row": null,
      "grid_template_areas": null,
      "grid_template_columns": null,
      "grid_template_rows": null,
      "height": null,
      "justify_content": null,
      "justify_items": null,
      "left": null,
      "margin": null,
      "max_height": null,
      "max_width": null,
      "min_height": null,
      "min_width": null,
      "object_fit": null,
      "object_position": null,
      "order": null,
      "overflow": null,
      "overflow_x": null,
      "overflow_y": null,
      "padding": null,
      "right": null,
      "top": null,
      "visibility": null,
      "width": null
     }
    },
    "e50b240c6232479db902421c2b19a84e": {
     "model_module": "@jupyter-widgets/controls",
     "model_module_version": "1.5.0",
     "model_name": "HBoxModel",
     "state": {
      "_dom_classes": [],
      "_model_module": "@jupyter-widgets/controls",
      "_model_module_version": "1.5.0",
      "_model_name": "HBoxModel",
      "_view_count": null,
      "_view_module": "@jupyter-widgets/controls",
      "_view_module_version": "1.5.0",
      "_view_name": "HBoxView",
      "box_style": "",
      "children": [
       "IPY_MODEL_1a0788e593e3475397c7bd3d57f7e150",
       "IPY_MODEL_072d2183d81049c49549fed7b4ad5b9a",
       "IPY_MODEL_fb70e652522d45e898ccd675bf8b38e2"
      ],
      "layout": "IPY_MODEL_101c1f6e5bff4489b541d0d6fd7e81a6"
     }
    },
    "f69ffaaae9264bf4b1e27bcda8d6e229": {
     "model_module": "@jupyter-widgets/base",
     "model_module_version": "1.2.0",
     "model_name": "LayoutModel",
     "state": {
      "_model_module": "@jupyter-widgets/base",
      "_model_module_version": "1.2.0",
      "_model_name": "LayoutModel",
      "_view_count": null,
      "_view_module": "@jupyter-widgets/base",
      "_view_module_version": "1.2.0",
      "_view_name": "LayoutView",
      "align_content": null,
      "align_items": null,
      "align_self": null,
      "border": null,
      "bottom": null,
      "display": "inline-flex",
      "flex": null,
      "flex_flow": "row wrap",
      "grid_area": null,
      "grid_auto_columns": null,
      "grid_auto_flow": null,
      "grid_auto_rows": null,
      "grid_column": null,
      "grid_gap": null,
      "grid_row": null,
      "grid_template_areas": null,
      "grid_template_columns": null,
      "grid_template_rows": null,
      "height": null,
      "justify_content": null,
      "justify_items": null,
      "left": null,
      "margin": null,
      "max_height": null,
      "max_width": null,
      "min_height": null,
      "min_width": null,
      "object_fit": null,
      "object_position": null,
      "order": null,
      "overflow": null,
      "overflow_x": null,
      "overflow_y": null,
      "padding": null,
      "right": null,
      "top": null,
      "visibility": null,
      "width": "100%"
     }
    },
    "fb70e652522d45e898ccd675bf8b38e2": {
     "model_module": "@jupyter-widgets/controls",
     "model_module_version": "1.5.0",
     "model_name": "HTMLModel",
     "state": {
      "_dom_classes": [],
      "_model_module": "@jupyter-widgets/controls",
      "_model_module_version": "1.5.0",
      "_model_name": "HTMLModel",
      "_view_count": null,
      "_view_module": "@jupyter-widgets/controls",
      "_view_module_version": "1.5.0",
      "_view_name": "HTMLView",
      "description": "",
      "description_tooltip": null,
      "layout": "IPY_MODEL_6c35419ed5ac4903938cbaf55ac7be32",
      "placeholder": "​",
      "style": "IPY_MODEL_a8668d28f1c842b0b167d3259b873fc9",
      "value": " [100%]   00:01 -&gt; (00:00 left)"
     }
    }
   }
  }
 },
 "nbformat": 4,
 "nbformat_minor": 1
}
